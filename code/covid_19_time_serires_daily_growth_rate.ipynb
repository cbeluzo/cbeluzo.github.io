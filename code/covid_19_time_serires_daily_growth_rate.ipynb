{
 "cells": [
  {
   "cell_type": "markdown",
   "metadata": {},
   "source": [
    "## <strong> Filename: </strong> <em>covid_19_time_serires_daily_growth_rate.ipynb<em>\n",
    "##### <strong>Description:</strong> <em>COVID-19 Daily Growth Rate (DGR) in the world using dataset provided by https://data.humdata.org/dataset/novel-coronavirus-2019-ncov-cases</em>\n",
    "##### <strong>Author:</strong> <em> Carlos Eduardo Beluzo (cbeluzo@gmail.com)</em>\n",
    "##### <strong>Creation:</strong> <em> Mar/2020 </em>\n",
    "##### <strong>Version:</strong> <em> 2020.03-1 </em>"
   ]
  },
  {
   "cell_type": "code",
   "execution_count": 2,
   "metadata": {},
   "outputs": [
    {
     "name": "stderr",
     "output_type": "stream",
     "text": [
      "/home/cbeluzo/anaconda3/lib/python3.7/site-packages/ipykernel_launcher.py:31: RuntimeWarning:\n",
      "\n",
      "divide by zero encountered in true_divide\n",
      "\n",
      "/home/cbeluzo/anaconda3/lib/python3.7/site-packages/ipykernel_launcher.py:31: RuntimeWarning:\n",
      "\n",
      "invalid value encountered in true_divide\n",
      "\n"
     ]
    }
   ],
   "source": [
    "import numpy as np\n",
    "import pandas as pd\n",
    "import seaborn as sns\n",
    "import plotly.graph_objects as go\n",
    "import plotly as plt\n",
    "import datetime as dt\n",
    "import math \n",
    "\n",
    "df = pd.read_csv('https://raw.githubusercontent.com/CSSEGISandData/COVID-19/master/csse_covid_19_data/csse_covid_19_time_series/time_series_19-covid-Confirmed.csv')\n",
    "df['Province/State'] = df['Province/State'].fillna('n/a')\n",
    "df = df.fillna(0)\n",
    "dfA = df.drop(['Province/State','Lat','Long'], axis = 1)\n",
    "dfA = dfA.groupby('Country/Region').sum().T\n",
    "dfA = dfA.reset_index()\n",
    "dfA = dfA.rename(columns = {'index':'Day'})\n",
    "dfA[['Day']] = pd.to_datetime(dfA['Day'])\n",
    "\n",
    "#dfA.head()\n",
    "\n",
    "#Calculate crescimento rate\n",
    "dfFinal = dfA.copy()\n",
    "\n",
    "for country in dfA.columns[1:]:\n",
    "    dfCountry = pd.DataFrame(dfA[[country]])\n",
    "    dfAux = pd.DataFrame(dfCountry[country][1:])\n",
    "    dfAux = dfAux.reset_index()\n",
    "    dfAux = dfAux.drop(['index'], axis=1)\n",
    "    dfAux = dfAux.append({country : 0} , ignore_index=True)\n",
    "    dfCountry['next'] = dfAux\n",
    "    dfAux['ori'] = dfCountry[country]\n",
    "    dfCountry['rate'] = np.array((100 * dfAux[country].values / dfAux['ori'].values) - 100)\n",
    "    dfCountry.loc[dfCountry['rate'] == -100] = 0\n",
    "    dfCountry.loc[dfCountry['rate'] == np.inf] = 0\n",
    "    dfCountry = dfCountry.fillna(0)\n",
    "    rate = str('rate'+'_'+country)\n",
    "    dfFinal[rate] = dfCountry['rate']\n",
    "\n",
    "#dfFinal[['Brazil','rate_Brazil']].tail()\n",
    "\n",
    "# Prepare dataset\n",
    "df1 = pd.DataFrame({'Day':'','country':'','cases':int(),'rate':float()}, index=[1])\n",
    "df1 = df1.drop(df1.index)\n",
    "\n",
    "for country in dfA.columns[1:]:\n",
    "    rate = str('rate' + '_' + country)\n",
    "    dfAux = pd.DataFrame(dfFinal[['Day',country,country,rate]])\n",
    "    dfAux.columns = ['Day','country','cases','rate']\n",
    "    dfAux['country'] = country\n",
    "    df1 = df1.append(dfAux)\n",
    "\n",
    "df1 = df1.reset_index()\n",
    "df1 = df1.drop(['index'], axis=1)\n",
    "#df1.loc[df1.country == 'Brazil'].tail()\n"
   ]
  },
  {
   "cell_type": "code",
   "execution_count": 3,
   "metadata": {},
   "outputs": [
    {
     "name": "stderr",
     "output_type": "stream",
     "text": [
      "/home/cbeluzo/anaconda3/lib/python3.7/site-packages/ipykernel_launcher.py:13: RuntimeWarning:\n",
      "\n",
      "divide by zero encountered in log\n",
      "\n"
     ]
    }
   ],
   "source": [
    "# Plot Graph\n",
    "fig = go.Figure()\n",
    "last_upt = dt.date.today() - dt.timedelta(days=1)\n",
    "\n",
    "title = 'COVID-19 Daily Growth Rate (DGR) (' + \"{:%d, %b %Y}\".format(last_upt) +')'\n",
    "autor = 'Author: Prof. Carlos Ed Beluzo - cbeluzo@gmail.com'\n",
    "data_source= 'Data source: data.humdata.org'\n",
    "\n",
    "for country in df1.country.unique():\n",
    "#for country in ['Brazil','Canada','China']:\n",
    "    a = df1.Day\n",
    "    b = df1.loc[df1['country'] == country]\n",
    "    ratio_size = np.log(b.cases)\n",
    "    ratio_size[np.isneginf(ratio_size)] = 1\n",
    "    ratio_size = ratio_size * 2 + 10\n",
    "    \n",
    "    fig.add_trace(go.Scatter(x=a, y=b.rate, \n",
    "                             mode='lines+markers', \n",
    "                             name=country,\n",
    "                             line=dict(width=0.5),\n",
    "                             text=b.cases,\n",
    "                             marker = dict(size = ratio_size,\n",
    "                                           opacity= 0.3,\n",
    "                                           line = dict(width = 0.5,\n",
    "                                                       color = 'rgb(0, 0, 0)')\n",
    "                                          )\n",
    "                             #TODO Hovertemplete colocar (%) e nome das colunas\n",
    "                            ))\n",
    "\n",
    "annotations = []\n",
    "\n",
    "# Source\n",
    "annotations.append(dict(xref='paper', yref='paper', x=0.25, y=1.09,\n",
    "                              xanchor='center', yanchor='top',\n",
    "                              text=autor + ' | ' + data_source,\n",
    "                              font=dict(family='Arial',\n",
    "                                        size=12,\n",
    "                                        color='rgb(150,150,150)'),\n",
    "                              showarrow=False))\n",
    "\n",
    "fig.update_layout(annotations=annotations,\n",
    "                  xaxis_title='Days',\n",
    "                  yaxis_title='Daily Growth Rate (%)',\n",
    "                  yaxis_type=\"log\",\n",
    "                  title_text=title)\n",
    "\n",
    "#fig.show()\n",
    "plt.offline.plot(fig, filename=\"html/covid_19_time_serires_daily_growth_rate.html\")\n",
    "df1.to_csv(r'data/covid_19_time_serires_daily_growth_rate.csv', index = False, header=True)"
   ]
  }
 ],
 "metadata": {
  "kernelspec": {
   "display_name": "Python 3",
   "language": "python",
   "name": "python3"
  },
  "language_info": {
   "codemirror_mode": {
    "name": "ipython",
    "version": 3
   },
   "file_extension": ".py",
   "mimetype": "text/x-python",
   "name": "python",
   "nbconvert_exporter": "python",
   "pygments_lexer": "ipython3",
   "version": "3.7.3"
  }
 },
 "nbformat": 4,
 "nbformat_minor": 2
}
