{
 "cells": [
  {
   "cell_type": "markdown",
   "metadata": {},
   "source": [
    "### <strong> Filename: </strong> <em>covid_19_time_series_comfirmed_cases.ipynb<em>\n",
    "##### <strong>Description:</strong> <em>Creates an Scatter plot of all confirmed cases of COVID-19 in the world using dataset provided by https://data.humdata.org/dataset/novel-coronavirus-2019-ncov-cases</em>\n",
    "##### <strong>Author:</strong> <em> Carlos Eduardo Beluzo (cbeluzo@gmail.com)</em>\n",
    "##### <strong>Creation:</strong> <em> Mar/2020 </em>\n",
    "##### <strong>Version:</strong> <em> 2020.03-3 </em>"
   ]
  },
  {
   "cell_type": "code",
   "execution_count": 93,
   "metadata": {},
   "outputs": [
    {
     "data": {
      "application/vnd.plotly.v1+json": {
       "config": {
        "plotlyServerURL": "https://plot.ly"
       },
       "data": [
        {
         "hovertemplate": "<b>%{text}</b><br><b>Day</b>: %{x}<br><b>Confirmed Cases</b>: %{y}<br><extra></extra>",
         "line": {
          "width": 0.5
         },
         "marker": {
          "line": {
           "color": "rgb(0, 0, 0)",
           "width": 0.5
          },
          "opacity": 0.3
         },
         "mode": "lines",
         "name": "Brazil Confirmed",
         "text": [
          [
           "Brazil"
          ],
          [
           "Brazil"
          ],
          [
           "Brazil"
          ],
          [
           "Brazil"
          ],
          [
           "Brazil"
          ],
          [
           "Brazil"
          ],
          [
           "Brazil"
          ],
          [
           "Brazil"
          ],
          [
           "Brazil"
          ],
          [
           "Brazil"
          ],
          [
           "Brazil"
          ],
          [
           "Brazil"
          ],
          [
           "Brazil"
          ],
          [
           "Brazil"
          ],
          [
           "Brazil"
          ],
          [
           "Brazil"
          ],
          [
           "Brazil"
          ],
          [
           "Brazil"
          ],
          [
           "Brazil"
          ],
          [
           "Brazil"
          ],
          [
           "Brazil"
          ],
          [
           "Brazil"
          ],
          [
           "Brazil"
          ],
          [
           "Brazil"
          ],
          [
           "Brazil"
          ],
          [
           "Brazil"
          ],
          [
           "Brazil"
          ],
          [
           "Brazil"
          ],
          [
           "Brazil"
          ],
          [
           "Brazil"
          ],
          [
           "Brazil"
          ],
          [
           "Brazil"
          ],
          [
           "Brazil"
          ],
          [
           "Brazil"
          ],
          [
           "Brazil"
          ],
          [
           "Brazil"
          ],
          [
           "Brazil"
          ],
          [
           "Brazil"
          ],
          [
           "Brazil"
          ],
          [
           "Brazil"
          ],
          [
           "Brazil"
          ],
          [
           "Brazil"
          ],
          [
           "Brazil"
          ],
          [
           "Brazil"
          ],
          [
           "Brazil"
          ],
          [
           "Brazil"
          ],
          [
           "Brazil"
          ],
          [
           "Brazil"
          ],
          [
           "Brazil"
          ],
          [
           "Brazil"
          ],
          [
           "Brazil"
          ],
          [
           "Brazil"
          ],
          [
           "Brazil"
          ],
          [
           "Brazil"
          ],
          [
           "Brazil"
          ],
          [
           "Brazil"
          ],
          [
           "Brazil"
          ],
          [
           "Brazil"
          ],
          [
           "Brazil"
          ],
          [
           "Brazil"
          ],
          [
           "Brazil"
          ],
          [
           "Brazil"
          ],
          [
           "Brazil"
          ],
          [
           "Brazil"
          ],
          [
           "Brazil"
          ],
          [
           "Brazil"
          ],
          [
           "Brazil"
          ],
          [
           "Brazil"
          ],
          [
           "Brazil"
          ],
          [
           "Brazil"
          ],
          [
           "Brazil"
          ],
          [
           "Brazil"
          ],
          [
           "Brazil"
          ],
          [
           "Brazil"
          ],
          [
           "Brazil"
          ],
          [
           "Brazil"
          ],
          [
           "Brazil"
          ],
          [
           "Brazil"
          ],
          [
           "Brazil"
          ],
          [
           "Brazil"
          ],
          [
           "Brazil"
          ],
          [
           "Brazil"
          ],
          [
           "Brazil"
          ],
          [
           "Brazil"
          ],
          [
           "Brazil"
          ],
          [
           "Brazil"
          ],
          [
           "Brazil"
          ],
          [
           "Brazil"
          ],
          [
           "Brazil"
          ],
          [
           "Brazil"
          ],
          [
           "Brazil"
          ],
          [
           "Brazil"
          ],
          [
           "Brazil"
          ],
          [
           "Brazil"
          ],
          [
           "Brazil"
          ],
          [
           "Brazil"
          ],
          [
           "Brazil"
          ],
          [
           "Brazil"
          ],
          [
           "Brazil"
          ],
          [
           "Brazil"
          ],
          [
           "Brazil"
          ],
          [
           "Brazil"
          ],
          [
           "Brazil"
          ],
          [
           "Brazil"
          ],
          [
           "Brazil"
          ],
          [
           "Brazil"
          ],
          [
           "Brazil"
          ],
          [
           "Brazil"
          ],
          [
           "Brazil"
          ],
          [
           "Brazil"
          ],
          [
           "Brazil"
          ],
          [
           "Brazil"
          ],
          [
           "Brazil"
          ],
          [
           "Brazil"
          ],
          [
           "Brazil"
          ],
          [
           "Brazil"
          ],
          [
           "Brazil"
          ],
          [
           "Brazil"
          ],
          [
           "Brazil"
          ],
          [
           "Brazil"
          ],
          [
           "Brazil"
          ],
          [
           "Brazil"
          ],
          [
           "Brazil"
          ],
          [
           "Brazil"
          ],
          [
           "Brazil"
          ],
          [
           "Brazil"
          ],
          [
           "Brazil"
          ],
          [
           "Brazil"
          ],
          [
           "Brazil"
          ],
          [
           "Brazil"
          ],
          [
           "Brazil"
          ],
          [
           "Brazil"
          ],
          [
           "Brazil"
          ],
          [
           "Brazil"
          ],
          [
           "Brazil"
          ],
          [
           "Brazil"
          ],
          [
           "Brazil"
          ],
          [
           "Brazil"
          ],
          [
           "Brazil"
          ],
          [
           "Brazil"
          ],
          [
           "Brazil"
          ],
          [
           "Brazil"
          ],
          [
           "Brazil"
          ],
          [
           "Brazil"
          ],
          [
           "Brazil"
          ],
          [
           "Brazil"
          ],
          [
           "Brazil"
          ],
          [
           "Brazil"
          ],
          [
           "Brazil"
          ],
          [
           "Brazil"
          ],
          [
           "Brazil"
          ],
          [
           "Brazil"
          ],
          [
           "Brazil"
          ],
          [
           "Brazil"
          ],
          [
           "Brazil"
          ],
          [
           "Brazil"
          ],
          [
           "Brazil"
          ],
          [
           "Brazil"
          ],
          [
           "Brazil"
          ],
          [
           "Brazil"
          ],
          [
           "Brazil"
          ],
          [
           "Brazil"
          ],
          [
           "Brazil"
          ],
          [
           "Brazil"
          ],
          [
           "Brazil"
          ],
          [
           "Brazil"
          ],
          [
           "Brazil"
          ],
          [
           "Brazil"
          ],
          [
           "Brazil"
          ],
          [
           "Brazil"
          ],
          [
           "Brazil"
          ],
          [
           "Brazil"
          ],
          [
           "Brazil"
          ],
          [
           "Brazil"
          ],
          [
           "Brazil"
          ],
          [
           "Brazil"
          ],
          [
           "Brazil"
          ],
          [
           "Brazil"
          ]
         ],
         "type": "scatter",
         "x": [
          "2020-01-22T00:00:00",
          "2020-01-23T00:00:00",
          "2020-01-24T00:00:00",
          "2020-01-25T00:00:00",
          "2020-01-26T00:00:00",
          "2020-01-27T00:00:00",
          "2020-01-28T00:00:00",
          "2020-01-29T00:00:00",
          "2020-01-30T00:00:00",
          "2020-01-31T00:00:00",
          "2020-02-01T00:00:00",
          "2020-02-02T00:00:00",
          "2020-02-03T00:00:00",
          "2020-02-04T00:00:00",
          "2020-02-05T00:00:00",
          "2020-02-06T00:00:00",
          "2020-02-07T00:00:00",
          "2020-02-08T00:00:00",
          "2020-02-09T00:00:00",
          "2020-02-10T00:00:00",
          "2020-02-11T00:00:00",
          "2020-02-12T00:00:00",
          "2020-02-13T00:00:00",
          "2020-02-14T00:00:00",
          "2020-02-15T00:00:00",
          "2020-02-16T00:00:00",
          "2020-02-17T00:00:00",
          "2020-02-18T00:00:00",
          "2020-02-19T00:00:00",
          "2020-02-20T00:00:00",
          "2020-02-21T00:00:00",
          "2020-02-22T00:00:00",
          "2020-02-23T00:00:00",
          "2020-02-24T00:00:00",
          "2020-02-25T00:00:00",
          "2020-02-26T00:00:00",
          "2020-02-27T00:00:00",
          "2020-02-28T00:00:00",
          "2020-02-29T00:00:00",
          "2020-03-01T00:00:00",
          "2020-03-02T00:00:00",
          "2020-03-03T00:00:00",
          "2020-03-04T00:00:00",
          "2020-03-05T00:00:00",
          "2020-03-06T00:00:00",
          "2020-03-07T00:00:00",
          "2020-03-08T00:00:00",
          "2020-03-09T00:00:00",
          "2020-03-10T00:00:00",
          "2020-03-11T00:00:00",
          "2020-03-12T00:00:00",
          "2020-03-13T00:00:00",
          "2020-03-14T00:00:00",
          "2020-03-15T00:00:00",
          "2020-03-16T00:00:00",
          "2020-03-17T00:00:00",
          "2020-03-18T00:00:00",
          "2020-03-19T00:00:00",
          "2020-03-20T00:00:00",
          "2020-03-21T00:00:00",
          "2020-03-22T00:00:00",
          "2020-03-23T00:00:00",
          "2020-03-24T00:00:00",
          "2020-03-25T00:00:00",
          "2020-03-26T00:00:00",
          "2020-03-27T00:00:00",
          "2020-03-28T00:00:00"
         ],
         "y": [
          0,
          0,
          0,
          0,
          0,
          0,
          0,
          0,
          0,
          0,
          0,
          0,
          0,
          0,
          0,
          0,
          0,
          0,
          0,
          0,
          0,
          0,
          0,
          0,
          0,
          0,
          0,
          0,
          0,
          0,
          0,
          0,
          0,
          0,
          0,
          1,
          1,
          1,
          2,
          2,
          2,
          2,
          4,
          4,
          13,
          13,
          20,
          25,
          31,
          38,
          52,
          151,
          151,
          162,
          200,
          321,
          372,
          621,
          793,
          1021,
          1546,
          1924,
          2247,
          2554,
          2985,
          3417,
          3904
         ]
        },
        {
         "hovertemplate": "<b>%{text}</b><br><b>Day</b>: %{x}<br><b>Deaths</b>: %{y}<br><extra></extra>",
         "line": {
          "dash": "dash",
          "width": 0.9
         },
         "marker": {
          "line": {
           "color": "rgb(0, 0, 0)",
           "width": 0.5
          },
          "opacity": 0.3
         },
         "mode": "lines",
         "name": "Brazil Deaths",
         "text": [
          [
           "Brazil"
          ],
          [
           "Brazil"
          ],
          [
           "Brazil"
          ],
          [
           "Brazil"
          ],
          [
           "Brazil"
          ],
          [
           "Brazil"
          ],
          [
           "Brazil"
          ],
          [
           "Brazil"
          ],
          [
           "Brazil"
          ],
          [
           "Brazil"
          ],
          [
           "Brazil"
          ],
          [
           "Brazil"
          ],
          [
           "Brazil"
          ],
          [
           "Brazil"
          ],
          [
           "Brazil"
          ],
          [
           "Brazil"
          ],
          [
           "Brazil"
          ],
          [
           "Brazil"
          ],
          [
           "Brazil"
          ],
          [
           "Brazil"
          ],
          [
           "Brazil"
          ],
          [
           "Brazil"
          ],
          [
           "Brazil"
          ],
          [
           "Brazil"
          ],
          [
           "Brazil"
          ],
          [
           "Brazil"
          ],
          [
           "Brazil"
          ],
          [
           "Brazil"
          ],
          [
           "Brazil"
          ],
          [
           "Brazil"
          ],
          [
           "Brazil"
          ],
          [
           "Brazil"
          ],
          [
           "Brazil"
          ],
          [
           "Brazil"
          ],
          [
           "Brazil"
          ],
          [
           "Brazil"
          ],
          [
           "Brazil"
          ],
          [
           "Brazil"
          ],
          [
           "Brazil"
          ],
          [
           "Brazil"
          ],
          [
           "Brazil"
          ],
          [
           "Brazil"
          ],
          [
           "Brazil"
          ],
          [
           "Brazil"
          ],
          [
           "Brazil"
          ],
          [
           "Brazil"
          ],
          [
           "Brazil"
          ],
          [
           "Brazil"
          ],
          [
           "Brazil"
          ],
          [
           "Brazil"
          ],
          [
           "Brazil"
          ],
          [
           "Brazil"
          ],
          [
           "Brazil"
          ],
          [
           "Brazil"
          ],
          [
           "Brazil"
          ],
          [
           "Brazil"
          ],
          [
           "Brazil"
          ],
          [
           "Brazil"
          ],
          [
           "Brazil"
          ],
          [
           "Brazil"
          ],
          [
           "Brazil"
          ],
          [
           "Brazil"
          ],
          [
           "Brazil"
          ],
          [
           "Brazil"
          ],
          [
           "Brazil"
          ],
          [
           "Brazil"
          ],
          [
           "Brazil"
          ],
          [
           "Brazil"
          ],
          [
           "Brazil"
          ],
          [
           "Brazil"
          ],
          [
           "Brazil"
          ],
          [
           "Brazil"
          ],
          [
           "Brazil"
          ],
          [
           "Brazil"
          ],
          [
           "Brazil"
          ],
          [
           "Brazil"
          ],
          [
           "Brazil"
          ],
          [
           "Brazil"
          ],
          [
           "Brazil"
          ],
          [
           "Brazil"
          ],
          [
           "Brazil"
          ],
          [
           "Brazil"
          ],
          [
           "Brazil"
          ],
          [
           "Brazil"
          ],
          [
           "Brazil"
          ],
          [
           "Brazil"
          ],
          [
           "Brazil"
          ],
          [
           "Brazil"
          ],
          [
           "Brazil"
          ],
          [
           "Brazil"
          ],
          [
           "Brazil"
          ],
          [
           "Brazil"
          ],
          [
           "Brazil"
          ],
          [
           "Brazil"
          ],
          [
           "Brazil"
          ],
          [
           "Brazil"
          ],
          [
           "Brazil"
          ],
          [
           "Brazil"
          ],
          [
           "Brazil"
          ],
          [
           "Brazil"
          ],
          [
           "Brazil"
          ],
          [
           "Brazil"
          ],
          [
           "Brazil"
          ],
          [
           "Brazil"
          ],
          [
           "Brazil"
          ],
          [
           "Brazil"
          ],
          [
           "Brazil"
          ],
          [
           "Brazil"
          ],
          [
           "Brazil"
          ],
          [
           "Brazil"
          ],
          [
           "Brazil"
          ],
          [
           "Brazil"
          ],
          [
           "Brazil"
          ],
          [
           "Brazil"
          ],
          [
           "Brazil"
          ],
          [
           "Brazil"
          ],
          [
           "Brazil"
          ],
          [
           "Brazil"
          ],
          [
           "Brazil"
          ],
          [
           "Brazil"
          ],
          [
           "Brazil"
          ],
          [
           "Brazil"
          ],
          [
           "Brazil"
          ],
          [
           "Brazil"
          ],
          [
           "Brazil"
          ],
          [
           "Brazil"
          ],
          [
           "Brazil"
          ],
          [
           "Brazil"
          ],
          [
           "Brazil"
          ],
          [
           "Brazil"
          ],
          [
           "Brazil"
          ],
          [
           "Brazil"
          ],
          [
           "Brazil"
          ],
          [
           "Brazil"
          ],
          [
           "Brazil"
          ],
          [
           "Brazil"
          ],
          [
           "Brazil"
          ],
          [
           "Brazil"
          ],
          [
           "Brazil"
          ],
          [
           "Brazil"
          ],
          [
           "Brazil"
          ],
          [
           "Brazil"
          ],
          [
           "Brazil"
          ],
          [
           "Brazil"
          ],
          [
           "Brazil"
          ],
          [
           "Brazil"
          ],
          [
           "Brazil"
          ],
          [
           "Brazil"
          ],
          [
           "Brazil"
          ],
          [
           "Brazil"
          ],
          [
           "Brazil"
          ],
          [
           "Brazil"
          ],
          [
           "Brazil"
          ],
          [
           "Brazil"
          ],
          [
           "Brazil"
          ],
          [
           "Brazil"
          ],
          [
           "Brazil"
          ],
          [
           "Brazil"
          ],
          [
           "Brazil"
          ],
          [
           "Brazil"
          ],
          [
           "Brazil"
          ],
          [
           "Brazil"
          ],
          [
           "Brazil"
          ],
          [
           "Brazil"
          ],
          [
           "Brazil"
          ],
          [
           "Brazil"
          ],
          [
           "Brazil"
          ],
          [
           "Brazil"
          ],
          [
           "Brazil"
          ],
          [
           "Brazil"
          ],
          [
           "Brazil"
          ],
          [
           "Brazil"
          ],
          [
           "Brazil"
          ],
          [
           "Brazil"
          ],
          [
           "Brazil"
          ],
          [
           "Brazil"
          ],
          [
           "Brazil"
          ],
          [
           "Brazil"
          ]
         ],
         "type": "scatter",
         "x": [
          "2020-01-22T00:00:00",
          "2020-01-23T00:00:00",
          "2020-01-24T00:00:00",
          "2020-01-25T00:00:00",
          "2020-01-26T00:00:00",
          "2020-01-27T00:00:00",
          "2020-01-28T00:00:00",
          "2020-01-29T00:00:00",
          "2020-01-30T00:00:00",
          "2020-01-31T00:00:00",
          "2020-02-01T00:00:00",
          "2020-02-02T00:00:00",
          "2020-02-03T00:00:00",
          "2020-02-04T00:00:00",
          "2020-02-05T00:00:00",
          "2020-02-06T00:00:00",
          "2020-02-07T00:00:00",
          "2020-02-08T00:00:00",
          "2020-02-09T00:00:00",
          "2020-02-10T00:00:00",
          "2020-02-11T00:00:00",
          "2020-02-12T00:00:00",
          "2020-02-13T00:00:00",
          "2020-02-14T00:00:00",
          "2020-02-15T00:00:00",
          "2020-02-16T00:00:00",
          "2020-02-17T00:00:00",
          "2020-02-18T00:00:00",
          "2020-02-19T00:00:00",
          "2020-02-20T00:00:00",
          "2020-02-21T00:00:00",
          "2020-02-22T00:00:00",
          "2020-02-23T00:00:00",
          "2020-02-24T00:00:00",
          "2020-02-25T00:00:00",
          "2020-02-26T00:00:00",
          "2020-02-27T00:00:00",
          "2020-02-28T00:00:00",
          "2020-02-29T00:00:00",
          "2020-03-01T00:00:00",
          "2020-03-02T00:00:00",
          "2020-03-03T00:00:00",
          "2020-03-04T00:00:00",
          "2020-03-05T00:00:00",
          "2020-03-06T00:00:00",
          "2020-03-07T00:00:00",
          "2020-03-08T00:00:00",
          "2020-03-09T00:00:00",
          "2020-03-10T00:00:00",
          "2020-03-11T00:00:00",
          "2020-03-12T00:00:00",
          "2020-03-13T00:00:00",
          "2020-03-14T00:00:00",
          "2020-03-15T00:00:00",
          "2020-03-16T00:00:00",
          "2020-03-17T00:00:00",
          "2020-03-18T00:00:00",
          "2020-03-19T00:00:00",
          "2020-03-20T00:00:00",
          "2020-03-21T00:00:00",
          "2020-03-22T00:00:00",
          "2020-03-23T00:00:00",
          "2020-03-24T00:00:00",
          "2020-03-25T00:00:00",
          "2020-03-26T00:00:00",
          "2020-03-27T00:00:00",
          "2020-03-28T00:00:00"
         ],
         "y": [
          0,
          0,
          0,
          0,
          0,
          0,
          0,
          0,
          0,
          0,
          0,
          0,
          0,
          0,
          0,
          0,
          0,
          0,
          0,
          0,
          0,
          0,
          0,
          0,
          0,
          0,
          0,
          0,
          0,
          0,
          0,
          0,
          0,
          0,
          0,
          0,
          0,
          0,
          0,
          0,
          0,
          0,
          0,
          0,
          0,
          0,
          0,
          0,
          0,
          0,
          0,
          0,
          0,
          0,
          0,
          1,
          3,
          6,
          11,
          15,
          25,
          34,
          46,
          59,
          77,
          92,
          111
         ]
        },
        {
         "hovertemplate": "<b>%{text}</b><br><b>Day</b>: %{x}<br><b>Deaths</b>: %{y}<br><extra></extra>",
         "line": {
          "dash": "dot",
          "width": 0.9
         },
         "marker": {
          "line": {
           "color": "rgb(0, 0, 0)",
           "width": 0.5
          },
          "opacity": 0.3
         },
         "mode": "lines",
         "name": "Brazil Recorved",
         "text": [
          [
           "Brazil"
          ],
          [
           "Brazil"
          ],
          [
           "Brazil"
          ],
          [
           "Brazil"
          ],
          [
           "Brazil"
          ],
          [
           "Brazil"
          ],
          [
           "Brazil"
          ],
          [
           "Brazil"
          ],
          [
           "Brazil"
          ],
          [
           "Brazil"
          ],
          [
           "Brazil"
          ],
          [
           "Brazil"
          ],
          [
           "Brazil"
          ],
          [
           "Brazil"
          ],
          [
           "Brazil"
          ],
          [
           "Brazil"
          ],
          [
           "Brazil"
          ],
          [
           "Brazil"
          ],
          [
           "Brazil"
          ],
          [
           "Brazil"
          ],
          [
           "Brazil"
          ],
          [
           "Brazil"
          ],
          [
           "Brazil"
          ],
          [
           "Brazil"
          ],
          [
           "Brazil"
          ],
          [
           "Brazil"
          ],
          [
           "Brazil"
          ],
          [
           "Brazil"
          ],
          [
           "Brazil"
          ],
          [
           "Brazil"
          ],
          [
           "Brazil"
          ],
          [
           "Brazil"
          ],
          [
           "Brazil"
          ],
          [
           "Brazil"
          ],
          [
           "Brazil"
          ],
          [
           "Brazil"
          ],
          [
           "Brazil"
          ],
          [
           "Brazil"
          ],
          [
           "Brazil"
          ],
          [
           "Brazil"
          ],
          [
           "Brazil"
          ],
          [
           "Brazil"
          ],
          [
           "Brazil"
          ],
          [
           "Brazil"
          ],
          [
           "Brazil"
          ],
          [
           "Brazil"
          ],
          [
           "Brazil"
          ],
          [
           "Brazil"
          ],
          [
           "Brazil"
          ],
          [
           "Brazil"
          ],
          [
           "Brazil"
          ],
          [
           "Brazil"
          ],
          [
           "Brazil"
          ],
          [
           "Brazil"
          ],
          [
           "Brazil"
          ],
          [
           "Brazil"
          ],
          [
           "Brazil"
          ],
          [
           "Brazil"
          ],
          [
           "Brazil"
          ],
          [
           "Brazil"
          ],
          [
           "Brazil"
          ],
          [
           "Brazil"
          ],
          [
           "Brazil"
          ],
          [
           "Brazil"
          ],
          [
           "Brazil"
          ],
          [
           "Brazil"
          ],
          [
           "Brazil"
          ],
          [
           "Brazil"
          ],
          [
           "Brazil"
          ],
          [
           "Brazil"
          ],
          [
           "Brazil"
          ],
          [
           "Brazil"
          ],
          [
           "Brazil"
          ],
          [
           "Brazil"
          ],
          [
           "Brazil"
          ],
          [
           "Brazil"
          ],
          [
           "Brazil"
          ],
          [
           "Brazil"
          ],
          [
           "Brazil"
          ],
          [
           "Brazil"
          ],
          [
           "Brazil"
          ],
          [
           "Brazil"
          ],
          [
           "Brazil"
          ],
          [
           "Brazil"
          ],
          [
           "Brazil"
          ],
          [
           "Brazil"
          ],
          [
           "Brazil"
          ],
          [
           "Brazil"
          ],
          [
           "Brazil"
          ],
          [
           "Brazil"
          ],
          [
           "Brazil"
          ],
          [
           "Brazil"
          ],
          [
           "Brazil"
          ],
          [
           "Brazil"
          ],
          [
           "Brazil"
          ],
          [
           "Brazil"
          ],
          [
           "Brazil"
          ],
          [
           "Brazil"
          ],
          [
           "Brazil"
          ],
          [
           "Brazil"
          ],
          [
           "Brazil"
          ],
          [
           "Brazil"
          ],
          [
           "Brazil"
          ],
          [
           "Brazil"
          ],
          [
           "Brazil"
          ],
          [
           "Brazil"
          ],
          [
           "Brazil"
          ],
          [
           "Brazil"
          ],
          [
           "Brazil"
          ],
          [
           "Brazil"
          ],
          [
           "Brazil"
          ],
          [
           "Brazil"
          ],
          [
           "Brazil"
          ],
          [
           "Brazil"
          ],
          [
           "Brazil"
          ],
          [
           "Brazil"
          ],
          [
           "Brazil"
          ],
          [
           "Brazil"
          ],
          [
           "Brazil"
          ],
          [
           "Brazil"
          ],
          [
           "Brazil"
          ],
          [
           "Brazil"
          ],
          [
           "Brazil"
          ],
          [
           "Brazil"
          ],
          [
           "Brazil"
          ],
          [
           "Brazil"
          ],
          [
           "Brazil"
          ],
          [
           "Brazil"
          ],
          [
           "Brazil"
          ],
          [
           "Brazil"
          ],
          [
           "Brazil"
          ],
          [
           "Brazil"
          ],
          [
           "Brazil"
          ],
          [
           "Brazil"
          ],
          [
           "Brazil"
          ],
          [
           "Brazil"
          ],
          [
           "Brazil"
          ],
          [
           "Brazil"
          ],
          [
           "Brazil"
          ],
          [
           "Brazil"
          ],
          [
           "Brazil"
          ],
          [
           "Brazil"
          ],
          [
           "Brazil"
          ],
          [
           "Brazil"
          ],
          [
           "Brazil"
          ],
          [
           "Brazil"
          ],
          [
           "Brazil"
          ],
          [
           "Brazil"
          ],
          [
           "Brazil"
          ],
          [
           "Brazil"
          ],
          [
           "Brazil"
          ],
          [
           "Brazil"
          ],
          [
           "Brazil"
          ],
          [
           "Brazil"
          ],
          [
           "Brazil"
          ],
          [
           "Brazil"
          ],
          [
           "Brazil"
          ],
          [
           "Brazil"
          ],
          [
           "Brazil"
          ],
          [
           "Brazil"
          ],
          [
           "Brazil"
          ],
          [
           "Brazil"
          ],
          [
           "Brazil"
          ],
          [
           "Brazil"
          ],
          [
           "Brazil"
          ],
          [
           "Brazil"
          ],
          [
           "Brazil"
          ],
          [
           "Brazil"
          ],
          [
           "Brazil"
          ],
          [
           "Brazil"
          ],
          [
           "Brazil"
          ],
          [
           "Brazil"
          ],
          [
           "Brazil"
          ],
          [
           "Brazil"
          ],
          [
           "Brazil"
          ],
          [
           "Brazil"
          ],
          [
           "Brazil"
          ],
          [
           "Brazil"
          ]
         ],
         "type": "scatter",
         "x": [
          "2020-01-22T00:00:00",
          "2020-01-23T00:00:00",
          "2020-01-24T00:00:00",
          "2020-01-25T00:00:00",
          "2020-01-26T00:00:00",
          "2020-01-27T00:00:00",
          "2020-01-28T00:00:00",
          "2020-01-29T00:00:00",
          "2020-01-30T00:00:00",
          "2020-01-31T00:00:00",
          "2020-02-01T00:00:00",
          "2020-02-02T00:00:00",
          "2020-02-03T00:00:00",
          "2020-02-04T00:00:00",
          "2020-02-05T00:00:00",
          "2020-02-06T00:00:00",
          "2020-02-07T00:00:00",
          "2020-02-08T00:00:00",
          "2020-02-09T00:00:00",
          "2020-02-10T00:00:00",
          "2020-02-11T00:00:00",
          "2020-02-12T00:00:00",
          "2020-02-13T00:00:00",
          "2020-02-14T00:00:00",
          "2020-02-15T00:00:00",
          "2020-02-16T00:00:00",
          "2020-02-17T00:00:00",
          "2020-02-18T00:00:00",
          "2020-02-19T00:00:00",
          "2020-02-20T00:00:00",
          "2020-02-21T00:00:00",
          "2020-02-22T00:00:00",
          "2020-02-23T00:00:00",
          "2020-02-24T00:00:00",
          "2020-02-25T00:00:00",
          "2020-02-26T00:00:00",
          "2020-02-27T00:00:00",
          "2020-02-28T00:00:00",
          "2020-02-29T00:00:00",
          "2020-03-01T00:00:00",
          "2020-03-02T00:00:00",
          "2020-03-03T00:00:00",
          "2020-03-04T00:00:00",
          "2020-03-05T00:00:00",
          "2020-03-06T00:00:00",
          "2020-03-07T00:00:00",
          "2020-03-08T00:00:00",
          "2020-03-09T00:00:00",
          "2020-03-10T00:00:00",
          "2020-03-11T00:00:00",
          "2020-03-12T00:00:00",
          "2020-03-13T00:00:00",
          "2020-03-14T00:00:00",
          "2020-03-15T00:00:00",
          "2020-03-16T00:00:00",
          "2020-03-17T00:00:00",
          "2020-03-18T00:00:00",
          "2020-03-19T00:00:00",
          "2020-03-20T00:00:00",
          "2020-03-21T00:00:00",
          "2020-03-22T00:00:00",
          "2020-03-23T00:00:00",
          "2020-03-24T00:00:00",
          "2020-03-25T00:00:00",
          "2020-03-26T00:00:00",
          "2020-03-27T00:00:00",
          "2020-03-28T00:00:00"
         ],
         "y": [
          0,
          0,
          0,
          0,
          0,
          0,
          0,
          0,
          0,
          0,
          0,
          0,
          0,
          0,
          0,
          0,
          0,
          0,
          0,
          0,
          0,
          0,
          0,
          0,
          0,
          0,
          0,
          0,
          0,
          0,
          0,
          0,
          0,
          0,
          0,
          0,
          0,
          0,
          0,
          0,
          0,
          0,
          0,
          0,
          0,
          0,
          0,
          0,
          0,
          0,
          0,
          0,
          0,
          0,
          1,
          2,
          2,
          2,
          2,
          2,
          2,
          2,
          2,
          2,
          6,
          6,
          6
         ]
        },
        {
         "hovertemplate": "<b>%{text}</b><br><b>Day</b>: %{x}<br><b>Confirmed Cases</b>: %{y}<br><extra></extra>",
         "line": {
          "width": 0.5
         },
         "marker": {
          "line": {
           "color": "rgb(0, 0, 0)",
           "width": 0.5
          },
          "opacity": 0.3
         },
         "mode": "lines",
         "name": "China Confirmed",
         "text": [
          [
           "China"
          ],
          [
           "China"
          ],
          [
           "China"
          ],
          [
           "China"
          ],
          [
           "China"
          ],
          [
           "China"
          ],
          [
           "China"
          ],
          [
           "China"
          ],
          [
           "China"
          ],
          [
           "China"
          ],
          [
           "China"
          ],
          [
           "China"
          ],
          [
           "China"
          ],
          [
           "China"
          ],
          [
           "China"
          ],
          [
           "China"
          ],
          [
           "China"
          ],
          [
           "China"
          ],
          [
           "China"
          ],
          [
           "China"
          ],
          [
           "China"
          ],
          [
           "China"
          ],
          [
           "China"
          ],
          [
           "China"
          ],
          [
           "China"
          ],
          [
           "China"
          ],
          [
           "China"
          ],
          [
           "China"
          ],
          [
           "China"
          ],
          [
           "China"
          ],
          [
           "China"
          ],
          [
           "China"
          ],
          [
           "China"
          ],
          [
           "China"
          ],
          [
           "China"
          ],
          [
           "China"
          ],
          [
           "China"
          ],
          [
           "China"
          ],
          [
           "China"
          ],
          [
           "China"
          ],
          [
           "China"
          ],
          [
           "China"
          ],
          [
           "China"
          ],
          [
           "China"
          ],
          [
           "China"
          ],
          [
           "China"
          ],
          [
           "China"
          ],
          [
           "China"
          ],
          [
           "China"
          ],
          [
           "China"
          ],
          [
           "China"
          ],
          [
           "China"
          ],
          [
           "China"
          ],
          [
           "China"
          ],
          [
           "China"
          ],
          [
           "China"
          ],
          [
           "China"
          ],
          [
           "China"
          ],
          [
           "China"
          ],
          [
           "China"
          ],
          [
           "China"
          ],
          [
           "China"
          ],
          [
           "China"
          ],
          [
           "China"
          ],
          [
           "China"
          ],
          [
           "China"
          ],
          [
           "China"
          ],
          [
           "China"
          ],
          [
           "China"
          ],
          [
           "China"
          ],
          [
           "China"
          ],
          [
           "China"
          ],
          [
           "China"
          ],
          [
           "China"
          ],
          [
           "China"
          ],
          [
           "China"
          ],
          [
           "China"
          ],
          [
           "China"
          ],
          [
           "China"
          ],
          [
           "China"
          ],
          [
           "China"
          ],
          [
           "China"
          ],
          [
           "China"
          ],
          [
           "China"
          ],
          [
           "China"
          ],
          [
           "China"
          ],
          [
           "China"
          ],
          [
           "China"
          ],
          [
           "China"
          ],
          [
           "China"
          ],
          [
           "China"
          ],
          [
           "China"
          ],
          [
           "China"
          ],
          [
           "China"
          ],
          [
           "China"
          ],
          [
           "China"
          ],
          [
           "China"
          ],
          [
           "China"
          ],
          [
           "China"
          ],
          [
           "China"
          ],
          [
           "China"
          ],
          [
           "China"
          ],
          [
           "China"
          ],
          [
           "China"
          ],
          [
           "China"
          ],
          [
           "China"
          ],
          [
           "China"
          ],
          [
           "China"
          ],
          [
           "China"
          ],
          [
           "China"
          ],
          [
           "China"
          ],
          [
           "China"
          ],
          [
           "China"
          ],
          [
           "China"
          ],
          [
           "China"
          ],
          [
           "China"
          ],
          [
           "China"
          ],
          [
           "China"
          ],
          [
           "China"
          ],
          [
           "China"
          ],
          [
           "China"
          ],
          [
           "China"
          ],
          [
           "China"
          ],
          [
           "China"
          ],
          [
           "China"
          ],
          [
           "China"
          ],
          [
           "China"
          ],
          [
           "China"
          ],
          [
           "China"
          ],
          [
           "China"
          ],
          [
           "China"
          ],
          [
           "China"
          ],
          [
           "China"
          ],
          [
           "China"
          ],
          [
           "China"
          ],
          [
           "China"
          ],
          [
           "China"
          ],
          [
           "China"
          ],
          [
           "China"
          ],
          [
           "China"
          ],
          [
           "China"
          ],
          [
           "China"
          ],
          [
           "China"
          ],
          [
           "China"
          ],
          [
           "China"
          ],
          [
           "China"
          ],
          [
           "China"
          ],
          [
           "China"
          ],
          [
           "China"
          ],
          [
           "China"
          ],
          [
           "China"
          ],
          [
           "China"
          ],
          [
           "China"
          ],
          [
           "China"
          ],
          [
           "China"
          ],
          [
           "China"
          ],
          [
           "China"
          ],
          [
           "China"
          ],
          [
           "China"
          ],
          [
           "China"
          ],
          [
           "China"
          ],
          [
           "China"
          ],
          [
           "China"
          ],
          [
           "China"
          ],
          [
           "China"
          ],
          [
           "China"
          ],
          [
           "China"
          ],
          [
           "China"
          ],
          [
           "China"
          ],
          [
           "China"
          ],
          [
           "China"
          ],
          [
           "China"
          ],
          [
           "China"
          ],
          [
           "China"
          ],
          [
           "China"
          ],
          [
           "China"
          ],
          [
           "China"
          ],
          [
           "China"
          ]
         ],
         "type": "scatter",
         "x": [
          "2020-01-22T00:00:00",
          "2020-01-23T00:00:00",
          "2020-01-24T00:00:00",
          "2020-01-25T00:00:00",
          "2020-01-26T00:00:00",
          "2020-01-27T00:00:00",
          "2020-01-28T00:00:00",
          "2020-01-29T00:00:00",
          "2020-01-30T00:00:00",
          "2020-01-31T00:00:00",
          "2020-02-01T00:00:00",
          "2020-02-02T00:00:00",
          "2020-02-03T00:00:00",
          "2020-02-04T00:00:00",
          "2020-02-05T00:00:00",
          "2020-02-06T00:00:00",
          "2020-02-07T00:00:00",
          "2020-02-08T00:00:00",
          "2020-02-09T00:00:00",
          "2020-02-10T00:00:00",
          "2020-02-11T00:00:00",
          "2020-02-12T00:00:00",
          "2020-02-13T00:00:00",
          "2020-02-14T00:00:00",
          "2020-02-15T00:00:00",
          "2020-02-16T00:00:00",
          "2020-02-17T00:00:00",
          "2020-02-18T00:00:00",
          "2020-02-19T00:00:00",
          "2020-02-20T00:00:00",
          "2020-02-21T00:00:00",
          "2020-02-22T00:00:00",
          "2020-02-23T00:00:00",
          "2020-02-24T00:00:00",
          "2020-02-25T00:00:00",
          "2020-02-26T00:00:00",
          "2020-02-27T00:00:00",
          "2020-02-28T00:00:00",
          "2020-02-29T00:00:00",
          "2020-03-01T00:00:00",
          "2020-03-02T00:00:00",
          "2020-03-03T00:00:00",
          "2020-03-04T00:00:00",
          "2020-03-05T00:00:00",
          "2020-03-06T00:00:00",
          "2020-03-07T00:00:00",
          "2020-03-08T00:00:00",
          "2020-03-09T00:00:00",
          "2020-03-10T00:00:00",
          "2020-03-11T00:00:00",
          "2020-03-12T00:00:00",
          "2020-03-13T00:00:00",
          "2020-03-14T00:00:00",
          "2020-03-15T00:00:00",
          "2020-03-16T00:00:00",
          "2020-03-17T00:00:00",
          "2020-03-18T00:00:00",
          "2020-03-19T00:00:00",
          "2020-03-20T00:00:00",
          "2020-03-21T00:00:00",
          "2020-03-22T00:00:00",
          "2020-03-23T00:00:00",
          "2020-03-24T00:00:00",
          "2020-03-25T00:00:00",
          "2020-03-26T00:00:00",
          "2020-03-27T00:00:00",
          "2020-03-28T00:00:00"
         ],
         "y": [
          548,
          643,
          920,
          1406,
          2075,
          2877,
          5509,
          6087,
          8141,
          9802,
          11891,
          16630,
          19716,
          23707,
          27440,
          30587,
          34110,
          36814,
          39829,
          42354,
          44386,
          44759,
          59895,
          66358,
          68413,
          70513,
          72434,
          74211,
          74619,
          75077,
          75550,
          77001,
          77022,
          77241,
          77754,
          78166,
          78600,
          78928,
          79356,
          79932,
          80136,
          80261,
          80386,
          80537,
          80690,
          80770,
          80823,
          80860,
          80887,
          80921,
          80932,
          80945,
          80977,
          81003,
          81033,
          81058,
          81102,
          81156,
          81250,
          81305,
          81435,
          81498,
          81591,
          81661,
          81782,
          81897,
          81999
         ]
        },
        {
         "hovertemplate": "<b>%{text}</b><br><b>Day</b>: %{x}<br><b>Deaths</b>: %{y}<br><extra></extra>",
         "line": {
          "dash": "dash",
          "width": 0.9
         },
         "marker": {
          "line": {
           "color": "rgb(0, 0, 0)",
           "width": 0.5
          },
          "opacity": 0.3
         },
         "mode": "lines",
         "name": "China Deaths",
         "text": [
          [
           "China"
          ],
          [
           "China"
          ],
          [
           "China"
          ],
          [
           "China"
          ],
          [
           "China"
          ],
          [
           "China"
          ],
          [
           "China"
          ],
          [
           "China"
          ],
          [
           "China"
          ],
          [
           "China"
          ],
          [
           "China"
          ],
          [
           "China"
          ],
          [
           "China"
          ],
          [
           "China"
          ],
          [
           "China"
          ],
          [
           "China"
          ],
          [
           "China"
          ],
          [
           "China"
          ],
          [
           "China"
          ],
          [
           "China"
          ],
          [
           "China"
          ],
          [
           "China"
          ],
          [
           "China"
          ],
          [
           "China"
          ],
          [
           "China"
          ],
          [
           "China"
          ],
          [
           "China"
          ],
          [
           "China"
          ],
          [
           "China"
          ],
          [
           "China"
          ],
          [
           "China"
          ],
          [
           "China"
          ],
          [
           "China"
          ],
          [
           "China"
          ],
          [
           "China"
          ],
          [
           "China"
          ],
          [
           "China"
          ],
          [
           "China"
          ],
          [
           "China"
          ],
          [
           "China"
          ],
          [
           "China"
          ],
          [
           "China"
          ],
          [
           "China"
          ],
          [
           "China"
          ],
          [
           "China"
          ],
          [
           "China"
          ],
          [
           "China"
          ],
          [
           "China"
          ],
          [
           "China"
          ],
          [
           "China"
          ],
          [
           "China"
          ],
          [
           "China"
          ],
          [
           "China"
          ],
          [
           "China"
          ],
          [
           "China"
          ],
          [
           "China"
          ],
          [
           "China"
          ],
          [
           "China"
          ],
          [
           "China"
          ],
          [
           "China"
          ],
          [
           "China"
          ],
          [
           "China"
          ],
          [
           "China"
          ],
          [
           "China"
          ],
          [
           "China"
          ],
          [
           "China"
          ],
          [
           "China"
          ],
          [
           "China"
          ],
          [
           "China"
          ],
          [
           "China"
          ],
          [
           "China"
          ],
          [
           "China"
          ],
          [
           "China"
          ],
          [
           "China"
          ],
          [
           "China"
          ],
          [
           "China"
          ],
          [
           "China"
          ],
          [
           "China"
          ],
          [
           "China"
          ],
          [
           "China"
          ],
          [
           "China"
          ],
          [
           "China"
          ],
          [
           "China"
          ],
          [
           "China"
          ],
          [
           "China"
          ],
          [
           "China"
          ],
          [
           "China"
          ],
          [
           "China"
          ],
          [
           "China"
          ],
          [
           "China"
          ],
          [
           "China"
          ],
          [
           "China"
          ],
          [
           "China"
          ],
          [
           "China"
          ],
          [
           "China"
          ],
          [
           "China"
          ],
          [
           "China"
          ],
          [
           "China"
          ],
          [
           "China"
          ],
          [
           "China"
          ],
          [
           "China"
          ],
          [
           "China"
          ],
          [
           "China"
          ],
          [
           "China"
          ],
          [
           "China"
          ],
          [
           "China"
          ],
          [
           "China"
          ],
          [
           "China"
          ],
          [
           "China"
          ],
          [
           "China"
          ],
          [
           "China"
          ],
          [
           "China"
          ],
          [
           "China"
          ],
          [
           "China"
          ],
          [
           "China"
          ],
          [
           "China"
          ],
          [
           "China"
          ],
          [
           "China"
          ],
          [
           "China"
          ],
          [
           "China"
          ],
          [
           "China"
          ],
          [
           "China"
          ],
          [
           "China"
          ],
          [
           "China"
          ],
          [
           "China"
          ],
          [
           "China"
          ],
          [
           "China"
          ],
          [
           "China"
          ],
          [
           "China"
          ],
          [
           "China"
          ],
          [
           "China"
          ],
          [
           "China"
          ],
          [
           "China"
          ],
          [
           "China"
          ],
          [
           "China"
          ],
          [
           "China"
          ],
          [
           "China"
          ],
          [
           "China"
          ],
          [
           "China"
          ],
          [
           "China"
          ],
          [
           "China"
          ],
          [
           "China"
          ],
          [
           "China"
          ],
          [
           "China"
          ],
          [
           "China"
          ],
          [
           "China"
          ],
          [
           "China"
          ],
          [
           "China"
          ],
          [
           "China"
          ],
          [
           "China"
          ],
          [
           "China"
          ],
          [
           "China"
          ],
          [
           "China"
          ],
          [
           "China"
          ],
          [
           "China"
          ],
          [
           "China"
          ],
          [
           "China"
          ],
          [
           "China"
          ],
          [
           "China"
          ],
          [
           "China"
          ],
          [
           "China"
          ],
          [
           "China"
          ],
          [
           "China"
          ],
          [
           "China"
          ],
          [
           "China"
          ],
          [
           "China"
          ],
          [
           "China"
          ],
          [
           "China"
          ],
          [
           "China"
          ],
          [
           "China"
          ],
          [
           "China"
          ],
          [
           "China"
          ],
          [
           "China"
          ],
          [
           "China"
          ],
          [
           "China"
          ],
          [
           "China"
          ],
          [
           "China"
          ],
          [
           "China"
          ]
         ],
         "type": "scatter",
         "x": [
          "2020-01-22T00:00:00",
          "2020-01-23T00:00:00",
          "2020-01-24T00:00:00",
          "2020-01-25T00:00:00",
          "2020-01-26T00:00:00",
          "2020-01-27T00:00:00",
          "2020-01-28T00:00:00",
          "2020-01-29T00:00:00",
          "2020-01-30T00:00:00",
          "2020-01-31T00:00:00",
          "2020-02-01T00:00:00",
          "2020-02-02T00:00:00",
          "2020-02-03T00:00:00",
          "2020-02-04T00:00:00",
          "2020-02-05T00:00:00",
          "2020-02-06T00:00:00",
          "2020-02-07T00:00:00",
          "2020-02-08T00:00:00",
          "2020-02-09T00:00:00",
          "2020-02-10T00:00:00",
          "2020-02-11T00:00:00",
          "2020-02-12T00:00:00",
          "2020-02-13T00:00:00",
          "2020-02-14T00:00:00",
          "2020-02-15T00:00:00",
          "2020-02-16T00:00:00",
          "2020-02-17T00:00:00",
          "2020-02-18T00:00:00",
          "2020-02-19T00:00:00",
          "2020-02-20T00:00:00",
          "2020-02-21T00:00:00",
          "2020-02-22T00:00:00",
          "2020-02-23T00:00:00",
          "2020-02-24T00:00:00",
          "2020-02-25T00:00:00",
          "2020-02-26T00:00:00",
          "2020-02-27T00:00:00",
          "2020-02-28T00:00:00",
          "2020-02-29T00:00:00",
          "2020-03-01T00:00:00",
          "2020-03-02T00:00:00",
          "2020-03-03T00:00:00",
          "2020-03-04T00:00:00",
          "2020-03-05T00:00:00",
          "2020-03-06T00:00:00",
          "2020-03-07T00:00:00",
          "2020-03-08T00:00:00",
          "2020-03-09T00:00:00",
          "2020-03-10T00:00:00",
          "2020-03-11T00:00:00",
          "2020-03-12T00:00:00",
          "2020-03-13T00:00:00",
          "2020-03-14T00:00:00",
          "2020-03-15T00:00:00",
          "2020-03-16T00:00:00",
          "2020-03-17T00:00:00",
          "2020-03-18T00:00:00",
          "2020-03-19T00:00:00",
          "2020-03-20T00:00:00",
          "2020-03-21T00:00:00",
          "2020-03-22T00:00:00",
          "2020-03-23T00:00:00",
          "2020-03-24T00:00:00",
          "2020-03-25T00:00:00",
          "2020-03-26T00:00:00",
          "2020-03-27T00:00:00",
          "2020-03-28T00:00:00"
         ],
         "y": [
          17,
          18,
          26,
          42,
          56,
          82,
          131,
          133,
          171,
          213,
          259,
          361,
          425,
          491,
          563,
          633,
          718,
          805,
          905,
          1012,
          1112,
          1117,
          1369,
          1521,
          1663,
          1766,
          1864,
          2003,
          2116,
          2238,
          2238,
          2443,
          2445,
          2595,
          2665,
          2717,
          2746,
          2790,
          2837,
          2872,
          2914,
          2947,
          2983,
          3015,
          3044,
          3072,
          3100,
          3123,
          3139,
          3161,
          3172,
          3180,
          3193,
          3203,
          3217,
          3230,
          3241,
          3249,
          3253,
          3259,
          3274,
          3274,
          3281,
          3285,
          3291,
          3296,
          3299
         ]
        },
        {
         "hovertemplate": "<b>%{text}</b><br><b>Day</b>: %{x}<br><b>Deaths</b>: %{y}<br><extra></extra>",
         "line": {
          "dash": "dot",
          "width": 0.9
         },
         "marker": {
          "line": {
           "color": "rgb(0, 0, 0)",
           "width": 0.5
          },
          "opacity": 0.3
         },
         "mode": "lines",
         "name": "China Recorved",
         "text": [
          [
           "China"
          ],
          [
           "China"
          ],
          [
           "China"
          ],
          [
           "China"
          ],
          [
           "China"
          ],
          [
           "China"
          ],
          [
           "China"
          ],
          [
           "China"
          ],
          [
           "China"
          ],
          [
           "China"
          ],
          [
           "China"
          ],
          [
           "China"
          ],
          [
           "China"
          ],
          [
           "China"
          ],
          [
           "China"
          ],
          [
           "China"
          ],
          [
           "China"
          ],
          [
           "China"
          ],
          [
           "China"
          ],
          [
           "China"
          ],
          [
           "China"
          ],
          [
           "China"
          ],
          [
           "China"
          ],
          [
           "China"
          ],
          [
           "China"
          ],
          [
           "China"
          ],
          [
           "China"
          ],
          [
           "China"
          ],
          [
           "China"
          ],
          [
           "China"
          ],
          [
           "China"
          ],
          [
           "China"
          ],
          [
           "China"
          ],
          [
           "China"
          ],
          [
           "China"
          ],
          [
           "China"
          ],
          [
           "China"
          ],
          [
           "China"
          ],
          [
           "China"
          ],
          [
           "China"
          ],
          [
           "China"
          ],
          [
           "China"
          ],
          [
           "China"
          ],
          [
           "China"
          ],
          [
           "China"
          ],
          [
           "China"
          ],
          [
           "China"
          ],
          [
           "China"
          ],
          [
           "China"
          ],
          [
           "China"
          ],
          [
           "China"
          ],
          [
           "China"
          ],
          [
           "China"
          ],
          [
           "China"
          ],
          [
           "China"
          ],
          [
           "China"
          ],
          [
           "China"
          ],
          [
           "China"
          ],
          [
           "China"
          ],
          [
           "China"
          ],
          [
           "China"
          ],
          [
           "China"
          ],
          [
           "China"
          ],
          [
           "China"
          ],
          [
           "China"
          ],
          [
           "China"
          ],
          [
           "China"
          ],
          [
           "China"
          ],
          [
           "China"
          ],
          [
           "China"
          ],
          [
           "China"
          ],
          [
           "China"
          ],
          [
           "China"
          ],
          [
           "China"
          ],
          [
           "China"
          ],
          [
           "China"
          ],
          [
           "China"
          ],
          [
           "China"
          ],
          [
           "China"
          ],
          [
           "China"
          ],
          [
           "China"
          ],
          [
           "China"
          ],
          [
           "China"
          ],
          [
           "China"
          ],
          [
           "China"
          ],
          [
           "China"
          ],
          [
           "China"
          ],
          [
           "China"
          ],
          [
           "China"
          ],
          [
           "China"
          ],
          [
           "China"
          ],
          [
           "China"
          ],
          [
           "China"
          ],
          [
           "China"
          ],
          [
           "China"
          ],
          [
           "China"
          ],
          [
           "China"
          ],
          [
           "China"
          ],
          [
           "China"
          ],
          [
           "China"
          ],
          [
           "China"
          ],
          [
           "China"
          ],
          [
           "China"
          ],
          [
           "China"
          ],
          [
           "China"
          ],
          [
           "China"
          ],
          [
           "China"
          ],
          [
           "China"
          ],
          [
           "China"
          ],
          [
           "China"
          ],
          [
           "China"
          ],
          [
           "China"
          ],
          [
           "China"
          ],
          [
           "China"
          ],
          [
           "China"
          ],
          [
           "China"
          ],
          [
           "China"
          ],
          [
           "China"
          ],
          [
           "China"
          ],
          [
           "China"
          ],
          [
           "China"
          ],
          [
           "China"
          ],
          [
           "China"
          ],
          [
           "China"
          ],
          [
           "China"
          ],
          [
           "China"
          ],
          [
           "China"
          ],
          [
           "China"
          ],
          [
           "China"
          ],
          [
           "China"
          ],
          [
           "China"
          ],
          [
           "China"
          ],
          [
           "China"
          ],
          [
           "China"
          ],
          [
           "China"
          ],
          [
           "China"
          ],
          [
           "China"
          ],
          [
           "China"
          ],
          [
           "China"
          ],
          [
           "China"
          ],
          [
           "China"
          ],
          [
           "China"
          ],
          [
           "China"
          ],
          [
           "China"
          ],
          [
           "China"
          ],
          [
           "China"
          ],
          [
           "China"
          ],
          [
           "China"
          ],
          [
           "China"
          ],
          [
           "China"
          ],
          [
           "China"
          ],
          [
           "China"
          ],
          [
           "China"
          ],
          [
           "China"
          ],
          [
           "China"
          ],
          [
           "China"
          ],
          [
           "China"
          ],
          [
           "China"
          ],
          [
           "China"
          ],
          [
           "China"
          ],
          [
           "China"
          ],
          [
           "China"
          ],
          [
           "China"
          ],
          [
           "China"
          ],
          [
           "China"
          ],
          [
           "China"
          ],
          [
           "China"
          ],
          [
           "China"
          ],
          [
           "China"
          ],
          [
           "China"
          ],
          [
           "China"
          ],
          [
           "China"
          ],
          [
           "China"
          ],
          [
           "China"
          ],
          [
           "China"
          ],
          [
           "China"
          ],
          [
           "China"
          ],
          [
           "China"
          ]
         ],
         "type": "scatter",
         "x": [
          "2020-01-22T00:00:00",
          "2020-01-23T00:00:00",
          "2020-01-24T00:00:00",
          "2020-01-25T00:00:00",
          "2020-01-26T00:00:00",
          "2020-01-27T00:00:00",
          "2020-01-28T00:00:00",
          "2020-01-29T00:00:00",
          "2020-01-30T00:00:00",
          "2020-01-31T00:00:00",
          "2020-02-01T00:00:00",
          "2020-02-02T00:00:00",
          "2020-02-03T00:00:00",
          "2020-02-04T00:00:00",
          "2020-02-05T00:00:00",
          "2020-02-06T00:00:00",
          "2020-02-07T00:00:00",
          "2020-02-08T00:00:00",
          "2020-02-09T00:00:00",
          "2020-02-10T00:00:00",
          "2020-02-11T00:00:00",
          "2020-02-12T00:00:00",
          "2020-02-13T00:00:00",
          "2020-02-14T00:00:00",
          "2020-02-15T00:00:00",
          "2020-02-16T00:00:00",
          "2020-02-17T00:00:00",
          "2020-02-18T00:00:00",
          "2020-02-19T00:00:00",
          "2020-02-20T00:00:00",
          "2020-02-21T00:00:00",
          "2020-02-22T00:00:00",
          "2020-02-23T00:00:00",
          "2020-02-24T00:00:00",
          "2020-02-25T00:00:00",
          "2020-02-26T00:00:00",
          "2020-02-27T00:00:00",
          "2020-02-28T00:00:00",
          "2020-02-29T00:00:00",
          "2020-03-01T00:00:00",
          "2020-03-02T00:00:00",
          "2020-03-03T00:00:00",
          "2020-03-04T00:00:00",
          "2020-03-05T00:00:00",
          "2020-03-06T00:00:00",
          "2020-03-07T00:00:00",
          "2020-03-08T00:00:00",
          "2020-03-09T00:00:00",
          "2020-03-10T00:00:00",
          "2020-03-11T00:00:00",
          "2020-03-12T00:00:00",
          "2020-03-13T00:00:00",
          "2020-03-14T00:00:00",
          "2020-03-15T00:00:00",
          "2020-03-16T00:00:00",
          "2020-03-17T00:00:00",
          "2020-03-18T00:00:00",
          "2020-03-19T00:00:00",
          "2020-03-20T00:00:00",
          "2020-03-21T00:00:00",
          "2020-03-22T00:00:00",
          "2020-03-23T00:00:00",
          "2020-03-24T00:00:00",
          "2020-03-25T00:00:00",
          "2020-03-26T00:00:00",
          "2020-03-27T00:00:00",
          "2020-03-28T00:00:00"
         ],
         "y": [
          28,
          30,
          36,
          39,
          49,
          58,
          101,
          120,
          135,
          214,
          275,
          463,
          614,
          843,
          1115,
          1477,
          1999,
          2596,
          3219,
          3918,
          4636,
          5082,
          6217,
          7977,
          9298,
          10755,
          12462,
          14206,
          15962,
          18014,
          18704,
          22699,
          23187,
          25015,
          27676,
          30084,
          32930,
          36329,
          39320,
          42162,
          44854,
          47450,
          50001,
          52292,
          53944,
          55539,
          57388,
          58804,
          60181,
          61644,
          62901,
          64196,
          65660,
          67017,
          67910,
          68798,
          69755,
          70535,
          71266,
          71857,
          72362,
          72814,
          73280,
          73773,
          74181,
          74720,
          75100
         ]
        }
       ],
       "layout": {
        "autosize": true,
        "template": {
         "data": {
          "bar": [
           {
            "error_x": {
             "color": "#2a3f5f"
            },
            "error_y": {
             "color": "#2a3f5f"
            },
            "marker": {
             "line": {
              "color": "#E5ECF6",
              "width": 0.5
             }
            },
            "type": "bar"
           }
          ],
          "barpolar": [
           {
            "marker": {
             "line": {
              "color": "#E5ECF6",
              "width": 0.5
             }
            },
            "type": "barpolar"
           }
          ],
          "carpet": [
           {
            "aaxis": {
             "endlinecolor": "#2a3f5f",
             "gridcolor": "white",
             "linecolor": "white",
             "minorgridcolor": "white",
             "startlinecolor": "#2a3f5f"
            },
            "baxis": {
             "endlinecolor": "#2a3f5f",
             "gridcolor": "white",
             "linecolor": "white",
             "minorgridcolor": "white",
             "startlinecolor": "#2a3f5f"
            },
            "type": "carpet"
           }
          ],
          "choropleth": [
           {
            "colorbar": {
             "outlinewidth": 0,
             "ticks": ""
            },
            "type": "choropleth"
           }
          ],
          "contour": [
           {
            "colorbar": {
             "outlinewidth": 0,
             "ticks": ""
            },
            "colorscale": [
             [
              0,
              "#0d0887"
             ],
             [
              0.1111111111111111,
              "#46039f"
             ],
             [
              0.2222222222222222,
              "#7201a8"
             ],
             [
              0.3333333333333333,
              "#9c179e"
             ],
             [
              0.4444444444444444,
              "#bd3786"
             ],
             [
              0.5555555555555556,
              "#d8576b"
             ],
             [
              0.6666666666666666,
              "#ed7953"
             ],
             [
              0.7777777777777778,
              "#fb9f3a"
             ],
             [
              0.8888888888888888,
              "#fdca26"
             ],
             [
              1,
              "#f0f921"
             ]
            ],
            "type": "contour"
           }
          ],
          "contourcarpet": [
           {
            "colorbar": {
             "outlinewidth": 0,
             "ticks": ""
            },
            "type": "contourcarpet"
           }
          ],
          "heatmap": [
           {
            "colorbar": {
             "outlinewidth": 0,
             "ticks": ""
            },
            "colorscale": [
             [
              0,
              "#0d0887"
             ],
             [
              0.1111111111111111,
              "#46039f"
             ],
             [
              0.2222222222222222,
              "#7201a8"
             ],
             [
              0.3333333333333333,
              "#9c179e"
             ],
             [
              0.4444444444444444,
              "#bd3786"
             ],
             [
              0.5555555555555556,
              "#d8576b"
             ],
             [
              0.6666666666666666,
              "#ed7953"
             ],
             [
              0.7777777777777778,
              "#fb9f3a"
             ],
             [
              0.8888888888888888,
              "#fdca26"
             ],
             [
              1,
              "#f0f921"
             ]
            ],
            "type": "heatmap"
           }
          ],
          "heatmapgl": [
           {
            "colorbar": {
             "outlinewidth": 0,
             "ticks": ""
            },
            "colorscale": [
             [
              0,
              "#0d0887"
             ],
             [
              0.1111111111111111,
              "#46039f"
             ],
             [
              0.2222222222222222,
              "#7201a8"
             ],
             [
              0.3333333333333333,
              "#9c179e"
             ],
             [
              0.4444444444444444,
              "#bd3786"
             ],
             [
              0.5555555555555556,
              "#d8576b"
             ],
             [
              0.6666666666666666,
              "#ed7953"
             ],
             [
              0.7777777777777778,
              "#fb9f3a"
             ],
             [
              0.8888888888888888,
              "#fdca26"
             ],
             [
              1,
              "#f0f921"
             ]
            ],
            "type": "heatmapgl"
           }
          ],
          "histogram": [
           {
            "marker": {
             "colorbar": {
              "outlinewidth": 0,
              "ticks": ""
             }
            },
            "type": "histogram"
           }
          ],
          "histogram2d": [
           {
            "colorbar": {
             "outlinewidth": 0,
             "ticks": ""
            },
            "colorscale": [
             [
              0,
              "#0d0887"
             ],
             [
              0.1111111111111111,
              "#46039f"
             ],
             [
              0.2222222222222222,
              "#7201a8"
             ],
             [
              0.3333333333333333,
              "#9c179e"
             ],
             [
              0.4444444444444444,
              "#bd3786"
             ],
             [
              0.5555555555555556,
              "#d8576b"
             ],
             [
              0.6666666666666666,
              "#ed7953"
             ],
             [
              0.7777777777777778,
              "#fb9f3a"
             ],
             [
              0.8888888888888888,
              "#fdca26"
             ],
             [
              1,
              "#f0f921"
             ]
            ],
            "type": "histogram2d"
           }
          ],
          "histogram2dcontour": [
           {
            "colorbar": {
             "outlinewidth": 0,
             "ticks": ""
            },
            "colorscale": [
             [
              0,
              "#0d0887"
             ],
             [
              0.1111111111111111,
              "#46039f"
             ],
             [
              0.2222222222222222,
              "#7201a8"
             ],
             [
              0.3333333333333333,
              "#9c179e"
             ],
             [
              0.4444444444444444,
              "#bd3786"
             ],
             [
              0.5555555555555556,
              "#d8576b"
             ],
             [
              0.6666666666666666,
              "#ed7953"
             ],
             [
              0.7777777777777778,
              "#fb9f3a"
             ],
             [
              0.8888888888888888,
              "#fdca26"
             ],
             [
              1,
              "#f0f921"
             ]
            ],
            "type": "histogram2dcontour"
           }
          ],
          "mesh3d": [
           {
            "colorbar": {
             "outlinewidth": 0,
             "ticks": ""
            },
            "type": "mesh3d"
           }
          ],
          "parcoords": [
           {
            "line": {
             "colorbar": {
              "outlinewidth": 0,
              "ticks": ""
             }
            },
            "type": "parcoords"
           }
          ],
          "pie": [
           {
            "automargin": true,
            "type": "pie"
           }
          ],
          "scatter": [
           {
            "marker": {
             "colorbar": {
              "outlinewidth": 0,
              "ticks": ""
             }
            },
            "type": "scatter"
           }
          ],
          "scatter3d": [
           {
            "line": {
             "colorbar": {
              "outlinewidth": 0,
              "ticks": ""
             }
            },
            "marker": {
             "colorbar": {
              "outlinewidth": 0,
              "ticks": ""
             }
            },
            "type": "scatter3d"
           }
          ],
          "scattercarpet": [
           {
            "marker": {
             "colorbar": {
              "outlinewidth": 0,
              "ticks": ""
             }
            },
            "type": "scattercarpet"
           }
          ],
          "scattergeo": [
           {
            "marker": {
             "colorbar": {
              "outlinewidth": 0,
              "ticks": ""
             }
            },
            "type": "scattergeo"
           }
          ],
          "scattergl": [
           {
            "marker": {
             "colorbar": {
              "outlinewidth": 0,
              "ticks": ""
             }
            },
            "type": "scattergl"
           }
          ],
          "scattermapbox": [
           {
            "marker": {
             "colorbar": {
              "outlinewidth": 0,
              "ticks": ""
             }
            },
            "type": "scattermapbox"
           }
          ],
          "scatterpolar": [
           {
            "marker": {
             "colorbar": {
              "outlinewidth": 0,
              "ticks": ""
             }
            },
            "type": "scatterpolar"
           }
          ],
          "scatterpolargl": [
           {
            "marker": {
             "colorbar": {
              "outlinewidth": 0,
              "ticks": ""
             }
            },
            "type": "scatterpolargl"
           }
          ],
          "scatterternary": [
           {
            "marker": {
             "colorbar": {
              "outlinewidth": 0,
              "ticks": ""
             }
            },
            "type": "scatterternary"
           }
          ],
          "surface": [
           {
            "colorbar": {
             "outlinewidth": 0,
             "ticks": ""
            },
            "colorscale": [
             [
              0,
              "#0d0887"
             ],
             [
              0.1111111111111111,
              "#46039f"
             ],
             [
              0.2222222222222222,
              "#7201a8"
             ],
             [
              0.3333333333333333,
              "#9c179e"
             ],
             [
              0.4444444444444444,
              "#bd3786"
             ],
             [
              0.5555555555555556,
              "#d8576b"
             ],
             [
              0.6666666666666666,
              "#ed7953"
             ],
             [
              0.7777777777777778,
              "#fb9f3a"
             ],
             [
              0.8888888888888888,
              "#fdca26"
             ],
             [
              1,
              "#f0f921"
             ]
            ],
            "type": "surface"
           }
          ],
          "table": [
           {
            "cells": {
             "fill": {
              "color": "#EBF0F8"
             },
             "line": {
              "color": "white"
             }
            },
            "header": {
             "fill": {
              "color": "#C8D4E3"
             },
             "line": {
              "color": "white"
             }
            },
            "type": "table"
           }
          ]
         },
         "layout": {
          "annotationdefaults": {
           "arrowcolor": "#2a3f5f",
           "arrowhead": 0,
           "arrowwidth": 1
          },
          "coloraxis": {
           "colorbar": {
            "outlinewidth": 0,
            "ticks": ""
           }
          },
          "colorscale": {
           "diverging": [
            [
             0,
             "#8e0152"
            ],
            [
             0.1,
             "#c51b7d"
            ],
            [
             0.2,
             "#de77ae"
            ],
            [
             0.3,
             "#f1b6da"
            ],
            [
             0.4,
             "#fde0ef"
            ],
            [
             0.5,
             "#f7f7f7"
            ],
            [
             0.6,
             "#e6f5d0"
            ],
            [
             0.7,
             "#b8e186"
            ],
            [
             0.8,
             "#7fbc41"
            ],
            [
             0.9,
             "#4d9221"
            ],
            [
             1,
             "#276419"
            ]
           ],
           "sequential": [
            [
             0,
             "#0d0887"
            ],
            [
             0.1111111111111111,
             "#46039f"
            ],
            [
             0.2222222222222222,
             "#7201a8"
            ],
            [
             0.3333333333333333,
             "#9c179e"
            ],
            [
             0.4444444444444444,
             "#bd3786"
            ],
            [
             0.5555555555555556,
             "#d8576b"
            ],
            [
             0.6666666666666666,
             "#ed7953"
            ],
            [
             0.7777777777777778,
             "#fb9f3a"
            ],
            [
             0.8888888888888888,
             "#fdca26"
            ],
            [
             1,
             "#f0f921"
            ]
           ],
           "sequentialminus": [
            [
             0,
             "#0d0887"
            ],
            [
             0.1111111111111111,
             "#46039f"
            ],
            [
             0.2222222222222222,
             "#7201a8"
            ],
            [
             0.3333333333333333,
             "#9c179e"
            ],
            [
             0.4444444444444444,
             "#bd3786"
            ],
            [
             0.5555555555555556,
             "#d8576b"
            ],
            [
             0.6666666666666666,
             "#ed7953"
            ],
            [
             0.7777777777777778,
             "#fb9f3a"
            ],
            [
             0.8888888888888888,
             "#fdca26"
            ],
            [
             1,
             "#f0f921"
            ]
           ]
          },
          "colorway": [
           "#636efa",
           "#EF553B",
           "#00cc96",
           "#ab63fa",
           "#FFA15A",
           "#19d3f3",
           "#FF6692",
           "#B6E880",
           "#FF97FF",
           "#FECB52"
          ],
          "font": {
           "color": "#2a3f5f"
          },
          "geo": {
           "bgcolor": "white",
           "lakecolor": "white",
           "landcolor": "#E5ECF6",
           "showlakes": true,
           "showland": true,
           "subunitcolor": "white"
          },
          "hoverlabel": {
           "align": "left"
          },
          "hovermode": "closest",
          "mapbox": {
           "style": "light"
          },
          "paper_bgcolor": "white",
          "plot_bgcolor": "#E5ECF6",
          "polar": {
           "angularaxis": {
            "gridcolor": "white",
            "linecolor": "white",
            "ticks": ""
           },
           "bgcolor": "#E5ECF6",
           "radialaxis": {
            "gridcolor": "white",
            "linecolor": "white",
            "ticks": ""
           }
          },
          "scene": {
           "xaxis": {
            "backgroundcolor": "#E5ECF6",
            "gridcolor": "white",
            "gridwidth": 2,
            "linecolor": "white",
            "showbackground": true,
            "ticks": "",
            "zerolinecolor": "white"
           },
           "yaxis": {
            "backgroundcolor": "#E5ECF6",
            "gridcolor": "white",
            "gridwidth": 2,
            "linecolor": "white",
            "showbackground": true,
            "ticks": "",
            "zerolinecolor": "white"
           },
           "zaxis": {
            "backgroundcolor": "#E5ECF6",
            "gridcolor": "white",
            "gridwidth": 2,
            "linecolor": "white",
            "showbackground": true,
            "ticks": "",
            "zerolinecolor": "white"
           }
          },
          "shapedefaults": {
           "line": {
            "color": "#2a3f5f"
           }
          },
          "ternary": {
           "aaxis": {
            "gridcolor": "white",
            "linecolor": "white",
            "ticks": ""
           },
           "baxis": {
            "gridcolor": "white",
            "linecolor": "white",
            "ticks": ""
           },
           "bgcolor": "#E5ECF6",
           "caxis": {
            "gridcolor": "white",
            "linecolor": "white",
            "ticks": ""
           }
          },
          "title": {
           "x": 0.05
          },
          "xaxis": {
           "automargin": true,
           "gridcolor": "white",
           "linecolor": "white",
           "ticks": "",
           "title": {
            "standoff": 15
           },
           "zerolinecolor": "white",
           "zerolinewidth": 2
          },
          "yaxis": {
           "automargin": true,
           "gridcolor": "white",
           "linecolor": "white",
           "ticks": "",
           "title": {
            "standoff": 15
           },
           "zerolinecolor": "white",
           "zerolinewidth": 2
          }
         }
        },
        "title": {
         "text": "COVID-19 Confirmed x Deaths (29, Mar 2020)"
        },
        "xaxis": {
         "autorange": true,
         "range": [
          "2020-01-22",
          "2020-03-28"
         ],
         "title": {
          "text": "Days"
         },
         "type": "date"
        },
        "yaxis": {
         "autorange": true,
         "range": [
          -0.27298936422651404,
          5.186797920303766
         ],
         "title": {
          "text": "Confirmed Cases (log)"
         },
         "type": "log"
        }
       }
      },
      "image/png": "[encoded data removed]",
      "text/html": [
       "<div>\n",
       "        \n",
       "        \n",
       "            <div id=\"995f2ae3-adcd-4992-bb5a-deb4cd2fdc63\" class=\"plotly-graph-div\" style=\"height:525px; width:100%;\"></div>\n",
       "            <script type=\"text/javascript\">\n",
       "                require([\"plotly\"], function(Plotly) {\n",
       "                    window.PLOTLYENV=window.PLOTLYENV || {};\n",
       "                    \n",
       "                if (document.getElementById(\"995f2ae3-adcd-4992-bb5a-deb4cd2fdc63\")) {\n",
       "                    Plotly.newPlot(\n",
       "                        '995f2ae3-adcd-4992-bb5a-deb4cd2fdc63',\n",
       "                        [{\"hovertemplate\": \"<b>%{text}</b><br><b>Day</b>: %{x}<br><b>Confirmed Cases</b>: %{y}<br><extra></extra>\", \"line\": {\"width\": 0.5}, \"marker\": {\"line\": {\"color\": \"rgb(0, 0, 0)\", \"width\": 0.5}, \"opacity\": 0.3}, \"mode\": \"lines\", \"name\": \"Brazil Confirmed\", \"text\": [[\"Brazil\"], [\"Brazil\"], [\"Brazil\"], [\"Brazil\"], [\"Brazil\"], [\"Brazil\"], [\"Brazil\"], [\"Brazil\"], [\"Brazil\"], [\"Brazil\"], [\"Brazil\"], [\"Brazil\"], [\"Brazil\"], [\"Brazil\"], [\"Brazil\"], [\"Brazil\"], [\"Brazil\"], [\"Brazil\"], [\"Brazil\"], [\"Brazil\"], [\"Brazil\"], [\"Brazil\"], [\"Brazil\"], [\"Brazil\"], [\"Brazil\"], [\"Brazil\"], [\"Brazil\"], [\"Brazil\"], [\"Brazil\"], [\"Brazil\"], [\"Brazil\"], [\"Brazil\"], [\"Brazil\"], [\"Brazil\"], [\"Brazil\"], [\"Brazil\"], [\"Brazil\"], [\"Brazil\"], [\"Brazil\"], [\"Brazil\"], [\"Brazil\"], [\"Brazil\"], [\"Brazil\"], [\"Brazil\"], [\"Brazil\"], [\"Brazil\"], [\"Brazil\"], [\"Brazil\"], [\"Brazil\"], [\"Brazil\"], [\"Brazil\"], [\"Brazil\"], [\"Brazil\"], [\"Brazil\"], [\"Brazil\"], [\"Brazil\"], [\"Brazil\"], [\"Brazil\"], [\"Brazil\"], [\"Brazil\"], [\"Brazil\"], [\"Brazil\"], [\"Brazil\"], [\"Brazil\"], [\"Brazil\"], [\"Brazil\"], [\"Brazil\"], [\"Brazil\"], [\"Brazil\"], [\"Brazil\"], [\"Brazil\"], [\"Brazil\"], [\"Brazil\"], [\"Brazil\"], [\"Brazil\"], [\"Brazil\"], [\"Brazil\"], [\"Brazil\"], [\"Brazil\"], [\"Brazil\"], [\"Brazil\"], [\"Brazil\"], [\"Brazil\"], [\"Brazil\"], [\"Brazil\"], [\"Brazil\"], [\"Brazil\"], [\"Brazil\"], [\"Brazil\"], [\"Brazil\"], [\"Brazil\"], [\"Brazil\"], [\"Brazil\"], [\"Brazil\"], [\"Brazil\"], [\"Brazil\"], [\"Brazil\"], [\"Brazil\"], [\"Brazil\"], [\"Brazil\"], [\"Brazil\"], [\"Brazil\"], [\"Brazil\"], [\"Brazil\"], [\"Brazil\"], [\"Brazil\"], [\"Brazil\"], [\"Brazil\"], [\"Brazil\"], [\"Brazil\"], [\"Brazil\"], [\"Brazil\"], [\"Brazil\"], [\"Brazil\"], [\"Brazil\"], [\"Brazil\"], [\"Brazil\"], [\"Brazil\"], [\"Brazil\"], [\"Brazil\"], [\"Brazil\"], [\"Brazil\"], [\"Brazil\"], [\"Brazil\"], [\"Brazil\"], [\"Brazil\"], [\"Brazil\"], [\"Brazil\"], [\"Brazil\"], [\"Brazil\"], [\"Brazil\"], [\"Brazil\"], [\"Brazil\"], [\"Brazil\"], [\"Brazil\"], [\"Brazil\"], [\"Brazil\"], [\"Brazil\"], [\"Brazil\"], [\"Brazil\"], [\"Brazil\"], [\"Brazil\"], [\"Brazil\"], [\"Brazil\"], [\"Brazil\"], [\"Brazil\"], [\"Brazil\"], [\"Brazil\"], [\"Brazil\"], [\"Brazil\"], [\"Brazil\"], [\"Brazil\"], [\"Brazil\"], [\"Brazil\"], [\"Brazil\"], [\"Brazil\"], [\"Brazil\"], [\"Brazil\"], [\"Brazil\"], [\"Brazil\"], [\"Brazil\"], [\"Brazil\"], [\"Brazil\"], [\"Brazil\"], [\"Brazil\"], [\"Brazil\"], [\"Brazil\"], [\"Brazil\"], [\"Brazil\"], [\"Brazil\"], [\"Brazil\"], [\"Brazil\"], [\"Brazil\"], [\"Brazil\"], [\"Brazil\"], [\"Brazil\"], [\"Brazil\"], [\"Brazil\"]], \"type\": \"scatter\", \"x\": [\"2020-01-22T00:00:00\", \"2020-01-23T00:00:00\", \"2020-01-24T00:00:00\", \"2020-01-25T00:00:00\", \"2020-01-26T00:00:00\", \"2020-01-27T00:00:00\", \"2020-01-28T00:00:00\", \"2020-01-29T00:00:00\", \"2020-01-30T00:00:00\", \"2020-01-31T00:00:00\", \"2020-02-01T00:00:00\", \"2020-02-02T00:00:00\", \"2020-02-03T00:00:00\", \"2020-02-04T00:00:00\", \"2020-02-05T00:00:00\", \"2020-02-06T00:00:00\", \"2020-02-07T00:00:00\", \"2020-02-08T00:00:00\", \"2020-02-09T00:00:00\", \"2020-02-10T00:00:00\", \"2020-02-11T00:00:00\", \"2020-02-12T00:00:00\", \"2020-02-13T00:00:00\", \"2020-02-14T00:00:00\", \"2020-02-15T00:00:00\", \"2020-02-16T00:00:00\", \"2020-02-17T00:00:00\", \"2020-02-18T00:00:00\", \"2020-02-19T00:00:00\", \"2020-02-20T00:00:00\", \"2020-02-21T00:00:00\", \"2020-02-22T00:00:00\", \"2020-02-23T00:00:00\", \"2020-02-24T00:00:00\", \"2020-02-25T00:00:00\", \"2020-02-26T00:00:00\", \"2020-02-27T00:00:00\", \"2020-02-28T00:00:00\", \"2020-02-29T00:00:00\", \"2020-03-01T00:00:00\", \"2020-03-02T00:00:00\", \"2020-03-03T00:00:00\", \"2020-03-04T00:00:00\", \"2020-03-05T00:00:00\", \"2020-03-06T00:00:00\", \"2020-03-07T00:00:00\", \"2020-03-08T00:00:00\", \"2020-03-09T00:00:00\", \"2020-03-10T00:00:00\", \"2020-03-11T00:00:00\", \"2020-03-12T00:00:00\", \"2020-03-13T00:00:00\", \"2020-03-14T00:00:00\", \"2020-03-15T00:00:00\", \"2020-03-16T00:00:00\", \"2020-03-17T00:00:00\", \"2020-03-18T00:00:00\", \"2020-03-19T00:00:00\", \"2020-03-20T00:00:00\", \"2020-03-21T00:00:00\", \"2020-03-22T00:00:00\", \"2020-03-23T00:00:00\", \"2020-03-24T00:00:00\", \"2020-03-25T00:00:00\", \"2020-03-26T00:00:00\", \"2020-03-27T00:00:00\", \"2020-03-28T00:00:00\"], \"y\": [0, 0, 0, 0, 0, 0, 0, 0, 0, 0, 0, 0, 0, 0, 0, 0, 0, 0, 0, 0, 0, 0, 0, 0, 0, 0, 0, 0, 0, 0, 0, 0, 0, 0, 0, 1, 1, 1, 2, 2, 2, 2, 4, 4, 13, 13, 20, 25, 31, 38, 52, 151, 151, 162, 200, 321, 372, 621, 793, 1021, 1546, 1924, 2247, 2554, 2985, 3417, 3904]}, {\"hovertemplate\": \"<b>%{text}</b><br><b>Day</b>: %{x}<br><b>Deaths</b>: %{y}<br><extra></extra>\", \"line\": {\"dash\": \"dash\", \"width\": 0.9}, \"marker\": {\"line\": {\"color\": \"rgb(0, 0, 0)\", \"width\": 0.5}, \"opacity\": 0.3}, \"mode\": \"lines\", \"name\": \"Brazil Deaths\", \"text\": [[\"Brazil\"], [\"Brazil\"], [\"Brazil\"], [\"Brazil\"], [\"Brazil\"], [\"Brazil\"], [\"Brazil\"], [\"Brazil\"], [\"Brazil\"], [\"Brazil\"], [\"Brazil\"], [\"Brazil\"], [\"Brazil\"], [\"Brazil\"], [\"Brazil\"], [\"Brazil\"], [\"Brazil\"], [\"Brazil\"], [\"Brazil\"], [\"Brazil\"], [\"Brazil\"], [\"Brazil\"], [\"Brazil\"], [\"Brazil\"], [\"Brazil\"], [\"Brazil\"], [\"Brazil\"], [\"Brazil\"], [\"Brazil\"], [\"Brazil\"], [\"Brazil\"], [\"Brazil\"], [\"Brazil\"], [\"Brazil\"], [\"Brazil\"], [\"Brazil\"], [\"Brazil\"], [\"Brazil\"], [\"Brazil\"], [\"Brazil\"], [\"Brazil\"], [\"Brazil\"], [\"Brazil\"], [\"Brazil\"], [\"Brazil\"], [\"Brazil\"], [\"Brazil\"], [\"Brazil\"], [\"Brazil\"], [\"Brazil\"], [\"Brazil\"], [\"Brazil\"], [\"Brazil\"], [\"Brazil\"], [\"Brazil\"], [\"Brazil\"], [\"Brazil\"], [\"Brazil\"], [\"Brazil\"], [\"Brazil\"], [\"Brazil\"], [\"Brazil\"], [\"Brazil\"], [\"Brazil\"], [\"Brazil\"], [\"Brazil\"], [\"Brazil\"], [\"Brazil\"], [\"Brazil\"], [\"Brazil\"], [\"Brazil\"], [\"Brazil\"], [\"Brazil\"], [\"Brazil\"], [\"Brazil\"], [\"Brazil\"], [\"Brazil\"], [\"Brazil\"], [\"Brazil\"], [\"Brazil\"], [\"Brazil\"], [\"Brazil\"], [\"Brazil\"], [\"Brazil\"], [\"Brazil\"], [\"Brazil\"], [\"Brazil\"], [\"Brazil\"], [\"Brazil\"], [\"Brazil\"], [\"Brazil\"], [\"Brazil\"], [\"Brazil\"], [\"Brazil\"], [\"Brazil\"], [\"Brazil\"], [\"Brazil\"], [\"Brazil\"], [\"Brazil\"], [\"Brazil\"], [\"Brazil\"], [\"Brazil\"], [\"Brazil\"], [\"Brazil\"], [\"Brazil\"], [\"Brazil\"], [\"Brazil\"], [\"Brazil\"], [\"Brazil\"], [\"Brazil\"], [\"Brazil\"], [\"Brazil\"], [\"Brazil\"], [\"Brazil\"], [\"Brazil\"], [\"Brazil\"], [\"Brazil\"], [\"Brazil\"], [\"Brazil\"], [\"Brazil\"], [\"Brazil\"], [\"Brazil\"], [\"Brazil\"], [\"Brazil\"], [\"Brazil\"], [\"Brazil\"], [\"Brazil\"], [\"Brazil\"], [\"Brazil\"], [\"Brazil\"], [\"Brazil\"], [\"Brazil\"], [\"Brazil\"], [\"Brazil\"], [\"Brazil\"], [\"Brazil\"], [\"Brazil\"], [\"Brazil\"], [\"Brazil\"], [\"Brazil\"], [\"Brazil\"], [\"Brazil\"], [\"Brazil\"], [\"Brazil\"], [\"Brazil\"], [\"Brazil\"], [\"Brazil\"], [\"Brazil\"], [\"Brazil\"], [\"Brazil\"], [\"Brazil\"], [\"Brazil\"], [\"Brazil\"], [\"Brazil\"], [\"Brazil\"], [\"Brazil\"], [\"Brazil\"], [\"Brazil\"], [\"Brazil\"], [\"Brazil\"], [\"Brazil\"], [\"Brazil\"], [\"Brazil\"], [\"Brazil\"], [\"Brazil\"], [\"Brazil\"], [\"Brazil\"], [\"Brazil\"], [\"Brazil\"], [\"Brazil\"], [\"Brazil\"], [\"Brazil\"], [\"Brazil\"], [\"Brazil\"], [\"Brazil\"], [\"Brazil\"], [\"Brazil\"], [\"Brazil\"]], \"type\": \"scatter\", \"x\": [\"2020-01-22T00:00:00\", \"2020-01-23T00:00:00\", \"2020-01-24T00:00:00\", \"2020-01-25T00:00:00\", \"2020-01-26T00:00:00\", \"2020-01-27T00:00:00\", \"2020-01-28T00:00:00\", \"2020-01-29T00:00:00\", \"2020-01-30T00:00:00\", \"2020-01-31T00:00:00\", \"2020-02-01T00:00:00\", \"2020-02-02T00:00:00\", \"2020-02-03T00:00:00\", \"2020-02-04T00:00:00\", \"2020-02-05T00:00:00\", \"2020-02-06T00:00:00\", \"2020-02-07T00:00:00\", \"2020-02-08T00:00:00\", \"2020-02-09T00:00:00\", \"2020-02-10T00:00:00\", \"2020-02-11T00:00:00\", \"2020-02-12T00:00:00\", \"2020-02-13T00:00:00\", \"2020-02-14T00:00:00\", \"2020-02-15T00:00:00\", \"2020-02-16T00:00:00\", \"2020-02-17T00:00:00\", \"2020-02-18T00:00:00\", \"2020-02-19T00:00:00\", \"2020-02-20T00:00:00\", \"2020-02-21T00:00:00\", \"2020-02-22T00:00:00\", \"2020-02-23T00:00:00\", \"2020-02-24T00:00:00\", \"2020-02-25T00:00:00\", \"2020-02-26T00:00:00\", \"2020-02-27T00:00:00\", \"2020-02-28T00:00:00\", \"2020-02-29T00:00:00\", \"2020-03-01T00:00:00\", \"2020-03-02T00:00:00\", \"2020-03-03T00:00:00\", \"2020-03-04T00:00:00\", \"2020-03-05T00:00:00\", \"2020-03-06T00:00:00\", \"2020-03-07T00:00:00\", \"2020-03-08T00:00:00\", \"2020-03-09T00:00:00\", \"2020-03-10T00:00:00\", \"2020-03-11T00:00:00\", \"2020-03-12T00:00:00\", \"2020-03-13T00:00:00\", \"2020-03-14T00:00:00\", \"2020-03-15T00:00:00\", \"2020-03-16T00:00:00\", \"2020-03-17T00:00:00\", \"2020-03-18T00:00:00\", \"2020-03-19T00:00:00\", \"2020-03-20T00:00:00\", \"2020-03-21T00:00:00\", \"2020-03-22T00:00:00\", \"2020-03-23T00:00:00\", \"2020-03-24T00:00:00\", \"2020-03-25T00:00:00\", \"2020-03-26T00:00:00\", \"2020-03-27T00:00:00\", \"2020-03-28T00:00:00\"], \"y\": [0, 0, 0, 0, 0, 0, 0, 0, 0, 0, 0, 0, 0, 0, 0, 0, 0, 0, 0, 0, 0, 0, 0, 0, 0, 0, 0, 0, 0, 0, 0, 0, 0, 0, 0, 0, 0, 0, 0, 0, 0, 0, 0, 0, 0, 0, 0, 0, 0, 0, 0, 0, 0, 0, 0, 1, 3, 6, 11, 15, 25, 34, 46, 59, 77, 92, 111]}, {\"hovertemplate\": \"<b>%{text}</b><br><b>Day</b>: %{x}<br><b>Deaths</b>: %{y}<br><extra></extra>\", \"line\": {\"dash\": \"dot\", \"width\": 0.9}, \"marker\": {\"line\": {\"color\": \"rgb(0, 0, 0)\", \"width\": 0.5}, \"opacity\": 0.3}, \"mode\": \"lines\", \"name\": \"Brazil Recorved\", \"text\": [[\"Brazil\"], [\"Brazil\"], [\"Brazil\"], [\"Brazil\"], [\"Brazil\"], [\"Brazil\"], [\"Brazil\"], [\"Brazil\"], [\"Brazil\"], [\"Brazil\"], [\"Brazil\"], [\"Brazil\"], [\"Brazil\"], [\"Brazil\"], [\"Brazil\"], [\"Brazil\"], [\"Brazil\"], [\"Brazil\"], [\"Brazil\"], [\"Brazil\"], [\"Brazil\"], [\"Brazil\"], [\"Brazil\"], [\"Brazil\"], [\"Brazil\"], [\"Brazil\"], [\"Brazil\"], [\"Brazil\"], [\"Brazil\"], [\"Brazil\"], [\"Brazil\"], [\"Brazil\"], [\"Brazil\"], [\"Brazil\"], [\"Brazil\"], [\"Brazil\"], [\"Brazil\"], [\"Brazil\"], [\"Brazil\"], [\"Brazil\"], [\"Brazil\"], [\"Brazil\"], [\"Brazil\"], [\"Brazil\"], [\"Brazil\"], [\"Brazil\"], [\"Brazil\"], [\"Brazil\"], [\"Brazil\"], [\"Brazil\"], [\"Brazil\"], [\"Brazil\"], [\"Brazil\"], [\"Brazil\"], [\"Brazil\"], [\"Brazil\"], [\"Brazil\"], [\"Brazil\"], [\"Brazil\"], [\"Brazil\"], [\"Brazil\"], [\"Brazil\"], [\"Brazil\"], [\"Brazil\"], [\"Brazil\"], [\"Brazil\"], [\"Brazil\"], [\"Brazil\"], [\"Brazil\"], [\"Brazil\"], [\"Brazil\"], [\"Brazil\"], [\"Brazil\"], [\"Brazil\"], [\"Brazil\"], [\"Brazil\"], [\"Brazil\"], [\"Brazil\"], [\"Brazil\"], [\"Brazil\"], [\"Brazil\"], [\"Brazil\"], [\"Brazil\"], [\"Brazil\"], [\"Brazil\"], [\"Brazil\"], [\"Brazil\"], [\"Brazil\"], [\"Brazil\"], [\"Brazil\"], [\"Brazil\"], [\"Brazil\"], [\"Brazil\"], [\"Brazil\"], [\"Brazil\"], [\"Brazil\"], [\"Brazil\"], [\"Brazil\"], [\"Brazil\"], [\"Brazil\"], [\"Brazil\"], [\"Brazil\"], [\"Brazil\"], [\"Brazil\"], [\"Brazil\"], [\"Brazil\"], [\"Brazil\"], [\"Brazil\"], [\"Brazil\"], [\"Brazil\"], [\"Brazil\"], [\"Brazil\"], [\"Brazil\"], [\"Brazil\"], [\"Brazil\"], [\"Brazil\"], [\"Brazil\"], [\"Brazil\"], [\"Brazil\"], [\"Brazil\"], [\"Brazil\"], [\"Brazil\"], [\"Brazil\"], [\"Brazil\"], [\"Brazil\"], [\"Brazil\"], [\"Brazil\"], [\"Brazil\"], [\"Brazil\"], [\"Brazil\"], [\"Brazil\"], [\"Brazil\"], [\"Brazil\"], [\"Brazil\"], [\"Brazil\"], [\"Brazil\"], [\"Brazil\"], [\"Brazil\"], [\"Brazil\"], [\"Brazil\"], [\"Brazil\"], [\"Brazil\"], [\"Brazil\"], [\"Brazil\"], [\"Brazil\"], [\"Brazil\"], [\"Brazil\"], [\"Brazil\"], [\"Brazil\"], [\"Brazil\"], [\"Brazil\"], [\"Brazil\"], [\"Brazil\"], [\"Brazil\"], [\"Brazil\"], [\"Brazil\"], [\"Brazil\"], [\"Brazil\"], [\"Brazil\"], [\"Brazil\"], [\"Brazil\"], [\"Brazil\"], [\"Brazil\"], [\"Brazil\"], [\"Brazil\"], [\"Brazil\"], [\"Brazil\"], [\"Brazil\"], [\"Brazil\"], [\"Brazil\"], [\"Brazil\"], [\"Brazil\"], [\"Brazil\"], [\"Brazil\"], [\"Brazil\"], [\"Brazil\"], [\"Brazil\"], [\"Brazil\"]], \"type\": \"scatter\", \"x\": [\"2020-01-22T00:00:00\", \"2020-01-23T00:00:00\", \"2020-01-24T00:00:00\", \"2020-01-25T00:00:00\", \"2020-01-26T00:00:00\", \"2020-01-27T00:00:00\", \"2020-01-28T00:00:00\", \"2020-01-29T00:00:00\", \"2020-01-30T00:00:00\", \"2020-01-31T00:00:00\", \"2020-02-01T00:00:00\", \"2020-02-02T00:00:00\", \"2020-02-03T00:00:00\", \"2020-02-04T00:00:00\", \"2020-02-05T00:00:00\", \"2020-02-06T00:00:00\", \"2020-02-07T00:00:00\", \"2020-02-08T00:00:00\", \"2020-02-09T00:00:00\", \"2020-02-10T00:00:00\", \"2020-02-11T00:00:00\", \"2020-02-12T00:00:00\", \"2020-02-13T00:00:00\", \"2020-02-14T00:00:00\", \"2020-02-15T00:00:00\", \"2020-02-16T00:00:00\", \"2020-02-17T00:00:00\", \"2020-02-18T00:00:00\", \"2020-02-19T00:00:00\", \"2020-02-20T00:00:00\", \"2020-02-21T00:00:00\", \"2020-02-22T00:00:00\", \"2020-02-23T00:00:00\", \"2020-02-24T00:00:00\", \"2020-02-25T00:00:00\", \"2020-02-26T00:00:00\", \"2020-02-27T00:00:00\", \"2020-02-28T00:00:00\", \"2020-02-29T00:00:00\", \"2020-03-01T00:00:00\", \"2020-03-02T00:00:00\", \"2020-03-03T00:00:00\", \"2020-03-04T00:00:00\", \"2020-03-05T00:00:00\", \"2020-03-06T00:00:00\", \"2020-03-07T00:00:00\", \"2020-03-08T00:00:00\", \"2020-03-09T00:00:00\", \"2020-03-10T00:00:00\", \"2020-03-11T00:00:00\", \"2020-03-12T00:00:00\", \"2020-03-13T00:00:00\", \"2020-03-14T00:00:00\", \"2020-03-15T00:00:00\", \"2020-03-16T00:00:00\", \"2020-03-17T00:00:00\", \"2020-03-18T00:00:00\", \"2020-03-19T00:00:00\", \"2020-03-20T00:00:00\", \"2020-03-21T00:00:00\", \"2020-03-22T00:00:00\", \"2020-03-23T00:00:00\", \"2020-03-24T00:00:00\", \"2020-03-25T00:00:00\", \"2020-03-26T00:00:00\", \"2020-03-27T00:00:00\", \"2020-03-28T00:00:00\"], \"y\": [0, 0, 0, 0, 0, 0, 0, 0, 0, 0, 0, 0, 0, 0, 0, 0, 0, 0, 0, 0, 0, 0, 0, 0, 0, 0, 0, 0, 0, 0, 0, 0, 0, 0, 0, 0, 0, 0, 0, 0, 0, 0, 0, 0, 0, 0, 0, 0, 0, 0, 0, 0, 0, 0, 1, 2, 2, 2, 2, 2, 2, 2, 2, 2, 6, 6, 6]}, {\"hovertemplate\": \"<b>%{text}</b><br><b>Day</b>: %{x}<br><b>Confirmed Cases</b>: %{y}<br><extra></extra>\", \"line\": {\"width\": 0.5}, \"marker\": {\"line\": {\"color\": \"rgb(0, 0, 0)\", \"width\": 0.5}, \"opacity\": 0.3}, \"mode\": \"lines\", \"name\": \"China Confirmed\", \"text\": [[\"China\"], [\"China\"], [\"China\"], [\"China\"], [\"China\"], [\"China\"], [\"China\"], [\"China\"], [\"China\"], [\"China\"], [\"China\"], [\"China\"], [\"China\"], [\"China\"], [\"China\"], [\"China\"], [\"China\"], [\"China\"], [\"China\"], [\"China\"], [\"China\"], [\"China\"], [\"China\"], [\"China\"], [\"China\"], [\"China\"], [\"China\"], [\"China\"], [\"China\"], [\"China\"], [\"China\"], [\"China\"], [\"China\"], [\"China\"], [\"China\"], [\"China\"], [\"China\"], [\"China\"], [\"China\"], [\"China\"], [\"China\"], [\"China\"], [\"China\"], [\"China\"], [\"China\"], [\"China\"], [\"China\"], [\"China\"], [\"China\"], [\"China\"], [\"China\"], [\"China\"], [\"China\"], [\"China\"], [\"China\"], [\"China\"], [\"China\"], [\"China\"], [\"China\"], [\"China\"], [\"China\"], [\"China\"], [\"China\"], [\"China\"], [\"China\"], [\"China\"], [\"China\"], [\"China\"], [\"China\"], [\"China\"], [\"China\"], [\"China\"], [\"China\"], [\"China\"], [\"China\"], [\"China\"], [\"China\"], [\"China\"], [\"China\"], [\"China\"], [\"China\"], [\"China\"], [\"China\"], [\"China\"], [\"China\"], [\"China\"], [\"China\"], [\"China\"], [\"China\"], [\"China\"], [\"China\"], [\"China\"], [\"China\"], [\"China\"], [\"China\"], [\"China\"], [\"China\"], [\"China\"], [\"China\"], [\"China\"], [\"China\"], [\"China\"], [\"China\"], [\"China\"], [\"China\"], [\"China\"], [\"China\"], [\"China\"], [\"China\"], [\"China\"], [\"China\"], [\"China\"], [\"China\"], [\"China\"], [\"China\"], [\"China\"], [\"China\"], [\"China\"], [\"China\"], [\"China\"], [\"China\"], [\"China\"], [\"China\"], [\"China\"], [\"China\"], [\"China\"], [\"China\"], [\"China\"], [\"China\"], [\"China\"], [\"China\"], [\"China\"], [\"China\"], [\"China\"], [\"China\"], [\"China\"], [\"China\"], [\"China\"], [\"China\"], [\"China\"], [\"China\"], [\"China\"], [\"China\"], [\"China\"], [\"China\"], [\"China\"], [\"China\"], [\"China\"], [\"China\"], [\"China\"], [\"China\"], [\"China\"], [\"China\"], [\"China\"], [\"China\"], [\"China\"], [\"China\"], [\"China\"], [\"China\"], [\"China\"], [\"China\"], [\"China\"], [\"China\"], [\"China\"], [\"China\"], [\"China\"], [\"China\"], [\"China\"], [\"China\"], [\"China\"], [\"China\"], [\"China\"], [\"China\"], [\"China\"], [\"China\"], [\"China\"], [\"China\"], [\"China\"]], \"type\": \"scatter\", \"x\": [\"2020-01-22T00:00:00\", \"2020-01-23T00:00:00\", \"2020-01-24T00:00:00\", \"2020-01-25T00:00:00\", \"2020-01-26T00:00:00\", \"2020-01-27T00:00:00\", \"2020-01-28T00:00:00\", \"2020-01-29T00:00:00\", \"2020-01-30T00:00:00\", \"2020-01-31T00:00:00\", \"2020-02-01T00:00:00\", \"2020-02-02T00:00:00\", \"2020-02-03T00:00:00\", \"2020-02-04T00:00:00\", \"2020-02-05T00:00:00\", \"2020-02-06T00:00:00\", \"2020-02-07T00:00:00\", \"2020-02-08T00:00:00\", \"2020-02-09T00:00:00\", \"2020-02-10T00:00:00\", \"2020-02-11T00:00:00\", \"2020-02-12T00:00:00\", \"2020-02-13T00:00:00\", \"2020-02-14T00:00:00\", \"2020-02-15T00:00:00\", \"2020-02-16T00:00:00\", \"2020-02-17T00:00:00\", \"2020-02-18T00:00:00\", \"2020-02-19T00:00:00\", \"2020-02-20T00:00:00\", \"2020-02-21T00:00:00\", \"2020-02-22T00:00:00\", \"2020-02-23T00:00:00\", \"2020-02-24T00:00:00\", \"2020-02-25T00:00:00\", \"2020-02-26T00:00:00\", \"2020-02-27T00:00:00\", \"2020-02-28T00:00:00\", \"2020-02-29T00:00:00\", \"2020-03-01T00:00:00\", \"2020-03-02T00:00:00\", \"2020-03-03T00:00:00\", \"2020-03-04T00:00:00\", \"2020-03-05T00:00:00\", \"2020-03-06T00:00:00\", \"2020-03-07T00:00:00\", \"2020-03-08T00:00:00\", \"2020-03-09T00:00:00\", \"2020-03-10T00:00:00\", \"2020-03-11T00:00:00\", \"2020-03-12T00:00:00\", \"2020-03-13T00:00:00\", \"2020-03-14T00:00:00\", \"2020-03-15T00:00:00\", \"2020-03-16T00:00:00\", \"2020-03-17T00:00:00\", \"2020-03-18T00:00:00\", \"2020-03-19T00:00:00\", \"2020-03-20T00:00:00\", \"2020-03-21T00:00:00\", \"2020-03-22T00:00:00\", \"2020-03-23T00:00:00\", \"2020-03-24T00:00:00\", \"2020-03-25T00:00:00\", \"2020-03-26T00:00:00\", \"2020-03-27T00:00:00\", \"2020-03-28T00:00:00\"], \"y\": [548, 643, 920, 1406, 2075, 2877, 5509, 6087, 8141, 9802, 11891, 16630, 19716, 23707, 27440, 30587, 34110, 36814, 39829, 42354, 44386, 44759, 59895, 66358, 68413, 70513, 72434, 74211, 74619, 75077, 75550, 77001, 77022, 77241, 77754, 78166, 78600, 78928, 79356, 79932, 80136, 80261, 80386, 80537, 80690, 80770, 80823, 80860, 80887, 80921, 80932, 80945, 80977, 81003, 81033, 81058, 81102, 81156, 81250, 81305, 81435, 81498, 81591, 81661, 81782, 81897, 81999]}, {\"hovertemplate\": \"<b>%{text}</b><br><b>Day</b>: %{x}<br><b>Deaths</b>: %{y}<br><extra></extra>\", \"line\": {\"dash\": \"dash\", \"width\": 0.9}, \"marker\": {\"line\": {\"color\": \"rgb(0, 0, 0)\", \"width\": 0.5}, \"opacity\": 0.3}, \"mode\": \"lines\", \"name\": \"China Deaths\", \"text\": [[\"China\"], [\"China\"], [\"China\"], [\"China\"], [\"China\"], [\"China\"], [\"China\"], [\"China\"], [\"China\"], [\"China\"], [\"China\"], [\"China\"], [\"China\"], [\"China\"], [\"China\"], [\"China\"], [\"China\"], [\"China\"], [\"China\"], [\"China\"], [\"China\"], [\"China\"], [\"China\"], [\"China\"], [\"China\"], [\"China\"], [\"China\"], [\"China\"], [\"China\"], [\"China\"], [\"China\"], [\"China\"], [\"China\"], [\"China\"], [\"China\"], [\"China\"], [\"China\"], [\"China\"], [\"China\"], [\"China\"], [\"China\"], [\"China\"], [\"China\"], [\"China\"], [\"China\"], [\"China\"], [\"China\"], [\"China\"], [\"China\"], [\"China\"], [\"China\"], [\"China\"], [\"China\"], [\"China\"], [\"China\"], [\"China\"], [\"China\"], [\"China\"], [\"China\"], [\"China\"], [\"China\"], [\"China\"], [\"China\"], [\"China\"], [\"China\"], [\"China\"], [\"China\"], [\"China\"], [\"China\"], [\"China\"], [\"China\"], [\"China\"], [\"China\"], [\"China\"], [\"China\"], [\"China\"], [\"China\"], [\"China\"], [\"China\"], [\"China\"], [\"China\"], [\"China\"], [\"China\"], [\"China\"], [\"China\"], [\"China\"], [\"China\"], [\"China\"], [\"China\"], [\"China\"], [\"China\"], [\"China\"], [\"China\"], [\"China\"], [\"China\"], [\"China\"], [\"China\"], [\"China\"], [\"China\"], [\"China\"], [\"China\"], [\"China\"], [\"China\"], [\"China\"], [\"China\"], [\"China\"], [\"China\"], [\"China\"], [\"China\"], [\"China\"], [\"China\"], [\"China\"], [\"China\"], [\"China\"], [\"China\"], [\"China\"], [\"China\"], [\"China\"], [\"China\"], [\"China\"], [\"China\"], [\"China\"], [\"China\"], [\"China\"], [\"China\"], [\"China\"], [\"China\"], [\"China\"], [\"China\"], [\"China\"], [\"China\"], [\"China\"], [\"China\"], [\"China\"], [\"China\"], [\"China\"], [\"China\"], [\"China\"], [\"China\"], [\"China\"], [\"China\"], [\"China\"], [\"China\"], [\"China\"], [\"China\"], [\"China\"], [\"China\"], [\"China\"], [\"China\"], [\"China\"], [\"China\"], [\"China\"], [\"China\"], [\"China\"], [\"China\"], [\"China\"], [\"China\"], [\"China\"], [\"China\"], [\"China\"], [\"China\"], [\"China\"], [\"China\"], [\"China\"], [\"China\"], [\"China\"], [\"China\"], [\"China\"], [\"China\"], [\"China\"], [\"China\"], [\"China\"], [\"China\"], [\"China\"], [\"China\"], [\"China\"], [\"China\"], [\"China\"]], \"type\": \"scatter\", \"x\": [\"2020-01-22T00:00:00\", \"2020-01-23T00:00:00\", \"2020-01-24T00:00:00\", \"2020-01-25T00:00:00\", \"2020-01-26T00:00:00\", \"2020-01-27T00:00:00\", \"2020-01-28T00:00:00\", \"2020-01-29T00:00:00\", \"2020-01-30T00:00:00\", \"2020-01-31T00:00:00\", \"2020-02-01T00:00:00\", \"2020-02-02T00:00:00\", \"2020-02-03T00:00:00\", \"2020-02-04T00:00:00\", \"2020-02-05T00:00:00\", \"2020-02-06T00:00:00\", \"2020-02-07T00:00:00\", \"2020-02-08T00:00:00\", \"2020-02-09T00:00:00\", \"2020-02-10T00:00:00\", \"2020-02-11T00:00:00\", \"2020-02-12T00:00:00\", \"2020-02-13T00:00:00\", \"2020-02-14T00:00:00\", \"2020-02-15T00:00:00\", \"2020-02-16T00:00:00\", \"2020-02-17T00:00:00\", \"2020-02-18T00:00:00\", \"2020-02-19T00:00:00\", \"2020-02-20T00:00:00\", \"2020-02-21T00:00:00\", \"2020-02-22T00:00:00\", \"2020-02-23T00:00:00\", \"2020-02-24T00:00:00\", \"2020-02-25T00:00:00\", \"2020-02-26T00:00:00\", \"2020-02-27T00:00:00\", \"2020-02-28T00:00:00\", \"2020-02-29T00:00:00\", \"2020-03-01T00:00:00\", \"2020-03-02T00:00:00\", \"2020-03-03T00:00:00\", \"2020-03-04T00:00:00\", \"2020-03-05T00:00:00\", \"2020-03-06T00:00:00\", \"2020-03-07T00:00:00\", \"2020-03-08T00:00:00\", \"2020-03-09T00:00:00\", \"2020-03-10T00:00:00\", \"2020-03-11T00:00:00\", \"2020-03-12T00:00:00\", \"2020-03-13T00:00:00\", \"2020-03-14T00:00:00\", \"2020-03-15T00:00:00\", \"2020-03-16T00:00:00\", \"2020-03-17T00:00:00\", \"2020-03-18T00:00:00\", \"2020-03-19T00:00:00\", \"2020-03-20T00:00:00\", \"2020-03-21T00:00:00\", \"2020-03-22T00:00:00\", \"2020-03-23T00:00:00\", \"2020-03-24T00:00:00\", \"2020-03-25T00:00:00\", \"2020-03-26T00:00:00\", \"2020-03-27T00:00:00\", \"2020-03-28T00:00:00\"], \"y\": [17, 18, 26, 42, 56, 82, 131, 133, 171, 213, 259, 361, 425, 491, 563, 633, 718, 805, 905, 1012, 1112, 1117, 1369, 1521, 1663, 1766, 1864, 2003, 2116, 2238, 2238, 2443, 2445, 2595, 2665, 2717, 2746, 2790, 2837, 2872, 2914, 2947, 2983, 3015, 3044, 3072, 3100, 3123, 3139, 3161, 3172, 3180, 3193, 3203, 3217, 3230, 3241, 3249, 3253, 3259, 3274, 3274, 3281, 3285, 3291, 3296, 3299]}, {\"hovertemplate\": \"<b>%{text}</b><br><b>Day</b>: %{x}<br><b>Deaths</b>: %{y}<br><extra></extra>\", \"line\": {\"dash\": \"dot\", \"width\": 0.9}, \"marker\": {\"line\": {\"color\": \"rgb(0, 0, 0)\", \"width\": 0.5}, \"opacity\": 0.3}, \"mode\": \"lines\", \"name\": \"China Recorved\", \"text\": [[\"China\"], [\"China\"], [\"China\"], [\"China\"], [\"China\"], [\"China\"], [\"China\"], [\"China\"], [\"China\"], [\"China\"], [\"China\"], [\"China\"], [\"China\"], [\"China\"], [\"China\"], [\"China\"], [\"China\"], [\"China\"], [\"China\"], [\"China\"], [\"China\"], [\"China\"], [\"China\"], [\"China\"], [\"China\"], [\"China\"], [\"China\"], [\"China\"], [\"China\"], [\"China\"], [\"China\"], [\"China\"], [\"China\"], [\"China\"], [\"China\"], [\"China\"], [\"China\"], [\"China\"], [\"China\"], [\"China\"], [\"China\"], [\"China\"], [\"China\"], [\"China\"], [\"China\"], [\"China\"], [\"China\"], [\"China\"], [\"China\"], [\"China\"], [\"China\"], [\"China\"], [\"China\"], [\"China\"], [\"China\"], [\"China\"], [\"China\"], [\"China\"], [\"China\"], [\"China\"], [\"China\"], [\"China\"], [\"China\"], [\"China\"], [\"China\"], [\"China\"], [\"China\"], [\"China\"], [\"China\"], [\"China\"], [\"China\"], [\"China\"], [\"China\"], [\"China\"], [\"China\"], [\"China\"], [\"China\"], [\"China\"], [\"China\"], [\"China\"], [\"China\"], [\"China\"], [\"China\"], [\"China\"], [\"China\"], [\"China\"], [\"China\"], [\"China\"], [\"China\"], [\"China\"], [\"China\"], [\"China\"], [\"China\"], [\"China\"], [\"China\"], [\"China\"], [\"China\"], [\"China\"], [\"China\"], [\"China\"], [\"China\"], [\"China\"], [\"China\"], [\"China\"], [\"China\"], [\"China\"], [\"China\"], [\"China\"], [\"China\"], [\"China\"], [\"China\"], [\"China\"], [\"China\"], [\"China\"], [\"China\"], [\"China\"], [\"China\"], [\"China\"], [\"China\"], [\"China\"], [\"China\"], [\"China\"], [\"China\"], [\"China\"], [\"China\"], [\"China\"], [\"China\"], [\"China\"], [\"China\"], [\"China\"], [\"China\"], [\"China\"], [\"China\"], [\"China\"], [\"China\"], [\"China\"], [\"China\"], [\"China\"], [\"China\"], [\"China\"], [\"China\"], [\"China\"], [\"China\"], [\"China\"], [\"China\"], [\"China\"], [\"China\"], [\"China\"], [\"China\"], [\"China\"], [\"China\"], [\"China\"], [\"China\"], [\"China\"], [\"China\"], [\"China\"], [\"China\"], [\"China\"], [\"China\"], [\"China\"], [\"China\"], [\"China\"], [\"China\"], [\"China\"], [\"China\"], [\"China\"], [\"China\"], [\"China\"], [\"China\"], [\"China\"], [\"China\"], [\"China\"], [\"China\"], [\"China\"], [\"China\"], [\"China\"], [\"China\"], [\"China\"]], \"type\": \"scatter\", \"x\": [\"2020-01-22T00:00:00\", \"2020-01-23T00:00:00\", \"2020-01-24T00:00:00\", \"2020-01-25T00:00:00\", \"2020-01-26T00:00:00\", \"2020-01-27T00:00:00\", \"2020-01-28T00:00:00\", \"2020-01-29T00:00:00\", \"2020-01-30T00:00:00\", \"2020-01-31T00:00:00\", \"2020-02-01T00:00:00\", \"2020-02-02T00:00:00\", \"2020-02-03T00:00:00\", \"2020-02-04T00:00:00\", \"2020-02-05T00:00:00\", \"2020-02-06T00:00:00\", \"2020-02-07T00:00:00\", \"2020-02-08T00:00:00\", \"2020-02-09T00:00:00\", \"2020-02-10T00:00:00\", \"2020-02-11T00:00:00\", \"2020-02-12T00:00:00\", \"2020-02-13T00:00:00\", \"2020-02-14T00:00:00\", \"2020-02-15T00:00:00\", \"2020-02-16T00:00:00\", \"2020-02-17T00:00:00\", \"2020-02-18T00:00:00\", \"2020-02-19T00:00:00\", \"2020-02-20T00:00:00\", \"2020-02-21T00:00:00\", \"2020-02-22T00:00:00\", \"2020-02-23T00:00:00\", \"2020-02-24T00:00:00\", \"2020-02-25T00:00:00\", \"2020-02-26T00:00:00\", \"2020-02-27T00:00:00\", \"2020-02-28T00:00:00\", \"2020-02-29T00:00:00\", \"2020-03-01T00:00:00\", \"2020-03-02T00:00:00\", \"2020-03-03T00:00:00\", \"2020-03-04T00:00:00\", \"2020-03-05T00:00:00\", \"2020-03-06T00:00:00\", \"2020-03-07T00:00:00\", \"2020-03-08T00:00:00\", \"2020-03-09T00:00:00\", \"2020-03-10T00:00:00\", \"2020-03-11T00:00:00\", \"2020-03-12T00:00:00\", \"2020-03-13T00:00:00\", \"2020-03-14T00:00:00\", \"2020-03-15T00:00:00\", \"2020-03-16T00:00:00\", \"2020-03-17T00:00:00\", \"2020-03-18T00:00:00\", \"2020-03-19T00:00:00\", \"2020-03-20T00:00:00\", \"2020-03-21T00:00:00\", \"2020-03-22T00:00:00\", \"2020-03-23T00:00:00\", \"2020-03-24T00:00:00\", \"2020-03-25T00:00:00\", \"2020-03-26T00:00:00\", \"2020-03-27T00:00:00\", \"2020-03-28T00:00:00\"], \"y\": [28, 30, 36, 39, 49, 58, 101, 120, 135, 214, 275, 463, 614, 843, 1115, 1477, 1999, 2596, 3219, 3918, 4636, 5082, 6217, 7977, 9298, 10755, 12462, 14206, 15962, 18014, 18704, 22699, 23187, 25015, 27676, 30084, 32930, 36329, 39320, 42162, 44854, 47450, 50001, 52292, 53944, 55539, 57388, 58804, 60181, 61644, 62901, 64196, 65660, 67017, 67910, 68798, 69755, 70535, 71266, 71857, 72362, 72814, 73280, 73773, 74181, 74720, 75100]}],\n",
       "                        {\"template\": {\"data\": {\"bar\": [{\"error_x\": {\"color\": \"#2a3f5f\"}, \"error_y\": {\"color\": \"#2a3f5f\"}, \"marker\": {\"line\": {\"color\": \"#E5ECF6\", \"width\": 0.5}}, \"type\": \"bar\"}], \"barpolar\": [{\"marker\": {\"line\": {\"color\": \"#E5ECF6\", \"width\": 0.5}}, \"type\": \"barpolar\"}], \"carpet\": [{\"aaxis\": {\"endlinecolor\": \"#2a3f5f\", \"gridcolor\": \"white\", \"linecolor\": \"white\", \"minorgridcolor\": \"white\", \"startlinecolor\": \"#2a3f5f\"}, \"baxis\": {\"endlinecolor\": \"#2a3f5f\", \"gridcolor\": \"white\", \"linecolor\": \"white\", \"minorgridcolor\": \"white\", \"startlinecolor\": \"#2a3f5f\"}, \"type\": \"carpet\"}], \"choropleth\": [{\"colorbar\": {\"outlinewidth\": 0, \"ticks\": \"\"}, \"type\": \"choropleth\"}], \"contour\": [{\"colorbar\": {\"outlinewidth\": 0, \"ticks\": \"\"}, \"colorscale\": [[0.0, \"#0d0887\"], [0.1111111111111111, \"#46039f\"], [0.2222222222222222, \"#7201a8\"], [0.3333333333333333, \"#9c179e\"], [0.4444444444444444, \"#bd3786\"], [0.5555555555555556, \"#d8576b\"], [0.6666666666666666, \"#ed7953\"], [0.7777777777777778, \"#fb9f3a\"], [0.8888888888888888, \"#fdca26\"], [1.0, \"#f0f921\"]], \"type\": \"contour\"}], \"contourcarpet\": [{\"colorbar\": {\"outlinewidth\": 0, \"ticks\": \"\"}, \"type\": \"contourcarpet\"}], \"heatmap\": [{\"colorbar\": {\"outlinewidth\": 0, \"ticks\": \"\"}, \"colorscale\": [[0.0, \"#0d0887\"], [0.1111111111111111, \"#46039f\"], [0.2222222222222222, \"#7201a8\"], [0.3333333333333333, \"#9c179e\"], [0.4444444444444444, \"#bd3786\"], [0.5555555555555556, \"#d8576b\"], [0.6666666666666666, \"#ed7953\"], [0.7777777777777778, \"#fb9f3a\"], [0.8888888888888888, \"#fdca26\"], [1.0, \"#f0f921\"]], \"type\": \"heatmap\"}], \"heatmapgl\": [{\"colorbar\": {\"outlinewidth\": 0, \"ticks\": \"\"}, \"colorscale\": [[0.0, \"#0d0887\"], [0.1111111111111111, \"#46039f\"], [0.2222222222222222, \"#7201a8\"], [0.3333333333333333, \"#9c179e\"], [0.4444444444444444, \"#bd3786\"], [0.5555555555555556, \"#d8576b\"], [0.6666666666666666, \"#ed7953\"], [0.7777777777777778, \"#fb9f3a\"], [0.8888888888888888, \"#fdca26\"], [1.0, \"#f0f921\"]], \"type\": \"heatmapgl\"}], \"histogram\": [{\"marker\": {\"colorbar\": {\"outlinewidth\": 0, \"ticks\": \"\"}}, \"type\": \"histogram\"}], \"histogram2d\": [{\"colorbar\": {\"outlinewidth\": 0, \"ticks\": \"\"}, \"colorscale\": [[0.0, \"#0d0887\"], [0.1111111111111111, \"#46039f\"], [0.2222222222222222, \"#7201a8\"], [0.3333333333333333, \"#9c179e\"], [0.4444444444444444, \"#bd3786\"], [0.5555555555555556, \"#d8576b\"], [0.6666666666666666, \"#ed7953\"], [0.7777777777777778, \"#fb9f3a\"], [0.8888888888888888, \"#fdca26\"], [1.0, \"#f0f921\"]], \"type\": \"histogram2d\"}], \"histogram2dcontour\": [{\"colorbar\": {\"outlinewidth\": 0, \"ticks\": \"\"}, \"colorscale\": [[0.0, \"#0d0887\"], [0.1111111111111111, \"#46039f\"], [0.2222222222222222, \"#7201a8\"], [0.3333333333333333, \"#9c179e\"], [0.4444444444444444, \"#bd3786\"], [0.5555555555555556, \"#d8576b\"], [0.6666666666666666, \"#ed7953\"], [0.7777777777777778, \"#fb9f3a\"], [0.8888888888888888, \"#fdca26\"], [1.0, \"#f0f921\"]], \"type\": \"histogram2dcontour\"}], \"mesh3d\": [{\"colorbar\": {\"outlinewidth\": 0, \"ticks\": \"\"}, \"type\": \"mesh3d\"}], \"parcoords\": [{\"line\": {\"colorbar\": {\"outlinewidth\": 0, \"ticks\": \"\"}}, \"type\": \"parcoords\"}], \"pie\": [{\"automargin\": true, \"type\": \"pie\"}], \"scatter\": [{\"marker\": {\"colorbar\": {\"outlinewidth\": 0, \"ticks\": \"\"}}, \"type\": \"scatter\"}], \"scatter3d\": [{\"line\": {\"colorbar\": {\"outlinewidth\": 0, \"ticks\": \"\"}}, \"marker\": {\"colorbar\": {\"outlinewidth\": 0, \"ticks\": \"\"}}, \"type\": \"scatter3d\"}], \"scattercarpet\": [{\"marker\": {\"colorbar\": {\"outlinewidth\": 0, \"ticks\": \"\"}}, \"type\": \"scattercarpet\"}], \"scattergeo\": [{\"marker\": {\"colorbar\": {\"outlinewidth\": 0, \"ticks\": \"\"}}, \"type\": \"scattergeo\"}], \"scattergl\": [{\"marker\": {\"colorbar\": {\"outlinewidth\": 0, \"ticks\": \"\"}}, \"type\": \"scattergl\"}], \"scattermapbox\": [{\"marker\": {\"colorbar\": {\"outlinewidth\": 0, \"ticks\": \"\"}}, \"type\": \"scattermapbox\"}], \"scatterpolar\": [{\"marker\": {\"colorbar\": {\"outlinewidth\": 0, \"ticks\": \"\"}}, \"type\": \"scatterpolar\"}], \"scatterpolargl\": [{\"marker\": {\"colorbar\": {\"outlinewidth\": 0, \"ticks\": \"\"}}, \"type\": \"scatterpolargl\"}], \"scatterternary\": [{\"marker\": {\"colorbar\": {\"outlinewidth\": 0, \"ticks\": \"\"}}, \"type\": \"scatterternary\"}], \"surface\": [{\"colorbar\": {\"outlinewidth\": 0, \"ticks\": \"\"}, \"colorscale\": [[0.0, \"#0d0887\"], [0.1111111111111111, \"#46039f\"], [0.2222222222222222, \"#7201a8\"], [0.3333333333333333, \"#9c179e\"], [0.4444444444444444, \"#bd3786\"], [0.5555555555555556, \"#d8576b\"], [0.6666666666666666, \"#ed7953\"], [0.7777777777777778, \"#fb9f3a\"], [0.8888888888888888, \"#fdca26\"], [1.0, \"#f0f921\"]], \"type\": \"surface\"}], \"table\": [{\"cells\": {\"fill\": {\"color\": \"#EBF0F8\"}, \"line\": {\"color\": \"white\"}}, \"header\": {\"fill\": {\"color\": \"#C8D4E3\"}, \"line\": {\"color\": \"white\"}}, \"type\": \"table\"}]}, \"layout\": {\"annotationdefaults\": {\"arrowcolor\": \"#2a3f5f\", \"arrowhead\": 0, \"arrowwidth\": 1}, \"coloraxis\": {\"colorbar\": {\"outlinewidth\": 0, \"ticks\": \"\"}}, \"colorscale\": {\"diverging\": [[0, \"#8e0152\"], [0.1, \"#c51b7d\"], [0.2, \"#de77ae\"], [0.3, \"#f1b6da\"], [0.4, \"#fde0ef\"], [0.5, \"#f7f7f7\"], [0.6, \"#e6f5d0\"], [0.7, \"#b8e186\"], [0.8, \"#7fbc41\"], [0.9, \"#4d9221\"], [1, \"#276419\"]], \"sequential\": [[0.0, \"#0d0887\"], [0.1111111111111111, \"#46039f\"], [0.2222222222222222, \"#7201a8\"], [0.3333333333333333, \"#9c179e\"], [0.4444444444444444, \"#bd3786\"], [0.5555555555555556, \"#d8576b\"], [0.6666666666666666, \"#ed7953\"], [0.7777777777777778, \"#fb9f3a\"], [0.8888888888888888, \"#fdca26\"], [1.0, \"#f0f921\"]], \"sequentialminus\": [[0.0, \"#0d0887\"], [0.1111111111111111, \"#46039f\"], [0.2222222222222222, \"#7201a8\"], [0.3333333333333333, \"#9c179e\"], [0.4444444444444444, \"#bd3786\"], [0.5555555555555556, \"#d8576b\"], [0.6666666666666666, \"#ed7953\"], [0.7777777777777778, \"#fb9f3a\"], [0.8888888888888888, \"#fdca26\"], [1.0, \"#f0f921\"]]}, \"colorway\": [\"#636efa\", \"#EF553B\", \"#00cc96\", \"#ab63fa\", \"#FFA15A\", \"#19d3f3\", \"#FF6692\", \"#B6E880\", \"#FF97FF\", \"#FECB52\"], \"font\": {\"color\": \"#2a3f5f\"}, \"geo\": {\"bgcolor\": \"white\", \"lakecolor\": \"white\", \"landcolor\": \"#E5ECF6\", \"showlakes\": true, \"showland\": true, \"subunitcolor\": \"white\"}, \"hoverlabel\": {\"align\": \"left\"}, \"hovermode\": \"closest\", \"mapbox\": {\"style\": \"light\"}, \"paper_bgcolor\": \"white\", \"plot_bgcolor\": \"#E5ECF6\", \"polar\": {\"angularaxis\": {\"gridcolor\": \"white\", \"linecolor\": \"white\", \"ticks\": \"\"}, \"bgcolor\": \"#E5ECF6\", \"radialaxis\": {\"gridcolor\": \"white\", \"linecolor\": \"white\", \"ticks\": \"\"}}, \"scene\": {\"xaxis\": {\"backgroundcolor\": \"#E5ECF6\", \"gridcolor\": \"white\", \"gridwidth\": 2, \"linecolor\": \"white\", \"showbackground\": true, \"ticks\": \"\", \"zerolinecolor\": \"white\"}, \"yaxis\": {\"backgroundcolor\": \"#E5ECF6\", \"gridcolor\": \"white\", \"gridwidth\": 2, \"linecolor\": \"white\", \"showbackground\": true, \"ticks\": \"\", \"zerolinecolor\": \"white\"}, \"zaxis\": {\"backgroundcolor\": \"#E5ECF6\", \"gridcolor\": \"white\", \"gridwidth\": 2, \"linecolor\": \"white\", \"showbackground\": true, \"ticks\": \"\", \"zerolinecolor\": \"white\"}}, \"shapedefaults\": {\"line\": {\"color\": \"#2a3f5f\"}}, \"ternary\": {\"aaxis\": {\"gridcolor\": \"white\", \"linecolor\": \"white\", \"ticks\": \"\"}, \"baxis\": {\"gridcolor\": \"white\", \"linecolor\": \"white\", \"ticks\": \"\"}, \"bgcolor\": \"#E5ECF6\", \"caxis\": {\"gridcolor\": \"white\", \"linecolor\": \"white\", \"ticks\": \"\"}}, \"title\": {\"x\": 0.05}, \"xaxis\": {\"automargin\": true, \"gridcolor\": \"white\", \"linecolor\": \"white\", \"ticks\": \"\", \"title\": {\"standoff\": 15}, \"zerolinecolor\": \"white\", \"zerolinewidth\": 2}, \"yaxis\": {\"automargin\": true, \"gridcolor\": \"white\", \"linecolor\": \"white\", \"ticks\": \"\", \"title\": {\"standoff\": 15}, \"zerolinecolor\": \"white\", \"zerolinewidth\": 2}}}, \"title\": {\"text\": \"COVID-19 Confirmed x Deaths (29, Mar 2020)\"}, \"xaxis\": {\"title\": {\"text\": \"Days\"}}, \"yaxis\": {\"title\": {\"text\": \"Confirmed Cases (log)\"}, \"type\": \"log\"}},\n",
       "                        {\"responsive\": true}\n",
       "                    ).then(function(){\n",
       "                            \n",
       "var gd = document.getElementById('995f2ae3-adcd-4992-bb5a-deb4cd2fdc63');\n",
       "var x = new MutationObserver(function (mutations, observer) {{\n",
       "        var display = window.getComputedStyle(gd).display;\n",
       "        if (!display || display === 'none') {{\n",
       "            console.log([gd, 'removed!']);\n",
       "            Plotly.purge(gd);\n",
       "            observer.disconnect();\n",
       "        }}\n",
       "}});\n",
       "\n",
       "// Listen for the removal of the full notebook cells\n",
       "var notebookContainer = gd.closest('#notebook-container');\n",
       "if (notebookContainer) {{\n",
       "    x.observe(notebookContainer, {childList: true});\n",
       "}}\n",
       "\n",
       "// Listen for the clearing of the current output cell\n",
       "var outputEl = gd.closest('.output');\n",
       "if (outputEl) {{\n",
       "    x.observe(outputEl, {childList: true});\n",
       "}}\n",
       "\n",
       "                        })\n",
       "                };\n",
       "                });\n",
       "            </script>\n",
       "        </div>"
      ]
     },
     "metadata": {},
     "output_type": "display_data"
    }
   ],
   "source": [
    "import numpy as np\n",
    "import pandas as pd\n",
    "import datetime as dt\n",
    "import plotly.graph_objects as go\n",
    "import plotly as plt\n",
    "\n",
    "dfConfirmed = pd.read_csv('https://raw.githubusercontent.com/CSSEGISandData/COVID-19/master/csse_covid_19_data/csse_covid_19_time_series/time_series_covid19_confirmed_global.csv')\n",
    "dfConfirmed = dfConfirmed.drop(['Province/State','Lat','Long'], axis = 1).fillna(0)\n",
    "dfConfirmed = dfConfirmed.groupby('Country/Region').sum().T.reset_index().rename(columns = {'index':'Day'})\n",
    "dfConfirmed[['Day']] = pd.to_datetime(dfConfirmed['Day'],utc=False)\n",
    "dfConfirmed[['Day','Brazil']]\n",
    "\n",
    "dfDeaths = pd.read_csv('https://raw.githubusercontent.com/CSSEGISandData/COVID-19/master/csse_covid_19_data/csse_covid_19_time_series/time_series_covid19_deaths_global.csv')\n",
    "dfDeaths = dfDeaths.drop(['Province/State','Lat','Long'], axis = 1).fillna(0)\n",
    "dfDeaths = dfDeaths.groupby('Country/Region').sum().T.reset_index().rename(columns = {'index':'Day'})\n",
    "dfDeaths[['Day']] = pd.to_datetime(dfDeaths['Day'],utc=False)\n",
    "\n",
    "dfRecorved = pd.read_csv('https://raw.githubusercontent.com/CSSEGISandData/COVID-19/master/csse_covid_19_data/csse_covid_19_time_series/time_series_covid19_recovered_global.csv')\n",
    "dfRecorved = dfRecorved.drop(['Province/State','Lat','Long'], axis = 1).fillna(0)\n",
    "dfRecorved = dfRecorved.groupby('Country/Region').sum().T.reset_index().rename(columns = {'index':'Day'})\n",
    "dfRecorved[['Day']] = pd.to_datetime(dfDeaths['Day'],utc=False)\n",
    "\n",
    "fig = go.Figure()\n",
    "last_upt = dt.date.today()\n",
    "title = 'COVID-19 Confirmed x Deaths (' + \"{:%d, %b %Y}\".format(last_upt) +')'\n",
    "\n",
    "#for country in dfA.columns[1:]:\n",
    "for country in ['Brazil','China']:\n",
    "    myMarker = dict(opacity= 0.3, line = dict(width = 0.5, color = 'rgb(0, 0, 0)'))\n",
    "    fig.add_trace(go.Scatter(x=dfConfirmed.Day, \n",
    "                             y=dfConfirmed[country], \n",
    "                             mode='lines', \n",
    "                             name=str(country + ' Confirmed'),\n",
    "                             text=np.full((dfConfirmed.shape[1],1), country), \n",
    "                             line=dict(width=0.5), \n",
    "                             marker = myMarker,\n",
    "                             hovertemplate = \"<b>%{text}</b><br>\" +\n",
    "                                             \"<b>Day</b>: %{x}<br>\" +\n",
    "                                             \"<b>Confirmed Cases</b>: %{y}<br>\" +\n",
    "                                             \"<extra></extra>\"\n",
    "                             )\n",
    "                 )\n",
    "\n",
    "    fig.add_trace(go.Scatter(x=dfDeaths.Day,\n",
    "                             y=dfDeaths[country],\n",
    "                             mode='lines', \n",
    "                             name=str(country + ' Deaths'),\n",
    "                             text=np.full((dfDeaths.shape[1],1), country), \n",
    "                             hovertemplate = \"<b>%{text}</b><br>\" +\n",
    "                                             \"<b>Day</b>: %{x}<br>\" +\n",
    "                                             \"<b>Deaths</b>: %{y}<br>\" +\n",
    "                                             \"<extra></extra>\",\n",
    "                             line=dict(width=0.9,dash='dash'),\n",
    "                             marker = myMarker,\n",
    "                            )\n",
    "                 )\n",
    "\n",
    "    fig.add_trace(go.Scatter(x=dfRecorved.Day,\n",
    "                             y=dfRecorved[country],\n",
    "                             mode='lines', \n",
    "                             name=str(country + ' Recorved'),\n",
    "                             text=np.full((dfRecorved.shape[1],1), country), \n",
    "                             hovertemplate = \"<b>%{text}</b><br>\" +\n",
    "                                             \"<b>Day</b>: %{x}<br>\" +\n",
    "                                             \"<b>Deaths</b>: %{y}<br>\" +\n",
    "                                             \"<extra></extra>\",\n",
    "                             line=dict(width=0.9,dash='dot'),\n",
    "                             marker = myMarker,\n",
    "                            )\n",
    "                 )\n",
    "\n",
    "fig.update_layout(xaxis_title='Days',\n",
    "                 yaxis_title='Confirmed Cases (log)',\n",
    "                 yaxis_type=\"log\",\n",
    "                 title_text=title)\n",
    "fig.show()\n",
    "#plt.offline.plot(fig, filename=\"../plotly/covid_19_time_series_comfirmed_cases.html\")\n",
    "#dfA.to_csv (r'../data/covid_19_time_series_comfirmed_cases.csv', index = False, header=True)"
   ]
  },
  {
   "cell_type": "code",
   "execution_count": 94,
   "metadata": {},
   "outputs": [
    {
     "data": {
      "text/plain": [
       "array([['China'],\n",
       "       ['China'],\n",
       "       ['China'],\n",
       "       ['China'],\n",
       "       ['China'],\n",
       "       ['China'],\n",
       "       ['China'],\n",
       "       ['China'],\n",
       "       ['China'],\n",
       "       ['China'],\n",
       "       ['China'],\n",
       "       ['China'],\n",
       "       ['China'],\n",
       "       ['China'],\n",
       "       ['China'],\n",
       "       ['China'],\n",
       "       ['China'],\n",
       "       ['China'],\n",
       "       ['China'],\n",
       "       ['China'],\n",
       "       ['China'],\n",
       "       ['China'],\n",
       "       ['China'],\n",
       "       ['China'],\n",
       "       ['China'],\n",
       "       ['China'],\n",
       "       ['China'],\n",
       "       ['China'],\n",
       "       ['China'],\n",
       "       ['China'],\n",
       "       ['China'],\n",
       "       ['China'],\n",
       "       ['China'],\n",
       "       ['China'],\n",
       "       ['China'],\n",
       "       ['China'],\n",
       "       ['China'],\n",
       "       ['China'],\n",
       "       ['China'],\n",
       "       ['China'],\n",
       "       ['China'],\n",
       "       ['China'],\n",
       "       ['China'],\n",
       "       ['China'],\n",
       "       ['China'],\n",
       "       ['China'],\n",
       "       ['China'],\n",
       "       ['China'],\n",
       "       ['China'],\n",
       "       ['China'],\n",
       "       ['China'],\n",
       "       ['China'],\n",
       "       ['China'],\n",
       "       ['China'],\n",
       "       ['China'],\n",
       "       ['China'],\n",
       "       ['China'],\n",
       "       ['China'],\n",
       "       ['China'],\n",
       "       ['China'],\n",
       "       ['China'],\n",
       "       ['China'],\n",
       "       ['China'],\n",
       "       ['China'],\n",
       "       ['China'],\n",
       "       ['China'],\n",
       "       ['China'],\n",
       "       ['China'],\n",
       "       ['China'],\n",
       "       ['China'],\n",
       "       ['China'],\n",
       "       ['China'],\n",
       "       ['China'],\n",
       "       ['China'],\n",
       "       ['China'],\n",
       "       ['China'],\n",
       "       ['China'],\n",
       "       ['China'],\n",
       "       ['China'],\n",
       "       ['China'],\n",
       "       ['China'],\n",
       "       ['China'],\n",
       "       ['China'],\n",
       "       ['China'],\n",
       "       ['China'],\n",
       "       ['China'],\n",
       "       ['China'],\n",
       "       ['China'],\n",
       "       ['China'],\n",
       "       ['China'],\n",
       "       ['China'],\n",
       "       ['China'],\n",
       "       ['China'],\n",
       "       ['China'],\n",
       "       ['China'],\n",
       "       ['China'],\n",
       "       ['China'],\n",
       "       ['China'],\n",
       "       ['China'],\n",
       "       ['China'],\n",
       "       ['China'],\n",
       "       ['China'],\n",
       "       ['China'],\n",
       "       ['China'],\n",
       "       ['China'],\n",
       "       ['China'],\n",
       "       ['China'],\n",
       "       ['China'],\n",
       "       ['China'],\n",
       "       ['China'],\n",
       "       ['China'],\n",
       "       ['China'],\n",
       "       ['China'],\n",
       "       ['China'],\n",
       "       ['China'],\n",
       "       ['China'],\n",
       "       ['China'],\n",
       "       ['China'],\n",
       "       ['China'],\n",
       "       ['China'],\n",
       "       ['China'],\n",
       "       ['China'],\n",
       "       ['China'],\n",
       "       ['China'],\n",
       "       ['China'],\n",
       "       ['China'],\n",
       "       ['China'],\n",
       "       ['China'],\n",
       "       ['China'],\n",
       "       ['China'],\n",
       "       ['China'],\n",
       "       ['China'],\n",
       "       ['China'],\n",
       "       ['China'],\n",
       "       ['China'],\n",
       "       ['China'],\n",
       "       ['China'],\n",
       "       ['China'],\n",
       "       ['China'],\n",
       "       ['China'],\n",
       "       ['China'],\n",
       "       ['China'],\n",
       "       ['China'],\n",
       "       ['China'],\n",
       "       ['China'],\n",
       "       ['China'],\n",
       "       ['China'],\n",
       "       ['China'],\n",
       "       ['China'],\n",
       "       ['China'],\n",
       "       ['China'],\n",
       "       ['China'],\n",
       "       ['China'],\n",
       "       ['China'],\n",
       "       ['China'],\n",
       "       ['China'],\n",
       "       ['China'],\n",
       "       ['China'],\n",
       "       ['China'],\n",
       "       ['China'],\n",
       "       ['China'],\n",
       "       ['China'],\n",
       "       ['China'],\n",
       "       ['China'],\n",
       "       ['China'],\n",
       "       ['China'],\n",
       "       ['China'],\n",
       "       ['China'],\n",
       "       ['China'],\n",
       "       ['China'],\n",
       "       ['China'],\n",
       "       ['China'],\n",
       "       ['China'],\n",
       "       ['China'],\n",
       "       ['China'],\n",
       "       ['China'],\n",
       "       ['China'],\n",
       "       ['China']], dtype='<U5')"
      ]
     },
     "execution_count": 94,
     "metadata": {},
     "output_type": "execute_result"
    }
   ],
   "source": [
    "np.full((dfConfirmed.shape[1],1), country)"
   ]
  },
  {
   "cell_type": "code",
   "execution_count": null,
   "metadata": {},
   "outputs": [],
   "source": []
  },
  {
   "cell_type": "code",
   "execution_count": null,
   "metadata": {},
   "outputs": [],
   "source": [
    "\n",
    "for country in dfA.columns[1:]:\n",
    "#for country in ['China','Japan','Brazil']:\n",
    "    fig.add_trace(go.Scatter(x=dfA.Day,\n",
    "                             y=dfA[country],\n",
    "                             mode='lines+markers', \n",
    "                             name=country,\n",
    "                             text=np.full((dfA.shape[1],1), country), \n",
    "                             hovertemplate = \"<b>%{text}</b><br>\" +\n",
    "                                             \"<b>Day</b>: %{x}<br>\" +\n",
    "                                             \"<b>Deaths</b>: %{y}<br>\" +\n",
    "                                             \"<extra></extra>\",\n",
    "                             line=dict(width=0.5),\n",
    "                             marker = dict(opacity= 0.3, line = dict(width = 0.5, color = 'rgb(0, 0, 0)')),\n",
    "                            )\n",
    "                 )\n",
    "\n",
    "fig.update_layout(xaxis_title='Day',\n",
    "                  yaxis_title='Deaths (log)',\n",
    "                  yaxis_type=\"log\",\n",
    "                  title_text=title)\n",
    "\n",
    "#fig.show()\n",
    "plt.offline.plot(fig, filename=\"../plotly/covid_19_time_series_total_deaths.html\")\n",
    "dfA.to_csv (r'../data/covid_19_time_series_total_deaths.csv', index = False, header=True)"
   ]
  },
  {
   "cell_type": "code",
   "execution_count": 74,
   "metadata": {},
   "outputs": [
    {
     "data": {
      "text/html": [
       "<div>\n",
       "<style scoped>\n",
       "    .dataframe tbody tr th:only-of-type {\n",
       "        vertical-align: middle;\n",
       "    }\n",
       "\n",
       "    .dataframe tbody tr th {\n",
       "        vertical-align: top;\n",
       "    }\n",
       "\n",
       "    .dataframe thead th {\n",
       "        text-align: right;\n",
       "    }\n",
       "</style>\n",
       "<table border=\"1\" class=\"dataframe\">\n",
       "  <thead>\n",
       "    <tr style=\"text-align: right;\">\n",
       "      <th></th>\n",
       "      <th>Confirmed</th>\n",
       "      <th>Deaths</th>\n",
       "    </tr>\n",
       "  </thead>\n",
       "  <tbody>\n",
       "    <tr>\n",
       "      <th>0</th>\n",
       "      <td>548</td>\n",
       "      <td>17</td>\n",
       "    </tr>\n",
       "    <tr>\n",
       "      <th>1</th>\n",
       "      <td>643</td>\n",
       "      <td>18</td>\n",
       "    </tr>\n",
       "    <tr>\n",
       "      <th>2</th>\n",
       "      <td>920</td>\n",
       "      <td>26</td>\n",
       "    </tr>\n",
       "    <tr>\n",
       "      <th>3</th>\n",
       "      <td>1406</td>\n",
       "      <td>42</td>\n",
       "    </tr>\n",
       "    <tr>\n",
       "      <th>4</th>\n",
       "      <td>2075</td>\n",
       "      <td>56</td>\n",
       "    </tr>\n",
       "    <tr>\n",
       "      <th>5</th>\n",
       "      <td>2877</td>\n",
       "      <td>82</td>\n",
       "    </tr>\n",
       "    <tr>\n",
       "      <th>6</th>\n",
       "      <td>5509</td>\n",
       "      <td>131</td>\n",
       "    </tr>\n",
       "    <tr>\n",
       "      <th>7</th>\n",
       "      <td>6087</td>\n",
       "      <td>133</td>\n",
       "    </tr>\n",
       "    <tr>\n",
       "      <th>8</th>\n",
       "      <td>8141</td>\n",
       "      <td>171</td>\n",
       "    </tr>\n",
       "    <tr>\n",
       "      <th>9</th>\n",
       "      <td>9802</td>\n",
       "      <td>213</td>\n",
       "    </tr>\n",
       "    <tr>\n",
       "      <th>10</th>\n",
       "      <td>11891</td>\n",
       "      <td>259</td>\n",
       "    </tr>\n",
       "    <tr>\n",
       "      <th>11</th>\n",
       "      <td>16630</td>\n",
       "      <td>361</td>\n",
       "    </tr>\n",
       "    <tr>\n",
       "      <th>12</th>\n",
       "      <td>19716</td>\n",
       "      <td>425</td>\n",
       "    </tr>\n",
       "    <tr>\n",
       "      <th>13</th>\n",
       "      <td>23707</td>\n",
       "      <td>491</td>\n",
       "    </tr>\n",
       "    <tr>\n",
       "      <th>14</th>\n",
       "      <td>27440</td>\n",
       "      <td>563</td>\n",
       "    </tr>\n",
       "    <tr>\n",
       "      <th>15</th>\n",
       "      <td>30587</td>\n",
       "      <td>633</td>\n",
       "    </tr>\n",
       "    <tr>\n",
       "      <th>16</th>\n",
       "      <td>34110</td>\n",
       "      <td>718</td>\n",
       "    </tr>\n",
       "    <tr>\n",
       "      <th>17</th>\n",
       "      <td>36814</td>\n",
       "      <td>805</td>\n",
       "    </tr>\n",
       "    <tr>\n",
       "      <th>18</th>\n",
       "      <td>39829</td>\n",
       "      <td>905</td>\n",
       "    </tr>\n",
       "    <tr>\n",
       "      <th>19</th>\n",
       "      <td>42354</td>\n",
       "      <td>1012</td>\n",
       "    </tr>\n",
       "    <tr>\n",
       "      <th>20</th>\n",
       "      <td>44386</td>\n",
       "      <td>1112</td>\n",
       "    </tr>\n",
       "    <tr>\n",
       "      <th>21</th>\n",
       "      <td>44759</td>\n",
       "      <td>1117</td>\n",
       "    </tr>\n",
       "    <tr>\n",
       "      <th>22</th>\n",
       "      <td>59895</td>\n",
       "      <td>1369</td>\n",
       "    </tr>\n",
       "    <tr>\n",
       "      <th>23</th>\n",
       "      <td>66358</td>\n",
       "      <td>1521</td>\n",
       "    </tr>\n",
       "    <tr>\n",
       "      <th>24</th>\n",
       "      <td>68413</td>\n",
       "      <td>1663</td>\n",
       "    </tr>\n",
       "    <tr>\n",
       "      <th>25</th>\n",
       "      <td>70513</td>\n",
       "      <td>1766</td>\n",
       "    </tr>\n",
       "    <tr>\n",
       "      <th>26</th>\n",
       "      <td>72434</td>\n",
       "      <td>1864</td>\n",
       "    </tr>\n",
       "    <tr>\n",
       "      <th>27</th>\n",
       "      <td>74211</td>\n",
       "      <td>2003</td>\n",
       "    </tr>\n",
       "    <tr>\n",
       "      <th>28</th>\n",
       "      <td>74619</td>\n",
       "      <td>2116</td>\n",
       "    </tr>\n",
       "    <tr>\n",
       "      <th>29</th>\n",
       "      <td>75077</td>\n",
       "      <td>2238</td>\n",
       "    </tr>\n",
       "    <tr>\n",
       "      <th>...</th>\n",
       "      <td>...</td>\n",
       "      <td>...</td>\n",
       "    </tr>\n",
       "    <tr>\n",
       "      <th>37</th>\n",
       "      <td>78928</td>\n",
       "      <td>2790</td>\n",
       "    </tr>\n",
       "    <tr>\n",
       "      <th>38</th>\n",
       "      <td>79356</td>\n",
       "      <td>2837</td>\n",
       "    </tr>\n",
       "    <tr>\n",
       "      <th>39</th>\n",
       "      <td>79932</td>\n",
       "      <td>2872</td>\n",
       "    </tr>\n",
       "    <tr>\n",
       "      <th>40</th>\n",
       "      <td>80136</td>\n",
       "      <td>2914</td>\n",
       "    </tr>\n",
       "    <tr>\n",
       "      <th>41</th>\n",
       "      <td>80261</td>\n",
       "      <td>2947</td>\n",
       "    </tr>\n",
       "    <tr>\n",
       "      <th>42</th>\n",
       "      <td>80386</td>\n",
       "      <td>2983</td>\n",
       "    </tr>\n",
       "    <tr>\n",
       "      <th>43</th>\n",
       "      <td>80537</td>\n",
       "      <td>3015</td>\n",
       "    </tr>\n",
       "    <tr>\n",
       "      <th>44</th>\n",
       "      <td>80690</td>\n",
       "      <td>3044</td>\n",
       "    </tr>\n",
       "    <tr>\n",
       "      <th>45</th>\n",
       "      <td>80770</td>\n",
       "      <td>3072</td>\n",
       "    </tr>\n",
       "    <tr>\n",
       "      <th>46</th>\n",
       "      <td>80823</td>\n",
       "      <td>3100</td>\n",
       "    </tr>\n",
       "    <tr>\n",
       "      <th>47</th>\n",
       "      <td>80860</td>\n",
       "      <td>3123</td>\n",
       "    </tr>\n",
       "    <tr>\n",
       "      <th>48</th>\n",
       "      <td>80887</td>\n",
       "      <td>3139</td>\n",
       "    </tr>\n",
       "    <tr>\n",
       "      <th>49</th>\n",
       "      <td>80921</td>\n",
       "      <td>3161</td>\n",
       "    </tr>\n",
       "    <tr>\n",
       "      <th>50</th>\n",
       "      <td>80932</td>\n",
       "      <td>3172</td>\n",
       "    </tr>\n",
       "    <tr>\n",
       "      <th>51</th>\n",
       "      <td>80945</td>\n",
       "      <td>3180</td>\n",
       "    </tr>\n",
       "    <tr>\n",
       "      <th>52</th>\n",
       "      <td>80977</td>\n",
       "      <td>3193</td>\n",
       "    </tr>\n",
       "    <tr>\n",
       "      <th>53</th>\n",
       "      <td>81003</td>\n",
       "      <td>3203</td>\n",
       "    </tr>\n",
       "    <tr>\n",
       "      <th>54</th>\n",
       "      <td>81033</td>\n",
       "      <td>3217</td>\n",
       "    </tr>\n",
       "    <tr>\n",
       "      <th>55</th>\n",
       "      <td>81058</td>\n",
       "      <td>3230</td>\n",
       "    </tr>\n",
       "    <tr>\n",
       "      <th>56</th>\n",
       "      <td>81102</td>\n",
       "      <td>3241</td>\n",
       "    </tr>\n",
       "    <tr>\n",
       "      <th>57</th>\n",
       "      <td>81156</td>\n",
       "      <td>3249</td>\n",
       "    </tr>\n",
       "    <tr>\n",
       "      <th>58</th>\n",
       "      <td>81250</td>\n",
       "      <td>3253</td>\n",
       "    </tr>\n",
       "    <tr>\n",
       "      <th>59</th>\n",
       "      <td>81305</td>\n",
       "      <td>3259</td>\n",
       "    </tr>\n",
       "    <tr>\n",
       "      <th>60</th>\n",
       "      <td>81435</td>\n",
       "      <td>3274</td>\n",
       "    </tr>\n",
       "    <tr>\n",
       "      <th>61</th>\n",
       "      <td>81498</td>\n",
       "      <td>3274</td>\n",
       "    </tr>\n",
       "    <tr>\n",
       "      <th>62</th>\n",
       "      <td>81591</td>\n",
       "      <td>3281</td>\n",
       "    </tr>\n",
       "    <tr>\n",
       "      <th>63</th>\n",
       "      <td>81661</td>\n",
       "      <td>3285</td>\n",
       "    </tr>\n",
       "    <tr>\n",
       "      <th>64</th>\n",
       "      <td>81782</td>\n",
       "      <td>3291</td>\n",
       "    </tr>\n",
       "    <tr>\n",
       "      <th>65</th>\n",
       "      <td>81897</td>\n",
       "      <td>3296</td>\n",
       "    </tr>\n",
       "    <tr>\n",
       "      <th>66</th>\n",
       "      <td>81999</td>\n",
       "      <td>3299</td>\n",
       "    </tr>\n",
       "  </tbody>\n",
       "</table>\n",
       "<p>67 rows × 2 columns</p>\n",
       "</div>"
      ],
      "text/plain": [
       "    Confirmed  Deaths\n",
       "0         548      17\n",
       "1         643      18\n",
       "2         920      26\n",
       "3        1406      42\n",
       "4        2075      56\n",
       "5        2877      82\n",
       "6        5509     131\n",
       "7        6087     133\n",
       "8        8141     171\n",
       "9        9802     213\n",
       "10      11891     259\n",
       "11      16630     361\n",
       "12      19716     425\n",
       "13      23707     491\n",
       "14      27440     563\n",
       "15      30587     633\n",
       "16      34110     718\n",
       "17      36814     805\n",
       "18      39829     905\n",
       "19      42354    1012\n",
       "20      44386    1112\n",
       "21      44759    1117\n",
       "22      59895    1369\n",
       "23      66358    1521\n",
       "24      68413    1663\n",
       "25      70513    1766\n",
       "26      72434    1864\n",
       "27      74211    2003\n",
       "28      74619    2116\n",
       "29      75077    2238\n",
       "..        ...     ...\n",
       "37      78928    2790\n",
       "38      79356    2837\n",
       "39      79932    2872\n",
       "40      80136    2914\n",
       "41      80261    2947\n",
       "42      80386    2983\n",
       "43      80537    3015\n",
       "44      80690    3044\n",
       "45      80770    3072\n",
       "46      80823    3100\n",
       "47      80860    3123\n",
       "48      80887    3139\n",
       "49      80921    3161\n",
       "50      80932    3172\n",
       "51      80945    3180\n",
       "52      80977    3193\n",
       "53      81003    3203\n",
       "54      81033    3217\n",
       "55      81058    3230\n",
       "56      81102    3241\n",
       "57      81156    3249\n",
       "58      81250    3253\n",
       "59      81305    3259\n",
       "60      81435    3274\n",
       "61      81498    3274\n",
       "62      81591    3281\n",
       "63      81661    3285\n",
       "64      81782    3291\n",
       "65      81897    3296\n",
       "66      81999    3299\n",
       "\n",
       "[67 rows x 2 columns]"
      ]
     },
     "execution_count": 74,
     "metadata": {},
     "output_type": "execute_result"
    }
   ],
   "source": []
  },
  {
   "cell_type": "code",
   "execution_count": null,
   "metadata": {},
   "outputs": [],
   "source": [
    " fig.add_trace(go.Scatter(x=dfDeaths.Day,\n",
    "                             y=dfDeaths[country],\n",
    "                             mode='lines+markers', \n",
    "                             name=country,\n",
    "                             text=np.full((dfDeaths.shape[1],1), country), \n",
    "                             hovertemplate = \"<b>%{text}</b><br>\" +\n",
    "                                             \"<b>Day</b>: %{x}<br>\" +\n",
    "                                             \"<b>Deaths</b>: %{y}<br>\" +\n",
    "                                             \"<extra></extra>\",\n",
    "                             line=dict(width=0.5),\n",
    "                             marker = dict(opacity= 0.3, line = dict(width = 0.5, color = 'rgb(0, 0, 0)')),\n",
    "                            )\n",
    "                 )"
   ]
  }
 ],
 "metadata": {
  "kernelspec": {
   "display_name": "Python 3",
   "language": "python",
   "name": "python3"
  },
  "language_info": {
   "codemirror_mode": {
    "name": "ipython",
    "version": 3
   },
   "file_extension": ".py",
   "mimetype": "text/x-python",
   "name": "python",
   "nbconvert_exporter": "python",
   "pygments_lexer": "ipython3",
   "version": "3.7.3"
  }
 },
 "nbformat": 4,
 "nbformat_minor": 2
}
