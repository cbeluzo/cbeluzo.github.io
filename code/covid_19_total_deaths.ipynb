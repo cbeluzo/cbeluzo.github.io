{
 "cells": [
  {
   "cell_type": "markdown",
   "metadata": {},
   "source": [
    "## <strong> Filename: </strong> <em>covid_19_total_deaths.ipynb<em>\n",
    "##### <strong>Description:</strong> <em>Creates an Scatter plot of all deaths caused by COVID-19 in the world using dataset provided by https://data.humdata.org/dataset/novel-coronavirus-2019-ncov-cases</em>\n",
    "##### <strong>Author:</strong> <em> Carlos Eduardo Beluzo (cbeluzo@gmail.com)</em>\n",
    "##### <strong>Creation:</strong> <em> Mar/2020 </em>\n",
    "##### <strong>Version:</strong> <em> 2020.03-1 </em>"
   ]
  },
  {
   "cell_type": "code",
   "execution_count": 3,
   "metadata": {},
   "outputs": [
    {
     "name": "stderr",
     "output_type": "stream",
     "text": [
      "/home/cbeluzo/anaconda3/lib/python3.7/site-packages/ipykernel_launcher.py:21: FutureWarning:\n",
      "\n",
      "Comparing Series of datetimes with 'datetime.date'.  Currently, the\n",
      "'datetime.date' is coerced to a datetime. In the future pandas will\n",
      "not coerce, and 'the values will not compare equal to the\n",
      "'datetime.date'. To retain the current behavior, convert the\n",
      "'datetime.date' to a datetime with 'pd.Timestamp'.\n",
      "\n"
     ]
    }
   ],
   "source": [
    "import numpy as np\n",
    "import pandas as pd\n",
    "import datetime as dt\n",
    "import plotly.express as px\n",
    "import plotly as plt\n",
    "\n",
    "df = pd.read_csv('https://raw.githubusercontent.com/CSSEGISandData/COVID-19/master/csse_covid_19_data/csse_covid_19_time_series/time_series_covid19_deaths_global.csv')\n",
    "df['Province/State'] = df['Province/State'].fillna('n/a')\n",
    "df = df.fillna(0)\n",
    "\n",
    "#df.head()\n",
    "dfA = df.drop(['Province/State','Lat','Long'], axis = 1)\n",
    "dfA = dfA.groupby('Country/Region').sum().T\n",
    "dfA = dfA.reset_index()\n",
    "dfA = dfA.rename(columns = {'index':'Day'})\n",
    "dfA[['Day']] = pd.to_datetime(dfA['Day'],utc=False)\n",
    "\n",
    "# Yesterday\n",
    "last_upt = dt.date.today() - dt.timedelta(days=1) # TODO FIX THIS PROBLEM\n",
    "\n",
    "dfA = dfA.loc[dfA.Day == last_upt].T\n",
    "dfA = dfA.reset_index()\n",
    "dfA = dfA.set_axis(['Country', 'Deaths'], axis=1, inplace=False)\n",
    "dfA = dfA.drop(0)\n",
    "\n",
    "# More than 1 death\n",
    "dfA = dfA.loc[dfA['Deaths'] > 2]\n",
    "dfA\n",
    "\n",
    "#dfA.head()\n",
    "\n",
    "title = 'COVID-19 Total Deaths (' + \"{:%d, %b %Y}\".format(last_upt) +')'\n",
    "\n",
    "fig = px.bar(dfA.sort_values('Deaths',ascending=False), y='Country', x='Deaths',color='Country', text='Deaths', orientation='h',\n",
    "            labels={'Deaths':'Deaths', 'Country':'Country'},)\n",
    "\n",
    "fig.update_traces(texttemplate='%{text:.2s}', textposition='outside', opacity=0.6)\n",
    "\n",
    "fig.update_layout(uniformtext_minsize=8,\n",
    "                  uniformtext_mode='hide',\n",
    "                  xaxis_type=\"log\",\n",
    "                  xaxis_title='Deaths (log)',\n",
    "                  yaxis_title='Countries',\n",
    "                  title_text=title,\n",
    "                  shapes=[{'type': 'line','x0': 10,'y0': 0,'x1': 10,'y1': dfA.Country.unique().shape[0],\n",
    "                           'line': {'color': 'green','width': 0.7}},\n",
    "                         {'type': 'line','x0': 100,'y0': 0,'x1': 100,'y1': dfA.Country.unique().shape[0],\n",
    "                           'line': {'color': 'yellow','width': 0.7}},\n",
    "                         {'type': 'line','x0': 1000,'y0': 0,'x1': 1000,'y1': dfA.Country.unique().shape[0],\n",
    "                           'line': {'color': 'red','width': 0.7}}]\n",
    "                 )\n",
    "\n",
    "#fig.show()\n",
    "plt.offline.plot(fig, filename=\"../plotly/covid_19_total_deaths.html\")\n",
    "dfA.to_csv (r'../data/covid_19_total_deaths.csv', index = False, header=True)"
   ]
  },
  {
   "cell_type": "code",
   "execution_count": null,
   "metadata": {},
   "outputs": [],
   "source": []
  }
 ],
 "metadata": {
  "kernelspec": {
   "display_name": "Python 3",
   "language": "python",
   "name": "python3"
  },
  "language_info": {
   "codemirror_mode": {
    "name": "ipython",
    "version": 3
   },
   "file_extension": ".py",
   "mimetype": "text/x-python",
   "name": "python",
   "nbconvert_exporter": "python",
   "pygments_lexer": "ipython3",
   "version": "3.7.3"
  }
 },
 "nbformat": 4,
 "nbformat_minor": 2
}
