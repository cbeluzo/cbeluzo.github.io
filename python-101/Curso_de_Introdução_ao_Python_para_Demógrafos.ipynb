{
  "nbformat": 4,
  "nbformat_minor": 0,
  "metadata": {
    "colab": {
      "provenance": []
    },
    "kernelspec": {
      "name": "python3",
      "display_name": "Python 3"
    },
    "language_info": {
      "name": "python"
    }
  },
  "cells": [
    {
      "cell_type": "markdown",
      "source": [
        "# **Curso de Python para Iniciantes**\n",
        "#### Semana da Demografia do NEPO - 2023\n",
        "\n",
        "#### Carlos Beluzo - cbeluzo@gmail.com\n",
        "\n",
        "\n",
        "---"
      ],
      "metadata": {
        "id": "PjMKDalxAyfn"
      }
    },
    {
      "cell_type": "markdown",
      "source": [
        "# Sumário"
      ],
      "metadata": {
        "id": "deTC6kS1CBJy"
      }
    },
    {
      "cell_type": "markdown",
      "source": [
        "## Parte 1: Introdução ao Python <a id=\"parte-1-introducao-ao-python\"></a>\n",
        "\n",
        "- **1) Introdução à programação e Python**\n",
        "\n",
        "  O objetivo deste tópico é aprender os conceitos básicos de programação e dar os primeiros passos na linguagem Python. Você irá entender os fundamentos da programação, como a lógica de resolução de problemas, e explorará as características e sintaxe do Python para começar a escrever seus primeiros programas.\n",
        "\n",
        "- **2) Conceitos básicos de Python**\n",
        "\n",
        "  Neste tópico, você irá se aprofundar nos conceitos fundamentais da linguagem Python. Serão abordados tópicos como tipos de dados, variáveis, estruturas de controle (condicionais e loops) e funções básicas para manipulação de strings e números. Ao final deste tópico, você terá uma compreensão sólida dos princípios essenciais do Python.\n",
        "\n",
        "- **3) Operadores e Expressões**\n",
        "\n",
        "  Neste tópico, você irá aprender sobre os operadores disponíveis em Python e como utilizá-los para realizar operações e criar expressões. Serão explorados operadores aritméticos, operadores de comparação, operadores lógicos e operadores de atribuição. Você também aprenderá a combinar diferentes operadores para construir expressões complexas e resolver problemas mais avançados.\n",
        "\n",
        "## Parte 2: Estruturas de Controle <a id=\"parte-2-estruturas-de-controle\"></a>\n",
        "\n",
        "- **4) Estruturas de controle de fluxo (parte 1)**\n",
        "\n",
        "  Neste tópico, o objetivo é explorar as estruturas de controle de fluxo em Python. Você irá aprender sobre as instruções condicionais, como o `if`, `else` e `elif`, que permitem executar diferentes blocos de código com base em condições específicas. Além disso, será abordado o conceito de aninhamento de estruturas condicionais para lidar com situações mais complexas.\n",
        "\n",
        "- **5) Estruturas de controle de fluxo (parte 2)**\n",
        "\n",
        "  Neste tópico, você continuará a explorar as estruturas de controle de fluxo em Python, com foco em loops. Serão apresentados os laços `for` e `while`, permitindo que você execute repetidamente um bloco de código. Você aprenderá como utilizar loops para percorrer listas, realizar iterações e processar elementos de forma eficiente.\n",
        "\n",
        "## Parte 3: Estruturas de Dados <a id=\"parte-3-estruturas-de-dados\"></a>\n",
        "\n",
        "- **6) Listas e Tuplas**\n",
        "\n",
        "  O objetivo deste tópico é estudar as estruturas de dados de listas e tuplas em Python. Você irá aprender como criar, acessar e manipular elementos em listas e tuplas. Além disso, serão abordadas operações comuns, como adicionar, remover, pesquisar e ordenar elementos nessas estruturas. As listas e tuplas são fundamentais para armazenar coleções de dados em Python.\n",
        "\n",
        "- **7) Dicionários e Conjuntos**\n",
        "\n",
        "  Neste tópico, você irá explorar as estruturas de dados de dicionários e conjuntos em Python. Os dicionários permitem armazenar pares de chave-valor, enquanto os conjuntos são utilizados para armazenar elementos únicos. Você aprenderá como criar, acessar e manipular dicionários e conjuntos, além de utilizar métodos e operações específicas para cada estrutura.\n",
        "\n",
        "## Parte 4: Funções e Módulos <a id=\"parte-4-funcoes-e-modulos\"></a>\n",
        "\n",
        "- **8) Funções (parte 1)**\n",
        "\n",
        "  Neste tópico, você irá se familiarizar com o conceito de funções em Python. As funções permitem organizar e reutilizar blocos de código, facilitando o desenvolvimento e a manutenção de programas. Você aprenderá a definir e chamar funções, passar argumentos, utilizar valores de retorno e compreender a importância da modularização do código.\n",
        "\n",
        "## Parte 5: Manipulação de Arquivos e Exceções <a id=\"parte-5-manipulacao-de-arquivos-e-excecoes\"></a>\n",
        "\n",
        "- **9) Manipulação de Arquivos**\n",
        "\n",
        "  Neste tópico, você aprenderá como trabalhar com arquivos em Python. Você explorará como abrir, ler, gravar e fechar arquivos de texto e binários. Além disso, será abordada a manipulação de diferentes formatos de arquivos, como CSV e JSON, e técnicas para lidar com arquivos grandes e processamento eficiente.\n",
        "\n",
        "- **10) Exceções**\n",
        "\n",
        "  Neste tópico, você aprenderá sobre exceções em Python e como lidar com erros e falhas durante a execução do programa. Serão abordados os conceitos de exceções, captura de exceções com blocos try-except, tratamento de exceções específicas e uso das cláusulas `finally` e `else`. Você também aprenderá a criar suas próprias exceções personalizadas.\n"
      ],
      "metadata": {
        "id": "16Z4mMHV1Oh2"
      }
    },
    {
      "cell_type": "markdown",
      "source": [
        "---\n",
        "\n",
        "# **INÍCIO**\n",
        "\n",
        "---"
      ],
      "metadata": {
        "id": "PbZvgj8l-2vW"
      }
    },
    {
      "cell_type": "markdown",
      "source": [
        "# 1) Introdução à programação e Python\n",
        "*O objetivo deste tópico é aprender os conceitos básicos de programação e dar os primeiros passos na linguagem Python. Você irá entender os fundamentos da programação, como a lógica de resolução de problemas, e explorará as características e sintaxe do Python para começar a escrever seus primeiros programas.*\n"
      ],
      "metadata": {
        "id": "4_gXs2wh_ldu"
      }
    },
    {
      "cell_type": "markdown",
      "source": [
        "**1) Exemplo de código: Olá, Mundo!**\n",
        "\n",
        "```python\n",
        "print(\"Olá, Mundo!\")\n",
        "```\n",
        "\n",
        "Explicação: Este é um exemplo clássico de código em Python para exibir a mensagem \"Olá, Mundo!\" na tela. A função `print()` é utilizada para imprimir o texto entre aspas. Neste caso, estamos passando a string \"Olá, Mundo!\" como argumento para a função `print()`, que a exibirá no console.\n",
        "\n",
        "**2) Exemplo de código: Soma de dois números**\n",
        "```python\n",
        "numero1 = 10\n",
        "numero2 = 5\n",
        "soma = numero1 + numero2\n",
        "print(\"A soma é:\", soma)\n",
        "```\n",
        "\n",
        "Explicação: Neste exemplo, estamos calculando a soma de dois números, 10 e 5. Primeiro, atribuímos o valor 10 à variável numero1 e o valor 5 à variável numero2. Em seguida, realizamos a soma desses dois números e armazenamos o resultado na variável soma. Por fim, utilizamos a função print() para exibir a mensagem \"A soma é:\" seguida do valor da variável soma."
      ],
      "metadata": {
        "id": "WEhMnLrn-LqK"
      }
    },
    {
      "cell_type": "markdown",
      "source": [
        "# 2) Conceitos básicos de Python\n",
        "\n",
        "*Neste tópico, você irá se aprofundar nos conceitos fundamentais da linguagem Python. Serão abordados tópicos como tipos de dados, variáveis, estruturas de controle (condicionais e loops) e funções básicas para manipulação de strings e números. Ao final deste tópico, você terá uma compreensão sólida dos princípios essenciais do Python.*"
      ],
      "metadata": {
        "id": "Wo01VpNd_qMl"
      }
    },
    {
      "cell_type": "markdown",
      "source": [
        "**1) Exemplo de código: Variáveis e atribuição**\n",
        "\n",
        "```python\n",
        "nome = \"Maria\"\n",
        "idade = 25\n",
        "altura = 1.65\n",
        "```\n",
        "\n",
        "Explicação: Neste exemplo, estamos utilizando variáveis para armazenar informações. A variável `nome` está sendo atribuída com o valor \"Maria\", a variável `idade` com o valor 25 e a variável `altura` com o valor 1.65. Em Python, as variáveis são criadas quando atribuímos um valor a elas. Podemos utilizar diferentes tipos de dados, como strings (entre aspas), números inteiros e números de ponto flutuante.\n",
        "\n",
        "**2) Exemplo de código: Estrutura condicional (if-else)**\n",
        "\n",
        "```python\n",
        "idade = 17\n",
        "\n",
        "if idade >= 18:\n",
        "    print(\"Você é maior de idade!\")\n",
        "else:\n",
        "    print(\"Você é menor de idade!\")\n",
        "```\n",
        "\n",
        "Explicação: Neste exemplo, utilizamos uma estrutura condicional para verificar se a idade é maior ou igual a 18. Se a condição for verdadeira, a mensagem \"Você é maior de idade!\" será exibida. Caso contrário, a mensagem \"Você é menor de idade!\" será exibida. A palavra-chave `if` inicia a estrutura condicional, seguida da condição a ser avaliada. Se a condição for verdadeira, o bloco de código dentro do `if` será executado. Caso contrário, o bloco de código dentro do `else` será executado.\n",
        "\n",
        "**3) Exemplo de código: Laço de repetição (for)**\n",
        "\n",
        "```python\n",
        "frutas = [\"maçã\", \"banana\", \"laranja\"]\n",
        "\n",
        "for fruta in frutas:\n",
        "    print(fruta)\n",
        "```\n",
        "\n",
        "Explicação: Neste exemplo, utilizamos um laço de repetição `for` para percorrer uma lista de frutas. A cada iteração do laço, a variável `fruta` recebe o valor de um elemento da lista `frutas`. O comando `print(fruta)` imprime o valor da variável `fruta` na tela. Dessa forma, o código exibirá cada fruta da lista em linhas separadas. O laço `for` é útil quando queremos executar um bloco de código repetidamente para cada elemento de uma sequência, como uma lista.\n",
        "\n",
        "Esses exemplos demonstram alguns conceitos básicos de Python, como variáveis, estruturas condicionais e laços de repetição. Eles são fundamentais para a construção de programas mais complexos."
      ],
      "metadata": {
        "id": "Ca5M9XgX_qTE"
      }
    },
    {
      "cell_type": "markdown",
      "source": [
        "# 3) Operadores e Expressões\n",
        "\n",
        "*Neste tópico, você irá aprender sobre os operadores disponíveis em Python e como utilizá-los para realizar operações e criar expressões. Serão explorados operadores aritméticos, operadores de comparação, operadores lógicos e operadores de atribuição. Você também aprenderá a combinar diferentes operadores para construir expressões complexas e resolver problemas mais avançados.*"
      ],
      "metadata": {
        "id": "7avV0OJ6_qfD"
      }
    },
    {
      "cell_type": "markdown",
      "source": [
        "**1) Exemplo de código: Operadores aritméticos**\n",
        "\n",
        "```python\n",
        "numero1 = 10\n",
        "numero2 = 5\n",
        "\n",
        "soma = numero1 + numero2\n",
        "subtracao = numero1 - numero2\n",
        "multiplicacao = numero1 * numero2\n",
        "divisao = numero1 / numero2\n",
        "resto = numero1 % numero2\n",
        "\n",
        "print(\"Soma:\", soma)\n",
        "print(\"Subtração:\", subtracao)\n",
        "print(\"Multiplicação:\", multiplicacao)\n",
        "print(\"Divisão:\", divisao)\n",
        "print(\"Resto:\", resto)\n",
        "```\n",
        "\n",
        "Explicação: Neste exemplo, utilizamos os operadores aritméticos para realizar operações matemáticas com dois números. A variável `soma` armazena a soma dos números, `subtracao` armazena a subtração, `multiplicacao` armazena a multiplicação, `divisao` armazena o resultado da divisão e `resto` armazena o resto da divisão. Ao imprimir esses valores, você verá o resultado de cada operação.\n",
        "\n",
        "**2) Exemplo de código: Operadores de comparação**\n",
        "\n",
        "```python\n",
        "numero1 = 10\n",
        "numero2 = 5\n",
        "\n",
        "igual = numero1 == numero2\n",
        "diferente = numero1 != numero2\n",
        "maior = numero1 > numero2\n",
        "menor = numero1 < numero2\n",
        "maior_igual = numero1 >= numero2\n",
        "menor_igual = numero1 <= numero2\n",
        "\n",
        "print(\"Igual:\", igual)\n",
        "print(\"Diferente:\", diferente)\n",
        "print(\"Maior:\", maior)\n",
        "print(\"Menor:\", menor)\n",
        "print(\"Maior ou igual:\", maior_igual)\n",
        "print(\"Menor ou igual:\", menor_igual)\n",
        "```\n",
        "\n",
        "Explicação: Neste exemplo, utilizamos os operadores de comparação para verificar as relações entre dois números. A variável `igual` verifica se os números são iguais, `diferente` verifica se são diferentes, `maior` verifica se o primeiro número é maior que o segundo, `menor` verifica se é menor, `maior_igual` verifica se é maior ou igual, e `menor_igual` verifica se é menor ou igual. Ao imprimir esses valores, você verá o resultado de cada comparação.\n",
        "\n",
        "**3) Exemplo de código: Operadores lógicos**\n",
        "\n",
        "```python\n",
        "valor1 = True\n",
        "valor2 = False\n",
        "\n",
        "resultado_and = valor1 and valor2\n",
        "resultado_or = valor1 or valor2\n",
        "resultado_not = not valor1\n",
        "\n",
        "print(\"Resultado AND:\", resultado_and)\n",
        "print(\"Resultado OR:\", resultado_or)\n",
        "print(\"Resultado NOT:\", resultado_not)\n",
        "```\n",
        "\n",
        "Explicação: Neste exemplo, utilizamos os operadores lógicos para realizar operações booleanas. O operador `and` retorna `True` se ambos os valores forem verdadeiros, `or` retorna `True` se pelo menos um valor for verdadeiro, e `not` inverte o valor booleano. Ao imprimir esses valores, você verá o resultado de cada operação lógica.\n",
        "\n",
        "Esses exemplos demonstram o uso de operadores e expressões em Python, seja para realizar operações matemáticas, comparações ou operações lógicas. Esses conceitos são fundamentais para o desenvolvimento de programas mais complexos e para a tomada de decisões no código."
      ],
      "metadata": {
        "id": "CxHA2lLw_qj_"
      }
    },
    {
      "cell_type": "markdown",
      "source": [
        "\n",
        "# 4) Estruturas de controle de fluxo (parte 1)\n",
        "\n",
        "*Neste tópico, o objetivo é explorar as estruturas de controle de fluxo em Python. Você irá aprender sobre as instruções condicionais, como o `if`, `else` e `elif`, que permitem executar diferentes blocos de código com base em condições específicas. Além disso, será abordado o conceito de aninhamento de estruturas condicionais para lidar com situações mais complexas.*"
      ],
      "metadata": {
        "id": "FMVZ0nn2_qsa"
      }
    },
    {
      "cell_type": "markdown",
      "source": [
        "**1) Exemplo de código: Estrutura condicional if**\n",
        "\n",
        "```python\n",
        "idade = 20\n",
        "\n",
        "if idade >= 18:\n",
        "    print(\"Você é maior de idade!\")\n",
        "```\n",
        "\n",
        "Explicação: Neste exemplo, utilizamos uma estrutura condicional `if` para verificar se a idade é maior ou igual a 18. Se a condição for verdadeira, o código dentro do bloco `if` será executado, e a mensagem \"Você é maior de idade!\" será exibida na tela. Caso a condição seja falsa, o bloco `if` será pulado e nenhuma mensagem será exibida.\n",
        "\n",
        "**2) Exemplo de código: Estrutura condicional if-else**\n",
        "\n",
        "```python\n",
        "idade = 15\n",
        "\n",
        "if idade >= 18:\n",
        "    print(\"Você é maior de idade!\")\n",
        "else:\n",
        "    print(\"Você é menor de idade!\")\n",
        "```\n",
        "\n",
        "Explicação: Neste exemplo, utilizamos a estrutura condicional `if-else` para verificar se a idade é maior ou igual a 18. Se a condição for verdadeira, o código dentro do bloco `if` será executado, e a mensagem \"Você é maior de idade!\" será exibida. Caso contrário, o bloco `else` será executado, e a mensagem \"Você é menor de idade!\" será exibida. A estrutura `if-else` permite que você escolha um entre dois caminhos diferentes, dependendo do resultado da condição.\n",
        "\n",
        "**3) Exemplo de código: Estrutura condicional if-elif-else**\n",
        "\n",
        "```python\n",
        "idade = 25\n",
        "\n",
        "if idade < 18:\n",
        "    print(\"Você é menor de idade!\")\n",
        "elif idade >= 18 and idade < 65:\n",
        "    print(\"Você é adulto!\")\n",
        "else:\n",
        "    print(\"Você é idoso!\")\n",
        "```\n",
        "\n",
        "Explicação: Neste exemplo, utilizamos a estrutura condicional `if-elif-else` para verificar a faixa etária com base na idade. Primeiro, verificamos se a idade é menor que 18. Se for verdadeiro, a mensagem \"Você é menor de idade!\" será exibida. Caso contrário, a próxima condição é avaliada. Se a idade for maior ou igual a 18 e menor que 65, a mensagem \"Você é adulto!\" será exibida. Por fim, se nenhuma das condições anteriores for atendida, o bloco `else` será executado e a mensagem \"Você é idoso!\" será exibida. A estrutura `if-elif-else` permite testar múltiplas condições e escolher um dos vários caminhos possíveis.\n",
        "\n",
        "Esses exemplos demonstram o uso das estruturas de controle de fluxo `if`, `if-else` e `if-elif-else` em Python. Elas são fundamentais para controlar o fluxo de execução do programa e tomar decisões com base em condições específicas."
      ],
      "metadata": {
        "id": "UCQ_5F3Z_qva"
      }
    },
    {
      "cell_type": "markdown",
      "source": [
        "# 5) Estruturas de controle de fluxo (parte 2)\n",
        "\n",
        "*Neste tópico, você continuará a explorar as estruturas de controle de fluxo em Python, com foco em loops. Serão apresentados os laços `for` e `while`, permitindo que você execute repetidamente um bloco de código. Você aprenderá como utilizar loops para percorrer listas, realizar iterações e processar elementos de forma eficiente.*"
      ],
      "metadata": {
        "id": "bYbxk-Ov_q02"
      }
    },
    {
      "cell_type": "markdown",
      "source": [
        "**1) Exemplo de código: Estrutura de repetição while**\n",
        "\n",
        "```python\n",
        "contador = 0\n",
        "\n",
        "while contador < 5:\n",
        "    print(\"Contador:\", contador)\n",
        "    contador += 1\n",
        "```\n",
        "\n",
        "Explicação: Neste exemplo, utilizamos a estrutura de repetição `while` para executar um bloco de código enquanto a condição `contador < 5` for verdadeira. O contador é inicializado com o valor 0 e incrementado em 1 a cada iteração. Dentro do bloco, imprimimos o valor do contador. O código será executado até que o contador seja igual a 5.\n",
        "\n",
        "**2) Exemplo de código: Estrutura de repetição for**\n",
        "\n",
        "```python\n",
        "frutas = [\"maçã\", \"banana\", \"laranja\"]\n",
        "\n",
        "for fruta in frutas:\n",
        "    print(\"Gosto de\", fruta)\n",
        "```\n",
        "\n",
        "Explicação: Neste exemplo, utilizamos a estrutura de repetição `for` para percorrer uma lista de frutas. Em cada iteração, a variável `fruta` recebe o valor de um elemento da lista. Dentro do bloco, imprimimos a mensagem \"Gosto de\" seguida do nome da fruta. O código será executado para cada fruta na lista.\n",
        "\n",
        "**3) Exemplo de código: Instrução break**\n",
        "\n",
        "```python\n",
        "numeros = [1, 2, 3, 4, 5]\n",
        "\n",
        "for numero in numeros:\n",
        "    print(numero)\n",
        "\n",
        "    if numero == 3:\n",
        "        break\n",
        "```\n",
        "\n",
        "Explicação: Neste exemplo, utilizamos a instrução `break` para interromper a execução de um loop `for` antes que ele seja concluído. O loop percorre a lista de números e imprime cada um deles. No entanto, quando o número 3 é encontrado, a instrução `break` é executada, interrompendo o loop imediatamente. Isso significa que apenas os números 1, 2 e 3 serão impressos.\n",
        "\n",
        "Esses exemplos demonstram o uso das estruturas de controle de fluxo `while`, `for` e da instrução `break` em Python. Elas permitem controlar a repetição de um bloco de código com base em condições específicas e interromper a execução de um loop quando necessário. Essas estruturas são muito úteis para criar iterações e controlar o fluxo do programa."
      ],
      "metadata": {
        "id": "H9z70Tk-_q3n"
      }
    },
    {
      "cell_type": "markdown",
      "source": [
        "# 6) Listas e Tuplas\n",
        "\n",
        "*O objetivo deste tópico é estudar as estruturas de dados de listas e tuplas em Python. Você irá aprender como criar, acessar e manipular elementos em listas e tuplas. Além disso, serão abordadas operações comuns, como adicionar, remover, pesquisar e ordenar elementos nessas estruturas. As listas e tuplas são fundamentais para armazenar coleções de dados em Python.*"
      ],
      "metadata": {
        "id": "mTUPdAct_q78"
      }
    },
    {
      "cell_type": "markdown",
      "source": [
        "**1) Exemplo de código: Listas**\n",
        "\n",
        "```python\n",
        "frutas = [\"maçã\", \"banana\", \"laranja\"]\n",
        "\n",
        "print(frutas)\n",
        "print(len(frutas))\n",
        "print(frutas[0])\n",
        "print(frutas[-1])\n",
        "```\n",
        "\n",
        "Explicação: Neste exemplo, criamos uma lista chamada `frutas` que contém três elementos: \"maçã\", \"banana\" e \"laranja\". Utilizamos a função `print` para exibir a lista completa, o tamanho da lista usando a função `len`, o primeiro elemento da lista (índice 0) e o último elemento da lista (índice -1).\n",
        "\n",
        "**2) Exemplo de código: Tuplas**\n",
        "\n",
        "```python\n",
        "coordenadas = (10, 20, 30)\n",
        "\n",
        "print(coordenadas)\n",
        "print(len(coordenadas))\n",
        "print(coordenadas[0])\n",
        "print(coordenadas[-1])\n",
        "```\n",
        "\n",
        "Explicação: Neste exemplo, criamos uma tupla chamada `coordenadas` com três valores: 10, 20 e 30. Utilizamos a função `print` para exibir a tupla completa, o tamanho da tupla usando a função `len`, o primeiro elemento da tupla (índice 0) e o último elemento da tupla (índice -1). As tuplas são semelhantes às listas, mas são imutáveis, ou seja, seus elementos não podem ser modificados após a criação.\n",
        "\n",
        "**3) Exemplo de código: Manipulação de listas**\n",
        "\n",
        "```python\n",
        "numeros = [1, 2, 3, 4, 5]\n",
        "\n",
        "numeros.append(6)\n",
        "print(numeros)\n",
        "\n",
        "numeros.remove(3)\n",
        "print(numeros)\n",
        "\n",
        "numeros.sort()\n",
        "print(numeros)\n",
        "```\n",
        "\n",
        "Explicação: Neste exemplo, temos uma lista chamada `numeros` com os valores de 1 a 5. Utilizamos o método `append` para adicionar o número 6 à lista, o método `remove` para remover o número 3 da lista e o método `sort` para ordenar a lista em ordem crescente. Esses são apenas alguns dos métodos disponíveis para manipular listas em Python.\n",
        "\n",
        "Esses exemplos demonstram o uso de listas e tuplas em Python. As listas são estruturas de dados versáteis que podem armazenar vários valores, enquanto as tuplas são semelhantes às listas, mas imutáveis. Com essas estruturas, é possível armazenar coleções de dados e realizar diversas operações, como acessar elementos por índices, adicionar elementos, remover elementos e ordenar a lista."
      ],
      "metadata": {
        "id": "V0jiB11K_q-U"
      }
    },
    {
      "cell_type": "markdown",
      "source": [
        "# 7) Dicionários e Conjuntos\n",
        "\n",
        "*Neste tópico, você irá explorar as estruturas de dados de dicionários e conjuntos em Python. Os dicionários permitem armazenar pares de chave-valor, enquanto os conjuntos são utilizados para armazenar elementos únicos. Você aprenderá como criar, acessar e manipular dicionários e conjuntos, além de utilizar métodos e operações específicas para cada estrutura.*"
      ],
      "metadata": {
        "id": "5sGKqc6m_rBM"
      }
    },
    {
      "cell_type": "markdown",
      "source": [
        "**1) Exemplo de código: Dicionários**\n",
        "\n",
        "```python\n",
        "aluno = {\n",
        "    \"nome\": \"João\",\n",
        "    \"idade\": 20,\n",
        "    \"curso\": \"Engenharia\"\n",
        "}\n",
        "\n",
        "print(aluno)\n",
        "print(len(aluno))\n",
        "print(aluno[\"nome\"])\n",
        "print(aluno.get(\"curso\"))\n",
        "```\n",
        "\n",
        "Explicação: Neste exemplo, criamos um dicionário chamado `aluno` que contém informações sobre um estudante, como nome, idade e curso. Utilizamos a função `print` para exibir o dicionário completo, o número de pares chave-valor no dicionário usando a função `len`, acessamos o valor associado à chave \"nome\" usando a sintaxe `aluno[\"nome\"]` e também usando o método `get` para acessar o valor associado à chave \"curso\".\n",
        "\n",
        "**2) Exemplo de código: Conjuntos**\n",
        "\n",
        "```python\n",
        "numeros = {1, 2, 3, 4, 5}\n",
        "\n",
        "print(numeros)\n",
        "print(len(numeros))\n",
        "numeros.add(6)\n",
        "print(numeros)\n",
        "numeros.remove(3)\n",
        "print(numeros)\n",
        "```\n",
        "\n",
        "Explicação: Neste exemplo, criamos um conjunto chamado `numeros` que contém os valores de 1 a 5. Utilizamos a função `print` para exibir o conjunto completo, o número de elementos no conjunto usando a função `len`, adicionamos o número 6 ao conjunto usando o método `add` e removemos o número 3 do conjunto usando o método `remove`. Os conjuntos são coleções não ordenadas de elementos únicos em Python.\n",
        "\n",
        "**3) Exemplo de código: Operações com conjuntos**\n",
        "\n",
        "```python\n",
        "conjunto1 = {1, 2, 3, 4, 5}\n",
        "conjunto2 = {4, 5, 6, 7, 8}\n",
        "\n",
        "uniao = conjunto1.union(conjunto2)\n",
        "print(uniao)\n",
        "\n",
        "intersecao = conjunto1.intersection(conjunto2)\n",
        "print(intersecao)\n",
        "\n",
        "diferenca = conjunto1.difference(conjunto2)\n",
        "print(diferenca)\n",
        "```\n",
        "\n",
        "Explicação: Neste exemplo, temos dois conjuntos, `conjunto1` e `conjunto2`, com valores diferentes. Utilizamos os métodos `union` para obter a união dos conjuntos, `intersection` para obter a interseção dos conjuntos e `difference` para obter a diferença entre os conjuntos. Essas são algumas das operações comuns que podem ser realizadas com conjuntos em Python.\n",
        "\n",
        "Esses exemplos demonstram o uso de dicionários e conjuntos em Python. Os dicionários permitem armazenar pares chave-valor, enquanto os conjuntos são utilizados para armazenar elementos únicos. Com essas estruturas, é possível armazenar e manipular dados de forma eficiente, realizar operações específicas para cada tipo de estrutura e realizar operações de união, interseção e diferença com conjuntos."
      ],
      "metadata": {
        "id": "dXu6FsEp_rDm"
      }
    },
    {
      "cell_type": "markdown",
      "source": [
        "# 8) Funções (parte 1)\n",
        "\n",
        "*Neste tópico, você irá se familiarizar com o conceito de funções em Python. As funções permitem organizar e reutilizar blocos de código, facilitando o desenvolvimento e a manutenção de programas. Você aprenderá a definir e chamar funções, passar argumentos, utilizar valores de retorno e compreender a importância da modularização do código.* **negrito**"
      ],
      "metadata": {
        "id": "eE73YkUMAd2c"
      }
    },
    {
      "cell_type": "markdown",
      "source": [
        "**1) Exemplo de código: Definindo uma função simples**\n",
        "\n",
        "```python\n",
        "def saudacao():\n",
        "    print(\"Olá! Bem-vindo(a) ao nosso programa.\")\n",
        "\n",
        "saudacao()\n",
        "```\n",
        "\n",
        "Explicação: Neste exemplo, definimos uma função chamada `saudacao` que imprime uma mensagem de saudação. Em seguida, chamamos a função utilizando `saudacao()`, o que resultará na exibição da mensagem \"Olá! Bem-vindo(a) ao nosso programa.\"\n",
        "\n",
        "**2) Exemplo de código: Função com argumentos**\n",
        "\n",
        "```python\n",
        "def calcular_soma(a, b):\n",
        "    soma = a + b\n",
        "    print(\"A soma de\", a, \"e\", b, \"é igual a\", soma)\n",
        "\n",
        "calcular_soma(2, 3)\n",
        "```\n",
        "\n",
        "Explicação: Neste exemplo, definimos uma função chamada `calcular_soma` que recebe dois argumentos, `a` e `b`. Dentro da função, realizamos a soma desses dois números e exibimos a mensagem com o resultado. Chamamos a função `calcular_soma(2, 3)`, o que resultará na exibição da mensagem \"A soma de 2 e 3 é igual a 5\".\n",
        "\n",
        "**3) Exemplo de código: Função com valor de retorno**\n",
        "\n",
        "```python\n",
        "def calcular_potencia(base, expoente):\n",
        "    resultado = base ** expoente\n",
        "    return resultado\n",
        "\n",
        "resultado_potencia = calcular_potencia(2, 3)\n",
        "print(\"O resultado da potência é:\", resultado_potencia)\n",
        "```\n",
        "\n",
        "Explicação: Neste exemplo, definimos uma função chamada `calcular_potencia` que recebe dois argumentos, `base` e `expoente`. Dentro da função, calculamos a potência da base elevada ao expoente e retornamos o resultado. Chamamos a função `calcular_potencia(2, 3)` e atribuímos o valor de retorno à variável `resultado_potencia`. Em seguida, utilizamos a função `print` para exibir o resultado da potência.\n",
        "\n",
        "Esses exemplos demonstram o uso de funções em Python. As funções permitem organizar e reutilizar blocos de código, facilitando o desenvolvimento e a manutenção de programas. Você pode definir funções simples que executam uma determinada tarefa, funções com argumentos para processar valores específicos e funções com valor de retorno para obter resultados calculados."
      ],
      "metadata": {
        "id": "Szy5QTmxAnga"
      }
    },
    {
      "cell_type": "markdown",
      "source": [
        "# 9) Manipulação de Arquivos\n",
        "\n",
        "*Neste tópico, você aprenderá como trabalhar com arquivos em Python. Você explorará como abrir, ler, gravar e fechar arquivos de texto e binários. Além disso, será abordada a manipulação de diferentes formatos de arquivos, como CSV e JSON, e técnicas para lidar com arquivos grandes e processamento eficiente.*"
      ],
      "metadata": {
        "id": "WLzAPn6wAn3s"
      }
    },
    {
      "cell_type": "markdown",
      "source": [
        "**1) Exemplo de código: Abrindo e lendo um arquivo de texto**\n",
        "\n",
        "```python\n",
        "arquivo = open(\"texto.txt\", \"r\")\n",
        "conteudo = arquivo.read()\n",
        "print(conteudo)\n",
        "arquivo.close()\n",
        "```\n",
        "\n",
        "Explicação: Neste exemplo, utilizamos a função `open` para abrir um arquivo de texto chamado \"texto.txt\" no modo de leitura (\"r\"). Em seguida, utilizamos o método `read` para ler o conteúdo do arquivo e armazená-lo na variável `conteudo`. Por fim, exibimos o conteúdo do arquivo com a função `print` e fechamos o arquivo com o método `close`.\n",
        "\n",
        "**2) Exemplo de código: Gravando em um arquivo de texto**\n",
        "\n",
        "```python\n",
        "arquivo = open(\"texto.txt\", \"w\")\n",
        "arquivo.write(\"Olá, mundo!\")\n",
        "arquivo.close()\n",
        "```\n",
        "\n",
        "Explicação: Neste exemplo, utilizamos a função `open` para abrir um arquivo de texto chamado \"texto.txt\" no modo de gravação (\"w\"). Em seguida, utilizamos o método `write` para escrever a frase \"Olá, mundo!\" no arquivo. Por fim, fechamos o arquivo com o método `close`. Se o arquivo já existir, seu conteúdo será substituído pelo novo conteúdo; caso contrário, um novo arquivo será criado.\n",
        "\n",
        "**3) Exemplo de código: Manipulando arquivos CSV**\n",
        "\n",
        "```python\n",
        "import csv\n",
        "\n",
        "with open(\"dados.csv\", \"r\") as arquivo:\n",
        "    leitor_csv = csv.reader(arquivo)\n",
        "    for linha in leitor_csv:\n",
        "        print(linha)\n",
        "```\n",
        "\n",
        "Explicação: Neste exemplo, utilizamos o módulo `csv` para trabalhar com arquivos CSV. Utilizamos a declaração `with open` para abrir o arquivo \"dados.csv\" no modo de leitura (\"r\") e o módulo `csv.reader` para criar um leitor CSV associado ao arquivo. Em seguida, percorremos as linhas do arquivo utilizando um loop `for` e exibimos cada linha com a função `print`. O uso da declaração `with open` garante que o arquivo será fechado automaticamente após o seu uso.\n",
        "\n",
        "Esses exemplos demonstram algumas das operações básicas de manipulação de arquivos em Python. É possível abrir, ler e gravar arquivos de texto, além de trabalhar com formatos específicos, como arquivos CSV, utilizando módulos especializados, como o `csv`. A manipulação de arquivos é uma tarefa comum na programação, permitindo a leitura e gravação de dados em arquivos para armazenamento e processamento posterior."
      ],
      "metadata": {
        "id": "0y9D0sTTAn9Z"
      }
    },
    {
      "cell_type": "markdown",
      "source": [
        "# 10) Exceções\n",
        "\n",
        "*Neste tópico, você aprenderá sobre exceções em Python e como lidar com erros e falhas durante a execução do programa. Serão abordados os conceitos de exceções, captura de exceções com blocos try-except, tratamento de exceções específicas e uso das cláusulas `finally` e `else`. Você também aprenderá a criar suas próprias exceções personalizadas."
      ],
      "metadata": {
        "id": "Fc70XovoAoAV"
      }
    },
    {
      "cell_type": "markdown",
      "source": [
        "**1) Exemplo de código: Tratando uma exceção específica**\n",
        "\n",
        "```python\n",
        "try:\n",
        "    num1 = int(input(\"Digite um número: \"))\n",
        "    num2 = int(input(\"Digite outro número: \"))\n",
        "    resultado = num1 / num2\n",
        "    print(\"O resultado da divisão é:\", resultado)\n",
        "except ZeroDivisionError:\n",
        "    print(\"Erro: divisão por zero!\")\n",
        "```\n",
        "\n",
        "Explicação: Neste exemplo, utilizamos a declaração `try-except` para tratar uma exceção específica, no caso, a `ZeroDivisionError` que ocorre quando ocorre uma divisão por zero. Dentro do bloco `try`, solicitamos ao usuário que digite dois números, realizamos a divisão e exibimos o resultado. Caso ocorra a exceção `ZeroDivisionError`, o bloco `except` é executado e exibe a mensagem de erro \"Erro: divisão por zero!\".\n",
        "\n",
        "**2) Exemplo de código: Tratando exceções genéricas**\n",
        "\n",
        "```python\n",
        "try:\n",
        "    num = int(input(\"Digite um número: \"))\n",
        "    resultado = 100 / num\n",
        "    print(\"O resultado é:\", resultado)\n",
        "except:\n",
        "    print(\"Erro: algo deu errado!\")\n",
        "```\n",
        "\n",
        "Explicação: Neste exemplo, utilizamos a declaração `try-except` para tratar uma exceção genérica, ou seja, qualquer exceção que ocorra no bloco `try`. Dentro do bloco `try`, solicitamos ao usuário que digite um número, realizamos a operação de divisão e exibimos o resultado. Caso ocorra qualquer exceção, o bloco `except` é executado e exibe a mensagem de erro \"Erro: algo deu errado!\".\n",
        "\n",
        "**3) Exemplo de código: Utilizando a cláusula `finally`**\n",
        "\n",
        "```python\n",
        "try:\n",
        "    arquivo = open(\"dados.txt\", \"r\")\n",
        "    conteudo = arquivo.read()\n",
        "    print(conteudo)\n",
        "except FileNotFoundError:\n",
        "    print(\"Erro: arquivo não encontrado!\")\n",
        "finally:\n",
        "    arquivo.close()\n",
        "```\n",
        "\n",
        "Explicação: Neste exemplo, utilizamos a declaração `try-except-finally` para tratar a exceção `FileNotFoundError`, que ocorre quando o arquivo não é encontrado. Dentro do bloco `try`, abrimos o arquivo \"dados.txt\", lemos o seu conteúdo e o exibimos. Caso ocorra a exceção `FileNotFoundError`, o bloco `except` é executado e exibe a mensagem de erro \"Erro: arquivo não encontrado!\". Em seguida, o bloco `finally` é executado e garantimos que o arquivo será fechado, independentemente de ocorrer uma exceção ou não.\n",
        "\n",
        "Esses exemplos ilustram como tratar exceções em Python utilizando a declaração `try-except`. É possível tratar exceções específicas, como a `ZeroDivisionError`, ou exceções genéricas para lidar com erros inesperados. A cláusula `finally` pode ser utilizada para executar código que precisa ser executado, independentemente de ocorrer uma exceção ou não. O tratamento de exceções permite lidar com erros de forma controlada e realizar ações apropriadas para cada situação."
      ],
      "metadata": {
        "id": "eUcbplpxAvrS"
      }
    }
  ]
}