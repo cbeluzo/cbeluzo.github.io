{
 "cells": [
  {
   "cell_type": "markdown",
   "metadata": {},
   "source": [
    "### <strong> Filename: </strong> <em>covid_19_time_series_comfirmed_cases.ipynb<em>\n",
    "##### <strong>Description:</strong> <em>Creates an Scatter plot of all confirmed cases of COVID-19 in the world using dataset provided by https://data.humdata.org/dataset/novel-coronavirus-2019-ncov-cases</em>\n",
    "##### <strong>Author:</strong> <em> Carlos Eduardo Beluzo (cbeluzo@gmail.com)</em>\n",
    "##### <strong>Creation:</strong> <em> Mar/2020 </em>\n",
    "##### <strong>Version:</strong> <em> 2020.03-3 </em>"
   ]
  },
  {
   "cell_type": "code",
   "execution_count": 2,
   "metadata": {},
   "outputs": [],
   "source": [
    "import numpy as np\n",
    "import pandas as pd\n",
    "import datetime as dt\n",
    "import plotly.graph_objects as go\n",
    "import plotly as plt\n",
    "\n",
    "df = pd.read_csv('https://raw.githubusercontent.com/CSSEGISandData/COVID-19/master/csse_covid_19_data/csse_covid_19_time_series/time_series_covid19_confirmed_global.csv')\n",
    "df['Province/State'] = df['Province/State'].fillna('n/a')\n",
    "df = df.fillna(0)\n",
    "\n",
    "dfA = df.drop(['Province/State','Lat','Long'], axis = 1)\n",
    "dfA = dfA.groupby('Country/Region').sum().T\n",
    "dfA = dfA.reset_index()\n",
    "dfA = dfA.rename(columns = {'index':'Day'})\n",
    "dfA[['Day']] = pd.to_datetime(dfA['Day'],utc=False)\n",
    "\n",
    "fig = go.Figure()\n",
    "\n",
    "last_upt = dt.date.today() #- dt.timedelta(days=1)\n",
    "\n",
    "title = 'COVID-19 Confirmed Cases (' + \"{:%d, %b %Y}\".format(last_upt) +')'\n",
    "\n",
    "for country in dfA.columns[1:]:\n",
    "#for country in ['Brazil','China']:\n",
    "    fig.add_trace(go.Scatter(x=dfA.Day, \n",
    "                             y=dfA[country], \n",
    "                             mode='lines+markers', \n",
    "                             name=country,\n",
    "                             text=np.full((dfA.shape[1],1), country), \n",
    "                             line=dict(width=0.5), \n",
    "                             marker = dict(opacity= 0.3, line = dict(width = 0.5,color = 'rgb(0, 0, 0)')),\n",
    "                             hovertemplate = \"<b>%{text}</b><br>\" +\n",
    "                                             \"<b>Day</b>: %{x}<br>\" +\n",
    "                                             \"<b>Confirmed Cases</b>: %{y}<br>\" +\n",
    "                                             \"<extra></extra>\"\n",
    "                             )\n",
    "                 )\n",
    "\n",
    "fig.update_layout(xaxis_title='Days',\n",
    "                 yaxis_title='Confirmed Cases (log)',\n",
    "                 yaxis_type=\"log\",\n",
    "                 title_text=title)\n",
    "#fig.show()\n",
    "plt.offline.plot(fig, filename=\"../plotly/covid_19_time_series_comfirmed_cases.html\")\n",
    "dfA.to_csv (r'../data/covid_19_time_series_comfirmed_cases.csv', index = False, header=True)"
   ]
  },
  {
   "cell_type": "code",
   "execution_count": null,
   "metadata": {},
   "outputs": [],
   "source": []
  }
 ],
 "metadata": {
  "kernelspec": {
   "display_name": "Python 3",
   "language": "python",
   "name": "python3"
  },
  "language_info": {
   "codemirror_mode": {
    "name": "ipython",
    "version": 3
   },
   "file_extension": ".py",
   "mimetype": "text/x-python",
   "name": "python",
   "nbconvert_exporter": "python",
   "pygments_lexer": "ipython3",
   "version": "3.7.3"
  }
 },
 "nbformat": 4,
 "nbformat_minor": 2
}
